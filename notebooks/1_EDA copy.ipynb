{
 "cells": [
  {
   "cell_type": "markdown",
   "metadata": {},
   "source": [
    "# Preparación de datos\n",
    "## Importar bibliotecas"
   ]
  },
  {
   "cell_type": "code",
   "execution_count": 157,
   "metadata": {},
   "outputs": [],
   "source": [
    "import pandas as pd \n",
    "import numpy as np \n",
    "import scipy as sp\n",
    "import math\n",
    "import re\n",
    "from tqdm import tqdm\n",
    "import json\n",
    "import gzip\n",
    "from unidecode import unidecode\n",
    "import matplotlib.pyplot as plt\n",
    "\n",
    "import seaborn as sns\n",
    "from pyspark.sql import SparkSession\n",
    "from pyspark.sql.types import StructType, StructField, StringType, DoubleType, IntegerType, BooleanType\n",
    "from pyspark.sql.functions import from_json, col\n",
    "from pyspark.sql.functions import explode\n",
    "\n",
    "\n",
    "# Importar funciones necesarias\n",
    "from pyspark.sql.functions import col, to_date, weekofyear,year,trim, month, dayofmonth, sum\n",
    "from pyspark.sql.functions import col,  count, coalesce, sum as spark_sum\n",
    "from pyspark.sql.functions import regexp_replace, col, when, explode_outer,lit, to_timestamp,regexp_extract\n",
    "from pyspark.sql.functions import format_number\n",
    "from pyspark.sql.types import IntegerType,FloatType\n",
    "# Puedes obtener estadísticas específicas para una columna\n",
    "from pyspark.sql.functions import mean, min, max\n",
    "from pyspark.sql.functions import approx_count_distinct\n",
    "from pyspark.sql.window import Window\n",
    "from pyspark.sql.functions import log1p\n",
    "from pyspark.sql import functions as F\n",
    "\n",
    "from pyspark.ml.stat import Correlation\n",
    "from pyspark.ml.feature import VectorAssembler\n",
    "from pyspark.sql.types import *\n"
   ]
  },
  {
   "cell_type": "markdown",
   "metadata": {},
   "source": [
    "## Inicio de Sessión Cluster"
   ]
  },
  {
   "cell_type": "code",
   "execution_count": 2,
   "metadata": {},
   "outputs": [],
   "source": [
    "\n",
    "spark = SparkSession.builder.appName(\"MLops_Steam\").getOrCreate()\n",
    "#spark = SparkSession.builder.master(\"spark://localhost:7077\").appName(\"MLops1\").getOrCreate()\n"
   ]
  },
  {
   "cell_type": "code",
   "execution_count": 3,
   "metadata": {},
   "outputs": [
    {
     "data": {
      "text/html": [
       "\n",
       "            <div>\n",
       "                <p><b>SparkSession - in-memory</b></p>\n",
       "                \n",
       "        <div>\n",
       "            <p><b>SparkContext</b></p>\n",
       "\n",
       "            <p><a href=\"http://DESKTOP-BAETS3I:4040\">Spark UI</a></p>\n",
       "\n",
       "            <dl>\n",
       "              <dt>Version</dt>\n",
       "                <dd><code>v3.5.0</code></dd>\n",
       "              <dt>Master</dt>\n",
       "                <dd><code>local[*]</code></dd>\n",
       "              <dt>AppName</dt>\n",
       "                <dd><code>MLops_Steam</code></dd>\n",
       "            </dl>\n",
       "        </div>\n",
       "        \n",
       "            </div>\n",
       "        "
      ],
      "text/plain": [
       "<pyspark.sql.session.SparkSession at 0x25afc9a6050>"
      ]
     },
     "execution_count": 3,
     "metadata": {},
     "output_type": "execute_result"
    }
   ],
   "source": [
    "spark"
   ]
  },
  {
   "cell_type": "code",
   "execution_count": null,
   "metadata": {},
   "outputs": [],
   "source": []
  },
  {
   "cell_type": "markdown",
   "metadata": {},
   "source": [
    "## Importación de Datos `user_reviews.json.gz`"
   ]
  },
  {
   "cell_type": "code",
   "execution_count": null,
   "metadata": {},
   "outputs": [],
   "source": [
    "\n",
    "\n",
    "def clean_text(text):\n",
    "    # Reemplazar caracteres no ASCII con un espacio en blanco\n",
    "    cleaned_text = ''.join(char if ord(char) < 128 else ' ' for char in text)\n",
    "    return cleaned_text\n",
    "\n",
    "def read_and_clean_reviews(file_path):\n",
    "    cleaned_reviews = []\n",
    "    with gzip.open(file_path, 'rt', encoding='utf-8') as file:\n",
    "        for line in file:\n",
    "            try:\n",
    "                # Limpiar caracteres no ASCII\n",
    "                cleaned_line = clean_text(line)\n",
    "                \n",
    "                # Convertir la línea limpiada a un diccionario\n",
    "                review_dict = eval(cleaned_line)\n",
    "                \n",
    "                # Agregar el diccionario limpiado a la lista de revisiones\n",
    "                cleaned_reviews.append(review_dict)\n",
    "            except Exception as e:\n",
    "                print(f\"Error al procesar la línea: {line}\")\n",
    "                print(f\"Error: {e}\")\n",
    "    \n",
    "    return cleaned_reviews\n",
    "\n",
    "# Ejemplo de uso\n",
    "file_path = '../datasets/raw/user_reviews.json.gz'  # Reemplaza con la ruta real de tu archivo comprimido\n",
    "reviews = read_and_clean_reviews(file_path)\n",
    "\n",
    "# Crear una lista de tuplas con la información necesaria\n",
    "data = []\n",
    "for review in reviews:\n",
    "    user_id = review['user_id']\n",
    "    user_url = review['user_url']\n",
    "    user_reviews = review.get('reviews', [])\n",
    "    \n",
    "    for user_review in user_reviews:\n",
    "        item_id = user_review.get('item_id', '')\n",
    "        recommend = user_review.get('recommend', False)\n",
    "        review_text = user_review.get('review', '')\n",
    "        funny = user_review.get('funny', '')\n",
    "        posted = user_review.get('posted', '')\n",
    "        last_edited = user_review.get('last_edited', '')\n",
    "        helpful = user_review.get('helpful', '')\n",
    "\n",
    "        data.append((user_id, user_url, item_id, recommend, review_text, funny, posted, last_edited, helpful))\n",
    "\n",
    "# Crear el esquema del DataFrame\n",
    "schema = StructType([\n",
    "    StructField(\"user_id\", StringType(), True),\n",
    "    StructField(\"user_url\", StringType(), True),\n",
    "    StructField(\"item_id\", StringType(), True),\n",
    "    StructField(\"recommend\", BooleanType(), True),\n",
    "    StructField(\"review\", StringType(), True),\n",
    "    StructField(\"funny\", StringType(), True),\n",
    "    StructField(\"posted\", StringType(), True),\n",
    "    StructField(\"last_edited\", StringType(), True),\n",
    "    StructField(\"helpful\", StringType(), True)\n",
    "])\n",
    "\n",
    "# Crear el DataFrame de PySpark\n",
    "df = spark.createDataFrame(data, schema=schema)\n",
    "\n",
    "# Mostrar el DataFrame\n",
    "df.show(truncate=False)\n"
   ]
  },
  {
   "cell_type": "code",
   "execution_count": null,
   "metadata": {},
   "outputs": [],
   "source": [
    "# Selecciona la columna que quieres contar\n",
    "columna = \"user_id\"  # Reemplaza con el nombre real de tu columna\n",
    "# Toma una muestra del 10% de las filas para esa columna\n",
    "sampled_count = df.select(columna).sample(fraction=0.1, seed=42).agg(count(\"*\")).collect()[0][0]\n",
    "print((sampled_count, len(df.columns)))"
   ]
  },
  {
   "cell_type": "code",
   "execution_count": null,
   "metadata": {},
   "outputs": [],
   "source": []
  },
  {
   "cell_type": "markdown",
   "metadata": {},
   "source": [
    "### Taxonomía de Datos Analíticos `user_reviews.json.gz`\n",
    "- Se estructuro a 60'380 Registos y 9 Variables\n",
    "- Taxonomía original:"
   ]
  },
  {
   "cell_type": "markdown",
   "metadata": {},
   "source": [
    "#### user_reviews.gz.json\n",
    "\n",
    "| Variable   | Descripción                              | Ejemplo                                                                                                                                            |\n",
    "|-----------|------------------------------------------|----------------------------------------------------------------------------------------------------------------------------------------------------|\n",
    "| user_id   | Identificador único de usuario            | [76561197970982479, evcentric, maplemage]                                                                                                          |\n",
    "| user_url  | URL del perfil del usuario                | [http://steamcommunity.com/id/evcentric]                                                                                                          |\n",
    "| reviews   | Review de usuario en formato JSON         | {'funny': '', 'posted': 'Posted September 8, 2013.', 'last_edited': '', 'item_id': '227300', 'helpful': '0 of 1 people (0%) found this review helpful', 'recommend': True, 'review': \"For a simple (it's actually not all that simple but it can be!) truck driving Simulator, it is quite a fun and relaxing game. Playing on simple (or easy?) its just the basic WASD keys for driving but (if you want) the game can be much harder and realistic with having to manually change gears, much harder turning, etc. And reversing in this game is a ♥♥♥♥♥, as I imagine it would be with an actual truck. Luckily, you don't have to reverse park it but you get extra points if you do cause it is bloody hard. But this is surprisingly a nice truck driving game and I had a bit of fun with it.\"} |\n"
   ]
  },
  {
   "cell_type": "code",
   "execution_count": null,
   "metadata": {},
   "outputs": [],
   "source": []
  },
  {
   "cell_type": "code",
   "execution_count": null,
   "metadata": {},
   "outputs": [],
   "source": []
  },
  {
   "cell_type": "markdown",
   "metadata": {},
   "source": [
    "## Importación de Datos `users_items.json.gz`"
   ]
  },
  {
   "cell_type": "code",
   "execution_count": null,
   "metadata": {},
   "outputs": [],
   "source": [
    "\n",
    "def clean_text(text):\n",
    "    # Reemplazar caracteres no ASCII con un espacio en blanco\n",
    "    cleaned_text = ''.join(char if ord(char) < 128 else ' ' for char in text)\n",
    "    return cleaned_text\n",
    "\n",
    "def read_and_clean_reviews(file_path):\n",
    "    cleaned_reviews = []\n",
    "    with gzip.open(file_path, 'rt', encoding='utf-8') as file:\n",
    "        for line in file:\n",
    "            try:\n",
    "                # Limpiar caracteres no ASCII\n",
    "                cleaned_line = clean_text(line)\n",
    "                \n",
    "                # Convertir la línea limpiada a un diccionario\n",
    "                review_dict = eval(cleaned_line)\n",
    "                \n",
    "                # Agregar el diccionario limpiado a la lista de revisiones\n",
    "                cleaned_reviews.append(review_dict)\n",
    "            except Exception as e:\n",
    "                print(f\"Error al procesar la línea: {line}\")\n",
    "                print(f\"Error: {e}\")\n",
    "    \n",
    "    return cleaned_reviews\n",
    "\n",
    "# Ejemplo de uso\n",
    "file_path = '../datasets/raw/users_items.json.gz'  # Reemplaza con la ruta real de tu archivo comprimido\n",
    "items = read_and_clean_reviews(file_path)\n",
    "\n",
    "# Crear una lista de tuplas con la información necesaria\n",
    "data = []\n",
    "for item in items:\n",
    "    user_id = item.get('user_id', '')\n",
    "    items_count = item.get('items_count', '')\n",
    "    steam_id = item.get('steam_id', '')\n",
    "    user_url = item.get('user_url', '')\n",
    "    user_items = item.get('items', [])\n",
    "    \n",
    "    for user_item in user_items:\n",
    "        item_id = user_item.get('item_id', '')\n",
    "        item_name = user_item.get('item_name', '')\n",
    "        playtime_forever = user_item.get('playtime_forever', '')\n",
    "        playtime_2weeks = user_item.get('playtime_2weeks', '')\n",
    "\n",
    "        data.append((user_id, items_count, steam_id, user_url, item_id, item_name, playtime_forever, playtime_2weeks))\n",
    "\n",
    "# Crear el esquema del DataFrame\n",
    "schema = StructType([\n",
    "    StructField(\"user_id\", StringType(), True),\n",
    "    StructField(\"items_count\", StringType(), True),\n",
    "    StructField(\"steam_id\", StringType(), True),\n",
    "    StructField(\"user_url\", StringType(), True),\n",
    "    StructField(\"item_id\", StringType(), True),\n",
    "    StructField(\"item_name\", StringType(), True),\n",
    "    StructField(\"playtime_forever\", StringType(), True),\n",
    "    StructField(\"playtime_2weeks\", StringType(), True)\n",
    "])\n",
    "\n",
    "# Crear el DataFrame de PySpark\n",
    "df2 = spark.createDataFrame(data, schema=schema)\n",
    "\n",
    "# Mostrar el DataFrame\n",
    "#df2.show(5, truncate=False)\n"
   ]
  },
  {
   "cell_type": "code",
   "execution_count": null,
   "metadata": {},
   "outputs": [],
   "source": [
    "\"\"\"\n",
    "review_dict = {k: None if isinstance(v, float) and math.isnan(v) else v for k, v in review_dict.items()}\n",
    " \n",
    "\n",
    "     # Convertir listas a cadenas separadas por comas\n",
    "    tags_str = ', '.join(map(str, tags)) if tags else ''\n",
    "    specs_str = ', '.join(map(str, specs)) if specs else ''\n",
    "    genres_str = ', '.join(map(str, genres)) if genres else ''\n",
    "\n",
    "\"\"\" "
   ]
  },
  {
   "cell_type": "code",
   "execution_count": null,
   "metadata": {},
   "outputs": [],
   "source": [
    "# Selecciona la columna que quieres contar\n",
    "columna = \"user_id\"  # Reemplaza con el nombre real de tu columna\n",
    "\n",
    "# Toma una muestra del 10% de las filas para esa columna\n",
    "sampled_count = df.select(columna).sample(fraction=0.01, seed=42).agg(count(\"*\")).collect()[0][0]\n",
    "\n",
    "print((sampled_count, len(df.columns)))"
   ]
  },
  {
   "cell_type": "markdown",
   "metadata": {},
   "source": []
  },
  {
   "cell_type": "markdown",
   "metadata": {},
   "source": [
    "### Taxonomía de Datos Analíticos `users_items.json.gz`\n",
    "- Se estructuro a 63'200 Registos y 9 Variables\n",
    "- Taxonomía original:\n"
   ]
  },
  {
   "cell_type": "markdown",
   "metadata": {},
   "source": [
    "#### user_items.gz.json\n",
    "\n",
    "| Columna | Descripción | Ejemplo |\n",
    "|---------|-------------|---------|\n",
    "| user_id | Identificador único de usuario | [76561197970982479, evcentric, maplemage] |\n",
    "| user_url | URL del perfil del usuario | [http://steamcommunity.com/id/evcentric](http://steamcommunity.com/id/evcentric) |\n",
    "| items | Items de usuario en formato Json | {'item_id': '273350', 'item_name': 'Evolve Stage 2', 'playtime_forever': 58, 'playtime_2weeks': 0} |\n"
   ]
  },
  {
   "cell_type": "code",
   "execution_count": null,
   "metadata": {},
   "outputs": [],
   "source": []
  },
  {
   "cell_type": "markdown",
   "metadata": {},
   "source": [
    "## Importación de Datos `steam_games.json.gz`"
   ]
  },
  {
   "cell_type": "code",
   "execution_count": null,
   "metadata": {},
   "outputs": [],
   "source": [
    "def clean_text(text):\n",
    "    # Reemplazar caracteres no ASCII con un espacio en blanco\n",
    "    cleaned_text = ''.join(char if ord(char) < 128 else ' ' for char in text)\n",
    "    return cleaned_text\n",
    "\n",
    "def read_and_clean_reviews(file_path):\n",
    "    cleaned_reviews = []\n",
    "    with gzip.open(file_path, 'rt', encoding='utf-8') as file:\n",
    "        for line in file:\n",
    "            try:\n",
    "                # Limpiar caracteres no ASCII\n",
    "                cleaned_line = clean_text(line)\n",
    "                \n",
    "                # Convertir la línea limpiada a un diccionario\n",
    "                review_dict = json.loads(cleaned_line)\n",
    "                \n",
    "                # Reemplazar NaN con cadena vacía\n",
    "                review_dict = {k: '' if isinstance(v, float) and math.isnan(v) else v for k, v in review_dict.items()}\n",
    "                \n",
    "                # Agregar el diccionario limpiado a la lista de revisiones\n",
    "                cleaned_reviews.append(review_dict)\n",
    "            except Exception as e:\n",
    "                print(f\"Error al procesar la línea: {line}\")\n",
    "                print(f\"Error: {e}\")\n",
    "    \n",
    "    return cleaned_reviews\n",
    "\n",
    "\n",
    "# Ruta al archivo comprimido\n",
    "file_path = '../datasets/raw/steam_games.json.gz'  # Reemplaza con la ruta real de tu archivo comprimido\n",
    "games = read_and_clean_reviews(file_path)\n",
    "\n",
    "# Crear una lista de tuplas con la información necesaria\n",
    "data = []\n",
    "for game in games:\n",
    "    publisher = game.get('publisher', '')\n",
    "    app_name = game.get('app_name', '')\n",
    "    title = game.get('title', '')\n",
    "    url = game.get('url', '')\n",
    "    release_date = game.get('release_date', '')\n",
    "    tags = game.get('tags', [])\n",
    "    reviews_url = game.get('reviews_url', '')\n",
    "    specs = game.get('specs', [])\n",
    "    price = game.get('price', '')\n",
    "    early_access = game.get('early_access', '')\n",
    "    game_id = game.get('id', '')\n",
    "    developer = game.get('developer', '')\n",
    "    genres = game.get('genres', [])\n",
    "    \n",
    "    # Convertir listas a cadenas separadas por comas\n",
    "    tags_str = ', '.join(map(str, tags))\n",
    "    specs_str = ', '.join(map(str, specs))\n",
    "    genres_str = ', '.join(map(str, genres))\n",
    "\n",
    "    data.append((publisher, app_name, title, url, release_date, tags_str, reviews_url, specs_str,\n",
    "                 price, early_access, game_id, developer, genres_str))\n",
    "\n",
    "# Crear el esquema del DataFrame\n",
    "schema = StructType([\n",
    "    StructField(\"publisher\", StringType(), True),\n",
    "    StructField(\"app_name\", StringType(), True),\n",
    "    StructField(\"title\", StringType(), True),\n",
    "    StructField(\"url\", StringType(), True),\n",
    "    StructField(\"release_date\", StringType(), True),\n",
    "    StructField(\"tags_str\", StringType(), True),\n",
    "    StructField(\"reviews_url\", StringType(), True),\n",
    "    StructField(\"specs_str\", StringType(), True),\n",
    "    StructField(\"price\", StringType(), True),\n",
    "    StructField(\"early_access\", StringType(), True),\n",
    "    StructField(\"game_id\", StringType(), True),\n",
    "    StructField(\"developer\", StringType(), True),\n",
    "    StructField(\"genres_str\", StringType(), True),\n",
    "])\n",
    "\n",
    "# Crear el DataFrame de PySpark\n",
    "df3 = spark.createDataFrame(data, schema=schema)\n",
    "\n",
    "# Mostrar el DataFrame\n",
    "df3.show(5, truncate=False)\n",
    "\n",
    "# Detener la sesión de Spark\n",
    "#spark.stop()"
   ]
  },
  {
   "cell_type": "code",
   "execution_count": null,
   "metadata": {},
   "outputs": [],
   "source": [
    "# Selecciona la columna que quieres contar\n",
    "columna = \"publisher\"  # Reemplaza con el nombre real de tu columna\n",
    "\n",
    "# Toma una muestra del 10% de las filas para esa columna\n",
    "sampled_count = df3.select(columna).sample(fraction=0.01, seed=42).agg(count(\"*\")).collect()[0][0]\n",
    "\n",
    "print((sampled_count, len(df3.columns)))"
   ]
  },
  {
   "cell_type": "code",
   "execution_count": null,
   "metadata": {},
   "outputs": [],
   "source": [
    "df3.distinct().show(20, truncate=False)"
   ]
  },
  {
   "cell_type": "code",
   "execution_count": null,
   "metadata": {},
   "outputs": [],
   "source": []
  },
  {
   "cell_type": "markdown",
   "metadata": {},
   "source": [
    "### Taxonomía de Datos Analíticos `steam_games.json.gz`\n",
    "- Se estructuro a 128'100 Registos y 13 Variables\n",
    "- Se validó que la variable `metascore` no existe en el set de datos origen  \n",
    "- Taxonomía original:"
   ]
  },
  {
   "cell_type": "markdown",
   "metadata": {},
   "source": [
    "#### steam_games.gz.json\n",
    "\n",
    "| Variable          | Descripción                                      | Ejemplo                                                                                                            |\n",
    "|-------------------|--------------------------------------------------|--------------------------------------------------------------------------------------------------------------------|\n",
    "| publisher         | Empresa publicadora del contenido               | [Ubisoft, Dovetail Games - Trains, Degica]                                                                         |\n",
    "| genres            | Género del contenido                             | [Action, Adventure, Racing, Simulation, Strategy]                                                                   |\n",
    "| app_name          | Nombre del contenido                             | [Warzone, Soundtrack, Puzzle Blocks]                                                                                |\n",
    "| title             | Título del contenido                              | [The Dream Machine: Chapter 4, Fate/EXTELLA - Sweet Room Dream, Fate/EXTELLA - Charming Bunny]                       |\n",
    "| url               | URL de publicación del contenido                | [http://store.steampowered.com/app/761140/Lost_Summoner_Kitty/]                                                    |\n",
    "| release_date      | Fecha de lanzamiento                              | [2018-01-04]                                                                                                       |\n",
    "| tags              | Etiquetas de contenido                           | [Simulation, Indie, Action, Adventure, Funny, Open World, First-Person, Sandbox, Free to Play]                      |\n",
    "| discount_price    | Precio de descuento                               | [22.66, 0.49, 0.69]                                                                                                |\n",
    "| reviews_url       | Reviews de contenido                              | [http://steamcommunity.com/app/681550/reviews/?browsefilter=mostrecent&p=1]                                        |\n",
    "| specs             | Especificaciones                                 | [Multi-player, Co-op, Cross-Platform Multiplayer, Downloadable Content]                                            |\n",
    "| price             | Precio del contenido                              | [4.99, 9.99, Free to Use, Free to Play]                                                                             |\n",
    "| early_access      | Acceso temprano                                  | [False, True]                                                                                                      |\n",
    "| id                | Identificador único de contenido                 | [761140, 643980, 670290]                                                                                           |\n",
    "| developer         | Desarrollador                                    | [Kotoshiro, Secret Level SRL, Poolians.com]                                                                        |\n",
    "| metascore         | Score por Metacritic                             | [80, 74, 77, 75]                                                                                                   |\n"
   ]
  },
  {
   "cell_type": "markdown",
   "metadata": {},
   "source": []
  },
  {
   "cell_type": "code",
   "execution_count": null,
   "metadata": {},
   "outputs": [],
   "source": []
  },
  {
   "cell_type": "markdown",
   "metadata": {},
   "source": [
    "## Exportación Modelo de Datos a Parquet"
   ]
  },
  {
   "cell_type": "code",
   "execution_count": null,
   "metadata": {},
   "outputs": [],
   "source": [
    "# Guardar el DataFrame en formato Parquet\n",
    "# Ruta de destino para el archivo Parquet\n",
    "ruta_destino_parquet_i = '../datasets/raw/user_reviews_parquet'\n",
    "df.write.mode(\"overwrite\").parquet(ruta_destino_parquet_i)"
   ]
  },
  {
   "cell_type": "code",
   "execution_count": null,
   "metadata": {},
   "outputs": [],
   "source": [
    "# Guardar el DataFrame en formato Parquet\n",
    "# Ruta de destino para el archivo Parquet\n",
    "ruta_destino_parquet_ii = '../datasets/raw/users_items_parquet'\n",
    "df2.write.mode(\"overwrite\").parquet(ruta_destino_parquet_ii)"
   ]
  },
  {
   "cell_type": "code",
   "execution_count": null,
   "metadata": {},
   "outputs": [],
   "source": [
    "# Guardar el DataFrame en formato Parquet\n",
    "# Ruta de destino para el archivo Parquet\n",
    "ruta_destino_parquet_iii = '../datasets/raw/steam_games_parquet'\n",
    "df3.write.mode(\"overwrite\").parquet(ruta_destino_parquet_iii)"
   ]
  },
  {
   "cell_type": "code",
   "execution_count": null,
   "metadata": {},
   "outputs": [],
   "source": []
  },
  {
   "cell_type": "code",
   "execution_count": null,
   "metadata": {},
   "outputs": [],
   "source": []
  },
  {
   "cell_type": "markdown",
   "metadata": {},
   "source": [
    "## Exploratorio de la información EDA "
   ]
  },
  {
   "cell_type": "markdown",
   "metadata": {},
   "source": [
    "- **Importación de Modelo de datos sin cambios**"
   ]
  },
  {
   "cell_type": "code",
   "execution_count": 104,
   "metadata": {},
   "outputs": [],
   "source": [
    "# Leer el archivo Parquet\n",
    "steam_games = spark.read.parquet(\"../datasets/raw/steam_games_parquet\")\n",
    "user_reviews = spark.read.parquet(\"../datasets/raw/user_reviews_parquet\")\n",
    "users_items = spark.read.parquet(\"../datasets/raw/users_items_parquet\")"
   ]
  },
  {
   "cell_type": "markdown",
   "metadata": {},
   "source": [
    "- **Renombrar a las columnas**"
   ]
  },
  {
   "cell_type": "code",
   "execution_count": 105,
   "metadata": {},
   "outputs": [],
   "source": [
    "# Definir la función para limpiar y formatear los nombres de las columnas\n",
    "def limpiar_nombres_columnas(df):\n",
    "    # Función para limpiar y formatear un solo nombre de columna\n",
    "    def limpiar_nombre(nombre):\n",
    "        # Eliminar caracteres especiales y espacios\n",
    "        nombre = re.sub(r'\\W+', '_', nombre)\n",
    "        # Eliminar acentos\n",
    "        nombre = unidecode(nombre)\n",
    "        # Convertir a minúsculas\n",
    "        nombre = nombre.lower()\n",
    "        return nombre\n",
    "    \n",
    "    # Aplicar la función a cada nombre de columna\n",
    "    nuevos_nombres = [limpiar_nombre(col) for col in df.columns]\n",
    "    \n",
    "    # Renombrar las columnas en el DataFrame\n",
    "    for viejo, nuevo in zip(df.columns, nuevos_nombres):\n",
    "        df = df.withColumnRenamed(viejo, nuevo)\n",
    "    \n",
    "    return df\n",
    "\n",
    "# Aplicar la función a cada DataFrame\n",
    "steam_games = limpiar_nombres_columnas(steam_games)\n",
    "user_reviews = limpiar_nombres_columnas(user_reviews)\n",
    "users_items = limpiar_nombres_columnas(users_items)"
   ]
  },
  {
   "cell_type": "markdown",
   "metadata": {},
   "source": [
    "- **Propuesta de Modelo de datos sin cambios**"
   ]
  },
  {
   "cell_type": "code",
   "execution_count": 6,
   "metadata": {},
   "outputs": [
    {
     "name": "stdout",
     "output_type": "stream",
     "text": [
      "Modelo de datos de: steam_games \n",
      "Cantidad de registros : 120445 Cantidad de las Columnas : 13\n",
      "\n",
      "\n",
      "root\n",
      " |-- publisher: string (nullable = true)\n",
      " |-- app_name: string (nullable = true)\n",
      " |-- title: string (nullable = true)\n",
      " |-- url: string (nullable = true)\n",
      " |-- release_date: string (nullable = true)\n",
      " |-- tags_str: string (nullable = true)\n",
      " |-- reviews_url: string (nullable = true)\n",
      " |-- specs_str: string (nullable = true)\n",
      " |-- price: string (nullable = true)\n",
      " |-- early_access: string (nullable = true)\n",
      " |-- game_id: string (nullable = true)\n",
      " |-- developer: string (nullable = true)\n",
      " |-- genres_str: string (nullable = true)\n",
      "\n",
      "\n",
      "\n",
      "+-------------------+--------------------+--------------------+--------------------+------------+--------------------+--------------------+--------------------+-----+------------+-------+-------------------+--------------------+\n",
      "|          publisher|            app_name|               title|                 url|release_date|            tags_str|         reviews_url|           specs_str|price|early_access|game_id|          developer|          genres_str|\n",
      "+-------------------+--------------------+--------------------+--------------------+------------+--------------------+--------------------+--------------------+-----+------------+-------+-------------------+--------------------+\n",
      "| Neko Entertainment|      Wooden Sen'SeY|      Wooden Sen'SeY|http://store.stea...|  2013-12-05|Action, Indie, Pl...|http://steamcommu...|Single-player, St...| 9.99|       false| 259830|         Upper Byte|       Action, Indie|\n",
      "|Crescent Moon Games|Ravensword: Shado...|Ravensword: Shado...|http://store.stea...|  2013-12-06|RPG, Adventure, A...|http://steamcommu...|       Single-player| 6.99|       false| 253410|Crescent Moon Games|Action, Adventure...|\n",
      "+-------------------+--------------------+--------------------+--------------------+------------+--------------------+--------------------+--------------------+-----+------------+-------+-------------------+--------------------+\n",
      "only showing top 2 rows\n",
      "\n"
     ]
    }
   ],
   "source": [
    "print(\"Modelo de datos de: steam_games \")\n",
    "print(\"Cantidad de registros :\", steam_games.count(), \"Cantidad de las Columnas :\", len(steam_games.columns))\n",
    "print(\"\\n\")\n",
    "steam_games.printSchema()\n",
    "print(\"\\n\")\n",
    "steam_games.show(2)"
   ]
  },
  {
   "cell_type": "code",
   "execution_count": 7,
   "metadata": {},
   "outputs": [
    {
     "name": "stdout",
     "output_type": "stream",
     "text": [
      "Modelo de datos de: user_reviews \n",
      "Cantidad de registros: 59305 Cantidad de las Columnas: 9\n",
      "\n",
      "\n",
      "root\n",
      " |-- user_id: string (nullable = true)\n",
      " |-- user_url: string (nullable = true)\n",
      " |-- item_id: string (nullable = true)\n",
      " |-- recommend: boolean (nullable = true)\n",
      " |-- review: string (nullable = true)\n",
      " |-- funny: string (nullable = true)\n",
      " |-- posted: string (nullable = true)\n",
      " |-- last_edited: string (nullable = true)\n",
      " |-- helpful: string (nullable = true)\n",
      "\n",
      "\n",
      "\n",
      "+-------------------+------------------------------------------------+-------+---------+---------------------------------------------------------------------------------------------------------------------------------------------------------------------------------------------------------------------------------------------------------------------------------------------------------------------------------------------------------------------------------------------------------------------------------------------------------------------------------------------------------------------------------------------------------------------------------------------------------------------------------------------------------------------------------------------------------------------------------------------------------------------------------------------------------------------------------------------------------------------------------------------------------------------------------------------------------------------------------------------------------------------------------------------------------------------------------------------------------------------------------------------------------------------------------------------------------------------------------------------------------------------------------------------------------------------------------------------------------------------------------------------------------------------------------------------------------------------------------------------------------------------------------------------+-----+-----------------+----------------------+--------------+\n",
      "|user_id            |user_url                                        |item_id|recommend|review                                                                                                                                                                                                                                                                                                                                                                                                                                                                                                                                                                                                                                                                                                                                                                                                                                                                                                                                                                                                                                                                                                                                                                                                                                                                                                                                                                                                                                                                                                                                       |funny|posted           |last_edited           |helpful       |\n",
      "+-------------------+------------------------------------------------+-------+---------+---------------------------------------------------------------------------------------------------------------------------------------------------------------------------------------------------------------------------------------------------------------------------------------------------------------------------------------------------------------------------------------------------------------------------------------------------------------------------------------------------------------------------------------------------------------------------------------------------------------------------------------------------------------------------------------------------------------------------------------------------------------------------------------------------------------------------------------------------------------------------------------------------------------------------------------------------------------------------------------------------------------------------------------------------------------------------------------------------------------------------------------------------------------------------------------------------------------------------------------------------------------------------------------------------------------------------------------------------------------------------------------------------------------------------------------------------------------------------------------------------------------------------------------------+-----+-----------------+----------------------+--------------+\n",
      "|kitchenappliancewow|http://steamcommunity.com/id/kitchenappliancewow|322330 |true     |Don't Starve Together is an interesting game. It's an \"uncomprimising game full of science and magic\" according to the game's site, and I would agree. It's an interesting little survival game in an interesting little world. A survival game may turn off many, but I would argue that it's quite an interesting game. Or well, that was the last game. This game adds multiplayer, which in my opinion, is an absolutely genius idea. The original game, Don't Starve, turned me off after a couple hours of playing. Don't Starve Together, with the addition of multiplayer, makes the game much easier to enjoy. I also really love its sadistic art style.Bringing the game down is its aforementioned boringness (yeah, even with friends).I would recommend Don't Starve Together only to those who would like a nice survival challenge, just don't go in thinking the game'll be your new Team Fortress 2.I wouldn't recommend this game to the completionist crowd, however, as completing this game will leave you with a certain emptiness.Final Rating: 7.0/10                                                                                                                                                                                                                                                                                                                                                                                                                                                               |     |Posted August 19.|                      |No ratings yet|\n",
      "|kitchenappliancewow|http://steamcommunity.com/id/kitchenappliancewow|413150 |true     |Stardew Valley is a heartwarming game. You may pass this up in your queue as another boring indie game with pixel-art graphics, but if you look closer, you'll find a beautiful game, masterfully created by a single person, with great graphics, an intriguing plot, and a real sense of community. If you're anything like me, you'll get lost within the game within your first hour. Many draw comparisons with Harvest Moon, and I definitely agree, but as many see it as a reimagining, I see it as a spiritual successor; building upon the farming and marriage aspects of the game, and adding things like events, community, fishing, mining, combat, foraging, and the Community Centre.The few things that bring the game down are its audio bugs (very few), gamepad support (using a keyboard and mouse is much better), shallow combat scheme (could be built upon) and pixel sizings not matching sometimes, which never fails to look like a beautiful meadow with dead cows in it. By this I mean when watching TV and several inventory items, but all these are tiny nitpicks compared to the full game.I would definitely reccomend Stardew Valley, in fact, it's my Independent Game of the Year so far, and one of my favourite games of all time. And it's made by one person.Also, it's a pretty cool game to 100%. Achievements are fair and not too time-consuming, and it's an overall fun game, and the Community Centre thing is one of the best things to 100% this year, in my opinion.Final Rating: 9.1/10|     |Posted August 19.|Last edited August 19.|No ratings yet|\n",
      "+-------------------+------------------------------------------------+-------+---------+---------------------------------------------------------------------------------------------------------------------------------------------------------------------------------------------------------------------------------------------------------------------------------------------------------------------------------------------------------------------------------------------------------------------------------------------------------------------------------------------------------------------------------------------------------------------------------------------------------------------------------------------------------------------------------------------------------------------------------------------------------------------------------------------------------------------------------------------------------------------------------------------------------------------------------------------------------------------------------------------------------------------------------------------------------------------------------------------------------------------------------------------------------------------------------------------------------------------------------------------------------------------------------------------------------------------------------------------------------------------------------------------------------------------------------------------------------------------------------------------------------------------------------------------+-----+-----------------+----------------------+--------------+\n",
      "only showing top 2 rows\n",
      "\n"
     ]
    }
   ],
   "source": [
    "print(\"Modelo de datos de: user_reviews \")\n",
    "print(\"Cantidad de registros:\", user_reviews.count(), \"Cantidad de las Columnas:\", len(user_reviews.columns))\n",
    "print(\"\\n\")\n",
    "user_reviews.printSchema()\n",
    "print(\"\\n\")\n",
    "user_reviews.show(2, truncate=False)"
   ]
  },
  {
   "cell_type": "code",
   "execution_count": 8,
   "metadata": {},
   "outputs": [
    {
     "name": "stdout",
     "output_type": "stream",
     "text": [
      "Modelo de datos de: users_items \n",
      "Cantidad de registros 5153209 Cantidad de las Columnas 8\n",
      "\n",
      "\n",
      "root\n",
      " |-- user_id: string (nullable = true)\n",
      " |-- items_count: string (nullable = true)\n",
      " |-- steam_id: string (nullable = true)\n",
      " |-- user_url: string (nullable = true)\n",
      " |-- item_id: string (nullable = true)\n",
      " |-- item_name: string (nullable = true)\n",
      " |-- playtime_forever: string (nullable = true)\n",
      " |-- playtime_2weeks: string (nullable = true)\n",
      "\n",
      "\n",
      "\n",
      "+-----------------+-----------+-----------------+----------------------------------------------------+-------+---------------------+----------------+---------------+\n",
      "|user_id          |items_count|steam_id         |user_url                                            |item_id|item_name            |playtime_forever|playtime_2weeks|\n",
      "+-----------------+-----------+-----------------+----------------------------------------------------+-------+---------------------+----------------+---------------+\n",
      "|76561197971591953|11         |76561197971591953|http://steamcommunity.com/profiles/76561197971591953|10     |Counter-Strike       |0               |0              |\n",
      "|76561197971591953|11         |76561197971591953|http://steamcommunity.com/profiles/76561197971591953|20     |Team Fortress Classic|0               |0              |\n",
      "+-----------------+-----------+-----------------+----------------------------------------------------+-------+---------------------+----------------+---------------+\n",
      "only showing top 2 rows\n",
      "\n"
     ]
    }
   ],
   "source": [
    "print(\"Modelo de datos de: users_items \")\n",
    "print(\"Cantidad de registros\", users_items.count(), \"Cantidad de las Columnas\", len(users_items.columns))\n",
    "print(\"\\n\")\n",
    "users_items.printSchema()\n",
    "print(\"\\n\")\n",
    "users_items.show(2, truncate=False)"
   ]
  },
  {
   "cell_type": "code",
   "execution_count": 93,
   "metadata": {},
   "outputs": [],
   "source": [
    "# Aplicar la función a cada DataFrame\n",
    "steam_games = limpiar_nombres_columnas(steam_games)\n",
    "user_reviews = limpiar_nombres_columnas(user_reviews)\n",
    "users_items = limpiar_nombres_columnas(users_items)"
   ]
  },
  {
   "cell_type": "markdown",
   "metadata": {},
   "source": [
    "## Preprocesamiento de Datos\n",
    "- Nulos, vacios, carcteres en blanco y/o caracteres especiales."
   ]
  },
  {
   "cell_type": "code",
   "execution_count": 94,
   "metadata": {},
   "outputs": [
    {
     "name": "stdout",
     "output_type": "stream",
     "text": [
      "+---------+--------+-----+-----+------------+--------+-----------+---------+-----+------------+-------+---------+----------+\n",
      "|publisher|app_name|title|  url|release_date|tags_str|reviews_url|specs_str|price|early_access|game_id|developer|genres_str|\n",
      "+---------+--------+-----+-----+------------+--------+-----------+---------+-----+------------+-------+---------+----------+\n",
      "|    96362|   88312|90360|88310|       90377|   88473|      88312|    88980|89687|       88310|  88312|    91609|     91593|\n",
      "+---------+--------+-----+-----+------------+--------+-----------+---------+-----+------------+-------+---------+----------+\n",
      "\n",
      "+-------+--------+-------+---------+------+-----+------+-----------+-------+\n",
      "|user_id|user_url|item_id|recommend|review|funny|posted|last_edited|helpful|\n",
      "+-------+--------+-------+---------+------+-----+------+-----------+-------+\n",
      "|      0|       0|      0|        0|    30|51154|     0|      53165|      0|\n",
      "+-------+--------+-------+---------+------+-----+------+-----------+-------+\n",
      "\n",
      "+-------+-----------+--------+--------+-------+---------+----------------+---------------+\n",
      "|user_id|items_count|steam_id|user_url|item_id|item_name|playtime_forever|playtime_2weeks|\n",
      "+-------+-----------+--------+--------+-------+---------+----------------+---------------+\n",
      "|      0|          0|       0|       0|      0|        0|               0|              0|\n",
      "+-------+-----------+--------+--------+-------+---------+----------------+---------------+\n",
      "\n"
     ]
    }
   ],
   "source": [
    "# Define the function to count null or empty values for each column\n",
    "def count_null_values(df):\n",
    "    return df.select(\n",
    "        *[sum(coalesce(col(c) == \"\", col(c).isNull()).cast(\"int\")).alias(c) for c in df.columns]\n",
    "    )\n",
    "\n",
    "# Clean and count null values for each DataFrame\n",
    "steam_games = limpiar_nombres_columnas(steam_games)\n",
    "valores_vacios_por_columna_steam = count_null_values(steam_games)\n",
    "valores_vacios_por_columna_steam.show()\n",
    "\n",
    "user_reviews = limpiar_nombres_columnas(user_reviews)\n",
    "valores_vacios_por_columna_reviews = count_null_values(user_reviews)\n",
    "valores_vacios_por_columna_reviews.show()\n",
    "\n",
    "users_items = limpiar_nombres_columnas(users_items)\n",
    "valores_vacios_por_columna_items = count_null_values(users_items)\n",
    "valores_vacios_por_columna_items.show()"
   ]
  },
  {
   "cell_type": "markdown",
   "metadata": {},
   "source": [
    "- **Valores únicos Price `steam_games`**"
   ]
  },
  {
   "cell_type": "code",
   "execution_count": 106,
   "metadata": {},
   "outputs": [
    {
     "name": "stdout",
     "output_type": "stream",
     "text": [
      "['', '0.49', '0.5', '0.89', '0.95', '0.98', '0.99', '1.0', '1.25', '1.29', '1.39', '1.49', '1.5', '1.59', '1.87', '1.95', '1.99', '10.0', '10.49', '10.93', '10.96', '10.99', '109.99', '11.15', '11.99', '119.99', '12.0', '12.89', '12.99', '124.99', '129.99', '13.37', '13.98', '13.99', '131.4', '139.92', '14.95', '14.99', '149.99', '15.0', '15.99', '16.06', '16.99', '160.91', '17.99', '172.24', '179.0', '18.9', '18.99', '189.0', '189.96', '19.29', '19.95', '19.98', '19.99', '199.0', '199.99', '2.0', '2.3', '2.49', '2.66', '2.89', '2.97', '2.99', '20.0', '20.99', '202.76', '21.99', '22.99', '23.96', '23.99', '234.99', '24.99', '249.99', '26.99', '27.49', '27.99', '289.99', '29.96', '29.99', '299.99', '3.0', '3.33', '3.39', '3.49', '3.99', '30.0', '31.99', '32.99', '320.0', '34.99', '36.99', '38.85', '39.99', '399.0', '399.99', '4.0', '4.29', '4.49', '4.68', '4.99', '40.0', '41.99', '42.99', '44.98', '44.99', '49.0', '49.99', '499.99', '5.0', '5.49', '5.65', '5.99', '54.99', '59.95', '59.99', '599.0', '6.0', '6.48', '6.49', '6.66', '6.99', '61.99', '64.99', '69.99', '7.0', '7.49', '7.99', '71.7', '74.76', '74.99', '771.71', '79.99', '8.98', '8.99', '87.94', '89.99', '9.0', '9.69', '9.95', '9.98', '9.99', '99.0', '99.99', '995.0', 'Free', 'Free Demo', 'Free HITMAN™ Holiday Pack', 'Free Mod', 'Free Movie', 'Free To Play', 'Free to Play', 'Free to Try', 'Free to Use', 'Install Now', 'Install Theme', 'Play Now', 'Play WARMACHINE: Tactics Demo', 'Play for Free!', 'Play the Demo', 'Starting at $449.00', 'Starting at $499.00', 'Third-party']\n"
     ]
    }
   ],
   "source": [
    "# Get unique values in the \"price\" column as a list\n",
    "unique_prices = steam_games.select(\"price\").distinct().orderBy(\"price\").collect()\n",
    "\n",
    "# Display the unique values as an array\n",
    "price_array = [row.price for row in unique_prices]\n",
    "print(price_array)"
   ]
  },
  {
   "cell_type": "markdown",
   "metadata": {},
   "source": [
    "- **Estrategia de tratamiento de nulos, vacios, caracteres especiales Price `steam_games`**"
   ]
  },
  {
   "cell_type": "code",
   "execution_count": 122,
   "metadata": {},
   "outputs": [
    {
     "name": "stdout",
     "output_type": "stream",
     "text": [
      "+-----------------------+-----------------------------------------------------------------------+-----------------------------------------------------------------------+-----------------------------------------------------------------------------------------------------------+------------+------------------------------------------------------------------------------------------------------------------------------------------------------------------------------------------------------+-------------------------------------------------------------------------+--------------------------------------------------------------------------------------------------------------------------------------------------------------------------------------------------------------------------+------------------+------------+-------+-----------------------------+--------------------------------------------------------------------+\n",
      "|publisher              |app_name                                                               |title                                                                  |url                                                                                                        |release_date|tags_str                                                                                                                                                                                              |reviews_url                                                              |specs_str                                                                                                                                                                                                                 |price             |early_access|game_id|developer                    |genres_str                                                          |\n",
      "+-----------------------+-----------------------------------------------------------------------+-----------------------------------------------------------------------+-----------------------------------------------------------------------------------------------------------+------------+------------------------------------------------------------------------------------------------------------------------------------------------------------------------------------------------------+-------------------------------------------------------------------------+--------------------------------------------------------------------------------------------------------------------------------------------------------------------------------------------------------------------------+------------------+------------+-------+-----------------------------+--------------------------------------------------------------------+\n",
      "|Neko Entertainment     |Wooden Sen'SeY                                                         |Wooden Sen'SeY                                                         |http://store.steampowered.com/app/259830/Wooden_SenSeY/                                                    |2013-12-05  |Action, Indie, Platformer                                                                                                                                                                             |http://steamcommunity.com/app/259830/reviews/?browsefilter=mostrecent&p=1|Single-player, Steam Achievements, Full controller support, Steam Trading Cards, Steam Cloud, Steam Leaderboards                                                                                                          |9.989999771118164 |false       |259830 |Upper Byte                   |Action, Indie                                                       |\n",
      "|Crescent Moon Games    |Ravensword: Shadowlands                                                |Ravensword: Shadowlands                                                |http://store.steampowered.com/app/253410/Ravensword_Shadowlands/                                           |2013-12-06  |RPG, Adventure, Action, Indie, Open World, Singleplayer, Fantasy                                                                                                                                      |http://steamcommunity.com/app/253410/reviews/?browsefilter=mostrecent&p=1|Single-player                                                                                                                                                                                                             |6.989999771118164 |false       |253410 |Crescent Moon Games          |Action, Adventure, Indie, RPG                                       |\n",
      "|                       |DARK - Cult of the Dead DLC                                            |DARK - Cult of the Dead DLC                                            |http://store.steampowered.com/app/249170/DARK__Cult_of_the_Dead_DLC/                                       |2013-12-05  |Action, RPG, Stealth                                                                                                                                                                                  |http://steamcommunity.com/app/249170/reviews/?browsefilter=mostrecent&p=1|Single-player, Downloadable Content, Steam Achievements, Steam Trading Cards, Partial Controller Support, Steam Cloud                                                                                                     |5.989999771118164 |false       |249170 |Realmforge Studios           |Action, RPG                                                         |\n",
      "|Agharta Studio         |Shufflepuck Cantina Deluxe                                             |Shufflepuck Cantina Deluxe                                             |http://store.steampowered.com/app/259510/Shufflepuck_Cantina_Deluxe/                                       |2013-12-06  |Sports, Indie, Action, VR, Arcade, Casual, Sci-fi, Remake                                                                                                                                             |http://steamcommunity.com/app/259510/reviews/?browsefilter=mostrecent&p=1|Single-player, Steam Achievements, Steam Trading Cards, Steam Cloud, Stats, Steam Leaderboards                                                                                                                            |9.989999771118164 |false       |259510 |Agharta Studio               |Action, Indie, Sports                                               |\n",
      "|Surprise Attack        |Particulars                                                            |Particulars                                                            |http://store.steampowered.com/app/259470/Particulars/                                                      |2014-11-19  |Indie, Puzzle, Physics                                                                                                                                                                                |http://steamcommunity.com/app/259470/reviews/?browsefilter=mostrecent&p=1|Single-player, Steam Achievements, Full controller support, Steam Trading Cards, Steam Cloud                                                                                                                              |5.989999771118164 |false       |259470 |SeeThrough Studios           |Indie                                                               |\n",
      "|                       |Rocksmith® 2014 – Disturbed Song Pack                                  |Rocksmith® 2014 – Disturbed Song Pack                                  |http://store.steampowered.com/app/258391/Rocksmith_2014__Disturbed_Song_Pack/                              |2013-12-10  |Casual, Simulation                                                                                                                                                                                    |http://steamcommunity.com/app/258391/reviews/?browsefilter=mostrecent&p=1|Single-player, Shared/Split Screen, Downloadable Content, Steam Achievements, Steam Trading Cards, Partial Controller Support, Steam Cloud, Steam Leaderboards                                                            |7.989999771118164 |false       |258391 |Ubisoft - San Francisco      |Casual, Simulation                                                  |\n",
      "|Ubisoft                |Rocksmith® 2014 – Disturbed - “Down with the Sickness”                 |Rocksmith® 2014 – Disturbed - “Down with the Sickness”                 |http://store.steampowered.com/app/258388/Rocksmith_2014__Disturbed__Down_with_the_Sickness/                |2013-12-10  |Casual, Simulation                                                                                                                                                                                    |http://steamcommunity.com/app/258388/reviews/?browsefilter=mostrecent&p=1|Single-player, Shared/Split Screen, Downloadable Content, Steam Achievements, Steam Trading Cards, Partial Controller Support, Steam Cloud, Steam Leaderboards                                                            |2.990000009536743 |false       |258388 |Ubisoft - San Francisco      |Casual, Simulation                                                  |\n",
      "|Nival                  |King’s Bounty: Legions                                                 |King’s Bounty: Legions                                                 |http://store.steampowered.com/app/235400/Kings_Bounty_Legions/                                             |2013-12-10  |Free to Play, Strategy, RPG, Adventure, Turn-Based, Massively Multiplayer, Indie, Turn-Based Strategy, Fantasy                                                                                        |http://steamcommunity.com/app/235400/reviews/?browsefilter=mostrecent&p=1|Single-player, Multi-player, Cross-Platform Multiplayer                                                                                                                                                                   |-1.0              |false       |235400 |Nival                        |Adventure, Free to Play, Indie, Massively Multiplayer, RPG, Strategy|\n",
      "|Ubisoft                |Rocksmith® 2014 – Disturbed - “Voices”                                 |Rocksmith® 2014 – Disturbed - “Voices”                                 |http://store.steampowered.com/app/258390/Rocksmith_2014__Disturbed__Voices/                                |2013-12-10  |Casual, Simulation                                                                                                                                                                                    |http://steamcommunity.com/app/258390/reviews/?browsefilter=mostrecent&p=1|Single-player, Shared/Split Screen, Downloadable Content, Steam Achievements, Steam Trading Cards, Partial Controller Support, Steam Cloud, Steam Leaderboards                                                            |2.990000009536743 |false       |258390 |Ubisoft - San Francisco      |Casual, Simulation                                                  |\n",
      "|SCS Software           |Euro Truck Simulator 2 - Ice Cold Paint Jobs Pack                      |Euro Truck Simulator 2 - Ice Cold Paint Jobs Pack                      |http://store.steampowered.com/app/266930/Euro_Truck_Simulator_2__Ice_Cold_Paint_Jobs_Pack/                 |2013-12-10  |Simulation, Indie                                                                                                                                                                                     |http://steamcommunity.com/app/266930/reviews/?browsefilter=mostrecent&p=1|Single-player, Downloadable Content, Steam Achievements, Steam Trading Cards, Partial Controller Support, Includes level editor                                                                                           |1.9900000095367432|false       |266930 |SCS Software                 |Indie, Simulation                                                   |\n",
      "|Ubisoft                |Assassin’s Creed®IV Black Flag™ - MP Character Pack: Blackbeard's Wrath|Assassin’s Creed®IV Black Flag™ - MP Character Pack: Blackbeard's Wrath|http://store.steampowered.com/app/264802/Assassins_CreedIV_Black_Flag__MP_Character_Pack_Blackbeards_Wrath/|2013-12-10  |Adventure, Action                                                                                                                                                                                     |http://steamcommunity.com/app/264802/reviews/?browsefilter=mostrecent&p=1|Single-player, Multi-player, Downloadable Content                                                                                                                                                                         |2.990000009536743 |false       |264802 |Ubisoft Montreal             |Action, Adventure                                                   |\n",
      "|Curve Studios          |Velocity®Ultra - Soundtrack                                            |Velocity®Ultra - Soundtrack                                            |http://store.steampowered.com/app/267880/VelocityUltra__Soundtrack/                                        |2013-12-12  |Action                                                                                                                                                                                                |http://steamcommunity.com/app/267880/reviews/?browsefilter=mostrecent&p=1|Single-player, Downloadable Content                                                                                                                                                                                       |4.989999771118164 |false       |267880 |                             |Action                                                              |\n",
      "|Coffee Stain Publishing|Sanctum 2: The Last Stand                                              |Sanctum 2: The Last Stand                                              |http://store.steampowered.com/app/237090/Sanctum_2_The_Last_Stand/                                         |2013-12-12  |Indie, Action, Strategy                                                                                                                                                                               |http://steamcommunity.com/app/237090/reviews/?browsefilter=mostrecent&p=1|Single-player, Multi-player, Co-op, Downloadable Content, Steam Achievements, Full controller support, Steam Trading Cards, Steam Cloud, Steam Leaderboards                                                               |4.989999771118164 |false       |237090 |Coffee Stain Studios         |Action, Indie, Strategy                                             |\n",
      "|WildTangent            |FATE                                                                   |FATE                                                                   |http://store.steampowered.com/app/246840/FATE/                                                             |2005-05-18  |RPG, Action, Adventure, Dungeon Crawler, Classic, Action RPG, Hack and Slash, Fantasy, Singleplayer, Fishing, Casual                                                                                  |http://steamcommunity.com/app/246840/reviews/?browsefilter=mostrecent&p=1|Single-player, Steam Achievements, Steam Trading Cards, Steam Cloud, Steam Leaderboards                                                                                                                                   |7.989999771118164 |false       |246840 |WildTangent                  |Action, Adventure, RPG                                              |\n",
      "|Activision             |Call of Duty®: Ghosts - Festive Personalization Pack                   |Call of Duty®: Ghosts - Festive Personalization Pack                   |http://store.steampowered.com/app/268100/Call_of_Duty_Ghosts__Festive_Personalization_Pack/                |2013-12-12  |Action                                                                                                                                                                                                |http://steamcommunity.com/app/268100/reviews/?browsefilter=mostrecent&p=1|Single-player, Multi-player, Downloadable Content, Steam Achievements, Full controller support, Steam Cloud, Steam Leaderboards                                                                                           |-1.0              |false       |268100 |Infinity Ward                |Action                                                              |\n",
      "|tinyBuild              |Not The Robots                                                         |Not The Robots                                                         |http://store.steampowered.com/app/257120/Not_The_Robots/                                                   |2013-12-12  |Stealth, Indie, Strategy, Action, Rogue-like, Rogue-lite, Robots, Singleplayer, Procedural Generation, Sci-fi, Perma Death                                                                            |http://steamcommunity.com/app/257120/reviews/?browsefilter=mostrecent&p=1|Single-player, Steam Achievements, Full controller support, Steam Trading Cards, Steam Cloud                                                                                                                              |9.989999771118164 |false       |257120 |2DArray                      |Action, Indie, Strategy                                             |\n",
      "|Dreamatrix             |Spaceforce Constellations                                              |Spaceforce Constellations                                              |http://store.steampowered.com/app/263800/Spaceforce_Constellations/                                        |2013-12-12  |Strategy                                                                                                                                                                                              |http://steamcommunity.com/app/263800/reviews/?browsefilter=mostrecent&p=1|Single-player                                                                                                                                                                                                             |9.989999771118164 |false       |263800 |Dreamatrix                   |Strategy                                                            |\n",
      "|Netcore Games          |Tales of Maj'Eyal                                                      |Tales of Maj'Eyal                                                      |http://store.steampowered.com/app/259680/Tales_of_MajEyal/                                                 |2012-12-31  |Rogue-like, RPG, Turn-Based, Indie, Fantasy, Singleplayer, Difficult, Adventure, Moddable, Open World, Perma Death, Procedural Generation, Replay Value, Tactical, 2D, Top-Down, Dungeon Crawler, Loot|http://steamcommunity.com/app/259680/reviews/?browsefilter=mostrecent&p=1|Single-player, Steam Achievements, Steam Trading Cards, Steam Workshop, Steam Cloud                                                                                                                                       |6.989999771118164 |false       |259680 |Netcore Games                |Adventure, Indie, RPG                                               |\n",
      "|THQ Nordic             |Painkiller Hell & Damnation: City Critters                             |Painkiller Hell &amp; Damnation: City Critters                         |http://store.steampowered.com/app/229310/Painkiller_Hell__Damnation_City_Critters/                         |2013-12-13  |Action                                                                                                                                                                                                |http://steamcommunity.com/app/229310/reviews/?browsefilter=mostrecent&p=1|Single-player, Multi-player, Co-op, Shared/Split Screen, Downloadable Content, Steam Achievements, Steam Trading Cards, Steam Workshop, Partial Controller Support, Steam Cloud, Steam Leaderboards, Includes level editor|6.989999771118164 |false       |229310 |The Farm 51                  |Action                                                              |\n",
      "|Devolver Digital       |Marc Eckō's Getting Up: Contents Under Pressure                        |Marc Eckō's Getting Up: Contents Under Pressure                        |http://store.steampowered.com/app/260190/Marc_Ecks_Getting_Up_Contents_Under_Pressure/                     |2006-02-14  |Action, Adventure, Parkour, Great Soundtrack, Third Person, Classic, Atmospheric, Stealth, Singleplayer                                                                                               |http://steamcommunity.com/app/260190/reviews/?browsefilter=mostrecent&p=1|Single-player, Partial Controller Support                                                                                                                                                                                 |14.989999771118164|false       |260190 |The Collective,General Arcade|Action, Adventure                                                   |\n",
      "+-----------------------+-----------------------------------------------------------------------+-----------------------------------------------------------------------+-----------------------------------------------------------------------------------------------------------+------------+------------------------------------------------------------------------------------------------------------------------------------------------------------------------------------------------------+-------------------------------------------------------------------------+--------------------------------------------------------------------------------------------------------------------------------------------------------------------------------------------------------------------------+------------------+------------+-------+-----------------------------+--------------------------------------------------------------------+\n",
      "only showing top 20 rows\n",
      "\n",
      "[-1.0, 0.49000000953674316, 0.5, 0.8899999856948853, 0.949999988079071, 0.9800000190734863, 0.9900000095367432, 1.0, 1.25, 1.2899999618530273, 1.3899999856948853, 1.4900000095367432, 1.5, 1.590000033378601, 1.8700000047683716, 1.9500000476837158, 1.9900000095367432, 2.0, 2.299999952316284, 2.490000009536743, 2.6600000858306885, 2.890000104904175, 2.9700000286102295, 2.990000009536743, 3.0, 3.3299999237060547, 3.390000104904175, 3.490000009536743, 3.990000009536743, 4.0, 4.289999961853027, 4.489999771118164, 4.679999828338623, 4.989999771118164, 5.0, 5.489999771118164, 5.650000095367432, 5.989999771118164, 6.0, 6.480000019073486, 6.489999771118164, 6.659999847412109, 6.989999771118164, 7.0, 7.489999771118164, 7.989999771118164, 8.979999542236328, 8.989999771118164, 9.0, 9.6899995803833, 9.949999809265137, 9.979999542236328, 9.989999771118164, 10.0, 10.489999771118164, 10.930000305175781, 10.960000038146973, 10.989999771118164, 11.149999618530273, 11.989999771118164, 12.0, 12.890000343322754, 12.989999771118164, 13.369999885559082, 13.979999542236328, 13.989999771118164, 14.949999809265137, 14.989999771118164, 15.0, 15.989999771118164, 16.059999465942383, 16.989999771118164, 17.989999771118164, 18.899999618530273, 18.989999771118164, 19.290000915527344, 19.950000762939453, 19.979999542236328, 19.989999771118164, 20.0, 20.989999771118164, 21.989999771118164, 22.989999771118164, 23.959999084472656, 23.989999771118164, 24.989999771118164, 26.989999771118164, 27.489999771118164, 27.989999771118164, 29.959999084472656, 29.989999771118164, 30.0, 31.989999771118164, 32.9900016784668, 34.9900016784668, 36.9900016784668, 38.849998474121094, 39.9900016784668, 40.0, 41.9900016784668, 42.9900016784668, 44.97999954223633, 44.9900016784668, 49.0, 49.9900016784668, 54.9900016784668, 59.95000076293945, 59.9900016784668, 61.9900016784668, 64.98999786376953, 69.98999786376953, 71.69999694824219, 74.76000213623047, 74.98999786376953, 79.98999786376953, 87.94000244140625, 89.98999786376953, 99.0, 99.98999786376953, 109.98999786376953, 119.98999786376953, 124.98999786376953, 129.99000549316406, 131.39999389648438, 139.9199981689453, 149.99000549316406, 160.91000366210938, 172.24000549316406, 179.0, 189.0, 189.9600067138672, 199.0, 199.99000549316406, 202.75999450683594, 234.99000549316406, 249.99000549316406, 289.989990234375, 299.989990234375, 320.0, 399.0, 399.989990234375, 449.0, 499.0, 499.989990234375, 599.0, 771.7100219726562, 995.0]\n"
     ]
    }
   ],
   "source": [
    "# Tratar los valores en la columna 'price'\n",
    "steam_games = steam_games.withColumn(\n",
    "    \"price\",\n",
    "    when(steam_games[\"price\"].isin(\"\", \"Free\", \"Free Demo\", \"Free HITMAN™ Holiday Pack\", \"Free Mod\", \"Free Movie\", \"Free To Play\", \"Free to Play\", \"Free to Try\", \"Free to Use\", \"Install Now\", \"Install Theme\", \"Play Now\", \"Play WARMACHINE: Tactics Demo\", \"Play for Free!\", \"Play the Demo\", \"Third-party\"), -1.0)\n",
    "    .otherwise(regexp_extract(steam_games[\"price\"], r'\\d+(\\.\\d+)?', 0).cast(\"float\"))\n",
    ")\n",
    "\n",
    "# Mostrar el DataFrame resultante\n",
    "steam_games.show(truncate=False)\n",
    "unique_prices = steam_games.select(\"price\").distinct().orderBy(\"price\").collect()\n",
    "# Convertir a array\n",
    "price_array = [row.price for row in unique_prices]\n",
    "print(price_array)"
   ]
  },
  {
   "cell_type": "code",
   "execution_count": null,
   "metadata": {},
   "outputs": [],
   "source": []
  },
  {
   "cell_type": "markdown",
   "metadata": {},
   "source": [
    "- **Validación tratamiento para Price `steam_games`**"
   ]
  },
  {
   "cell_type": "code",
   "execution_count": 124,
   "metadata": {},
   "outputs": [
    {
     "name": "stdout",
     "output_type": "stream",
     "text": [
      "+---------+--------+-----+-----+------------+--------+-----------+---------+-----+------------+-------+---------+----------+\n",
      "|publisher|app_name|title|  url|release_date|tags_str|reviews_url|specs_str|price|early_access|game_id|developer|genres_str|\n",
      "+---------+--------+-----+-----+------------+--------+-----------+---------+-----+------------+-------+---------+----------+\n",
      "|    96362|   88312|90360|88310|       90377|   88473|      88312|    88980|    0|       88310|  88312|    91609|     91593|\n",
      "+---------+--------+-----+-----+------------+--------+-----------+---------+-----+------------+-------+---------+----------+\n",
      "\n"
     ]
    }
   ],
   "source": [
    "# Clean and count null values for each DataFrame\n",
    "steam_games_transformed = limpiar_nombres_columnas(steam_games)\n",
    "valores_vacios_por_columna_steam = count_null_values(steam_games_transformed)\n",
    "valores_vacios_por_columna_steam.show()"
   ]
  },
  {
   "cell_type": "code",
   "execution_count": null,
   "metadata": {},
   "outputs": [],
   "source": []
  },
  {
   "cell_type": "markdown",
   "metadata": {},
   "source": [
    "- **tratamiento para release_date creación de year,early_access `steam_games`**"
   ]
  },
  {
   "cell_type": "code",
   "execution_count": 114,
   "metadata": {},
   "outputs": [
    {
     "name": "stdout",
     "output_type": "stream",
     "text": [
      "['', '\"\"\"Soon\"\"\"', '0̵1̴0̵0̶1̷0̶0̵0̴ ̴0̶0̶1̶1̶0̷0̶1̵1̴ ̸0̶0̶1̶1̵0̶1̷0̴0̵ ̴0̶1̷0̸1̵0̷0̴1̶0̴ ̴0̷0̴1̷1̶0̶1̵1̷1̵ ̵', '14 July', '15.01.2018', '1970-07-15', '1970-12-16', '1975-12-31', '1980-01-01', '1981-01-01', '1981-04-22', '1982-01-01', '1982-05-21', '1982-12-31', '1983-01-01', '1983-06-19', '1983-11-01', '1984-01-01', '1984-03-02', '1984-04-29', '1984-11-01', '1985-01-01', '1985-07-10', '1985-10-16', '1986-05-01', '1987-01-01', '1987-04-17', '1987-08-21', '1987-09-07', '1987-09-30', '1987-10-05', '1987-11-06', '1988-01-01', '1988-04-16', '1988-05-01', '1988-06-01', '1988-09-23', '1988-12-23', '1989-01-01', '1989-04-05', '1989-07-01', '1989-07-14', '1989-10-01', '1990-01-01', '1990-09-07', '1990-12-14', '1990-12-19', '1991-01-01', '1991-01-02', '1991-02-01', '1991-06-16', '1991-07-01', '1991-10-01', '1991-10-09', '1991-10-23', '1991-12-09', '1992-01-01', '1992-02-01', '1992-03-01', '1992-05-01', '1992-06-01', '1992-10-01', '1992-10-23', '1992-11-01', '1992-11-17', '1993-01-01', '1993-01-02', '1993-01-23', '1993-02-01', '1993-02-27', '1993-03-26', '1993-04-07', '1993-04-09', '1993-04-28', '1993-05-27', '1993-06-05', '1993-08-03', '1993-08-09', '1993-08-11', '1993-08-18', '1993-09-24', '1993-10-01', '1993-10-10', '1993-10-16', '1993-11-11', '1993-11-24', '1993-12-01', '1993-12-03', '1993-12-10', '1993-12-17', '1993-12-31', '1994-01-01', '1994-01-02', '1994-03-19', '1994-03-25', '1994-03-28', '1994-04-01', '1994-04-18', '1994-05-05', '1994-06-01', '1994-06-02', '1994-07-01', '1994-07-15', '1994-08-03', '1994-08-15', '1994-09-30', '1994-10-14', '1994-10-17', '1994-10-19', '1994-10-28', '1994-10-31', '1994-11-04', '1994-11-30', '1994-12-08', '1994-12-21', '1995-01-01', '1995-02-10', '1995-02-13', '1995-02-15', '1995-04-01', '1995-04-30', '1995-05-01', '1995-06-01', '1995-06-30', '1995-07-01', '1995-07-31', '1995-09-12', '1995-09-26', '1995-09-30', '1995-10-01', '1995-10-30', '1995-10-31', '1995-11-01', '1995-11-08', '1995-11-11', '1995-11-30', '1995-12-29', '1995-12-30', '1995-12-31', '1996-01-01', '1996-01-02', '1996-01-12', '1996-01-19', '1996-02-29', '1996-03-06', '1996-03-29', '1996-04-30', '1996-05-31', '1996-06-17', '1996-06-30', '1996-07-31', '1996-08-31', '1996-09-06', '1996-09-25', '1996-09-30', '1996-10-04', '1996-10-31', '1996-11-19', '1996-11-22', '1996-11-30', '1996-12-03', '1996-12-19', '1996-12-31', '1997-01-01', '1997-02-28', '1997-03-01', '1997-03-31', '1997-04-17', '1997-04-30', '1997-05-01', '1997-05-06', '1997-05-09', '1997-05-13', '1997-05-20', '1997-06-19', '1997-06-30', '1997-07-04', '1997-07-15', '1997-07-31', '1997-09-01', '1997-09-17', '1997-09-30', '1997-10-09', '1997-10-17', '1997-10-29', '1997-10-31', '1997-11-11', '1997-11-14', '1997-11-19', '1997-11-21', '1997-11-30', '1997-12-01', '1997-12-02', '1997-12-03', '1997-12-12', '1998-01-01', '1998-01-06', '1998-01-29', '1998-01-31', '1998-02-03', '1998-02-24', '1998-02-28', '1998-03-06', '1998-03-27', '1998-04-02', '1998-04-04', '1998-04-13', '1998-04-20', '1998-04-21', '1998-04-30', '1998-05-01', '1998-05-31', '1998-06-08', '1998-06-15', '1998-06-19', '1998-06-22', '1998-06-25', '1998-06-30', '1998-07-15', '1998-07-31', '1998-08-01', '1998-08-25', '1998-08-28', '1998-09-01', '1998-09-07', '1998-09-30', '1998-10-02', '1998-10-06', '1998-10-15', '1998-10-31', '1998-11-08', '1998-11-17', '1998-11-30', '1998-12-01', '1998-12-03', '1998-12-14', '1998-12-22', '1998-12-31', '1999-01-01', '1999-01-07', '1999-01-12', '1999-01-19', '1999-02-09', '1999-02-18', '1999-02-24', '1999-03-01', '1999-03-09', '1999-03-15', '1999-03-22', '1999-03-28', '1999-03-31', '1999-04-01', '1999-04-07', '1999-04-30', '1999-05-15', '1999-05-30', '1999-05-31', '1999-06-01', '1999-06-04', '1999-07-01', '1999-07-31', '1999-08-11', '1999-08-31', '1999-09-01', '1999-09-09', '1999-10-01', '1999-10-04', '1999-10-13', '1999-10-15', '1999-10-22', '1999-10-25', '1999-10-31', '1999-11-01', '1999-11-02', '1999-11-05', '1999-11-18', '1999-11-30', '1999-12-01', '1999-12-05', '1999-12-31', '1st Quarter 2018', '2000-01-01', '2000-01-31', '2000-03-01', '2000-03-21', '2000-03-28', '2000-03-31', '2000-04-01', '2000-04-14', '2000-05-01', '2000-05-20', '2000-05-23', '2000-05-31', '2000-06-01', '2000-06-07', '2000-06-13', '2000-06-14', '2000-06-15', '2000-06-22', '2000-06-30', '2000-07-14', '2000-08-15', '2000-10-06', '2000-10-20', '2000-10-25', '2000-11-01', '2000-11-03', '2000-11-07', '2000-11-15', '2000-11-17', '2000-11-23', '2000-12-13', '2000-12-14', '2000-12-19', '2000-12-20', '2000-12-31', '2001-01-01', '2001-01-02', '2001-01-24', '2001-02-11', '2001-02-20', '2001-02-27', '2001-03-01', '2001-03-15', '2001-03-19', '2001-03-21', '2001-03-23', '2001-03-30', '2001-04-01', '2001-04-15', '2001-04-19', '2001-04-24', '2001-05-22', '2001-06-01', '2001-06-06', '2001-06-08', '2001-06-09', '2001-06-14', '2001-06-15', '2001-06-19', '2001-06-27', '2001-06-29', '2001-07-14', '2001-07-21', '2001-07-23', '2001-07-25', '2001-07-30', '2001-08-01', '2001-08-07', '2001-08-18', '2001-08-20', '2001-08-28', '2001-09-18', '2001-10-01', '2001-10-09', '2001-10-10', '2001-10-16', '2001-10-19', '2001-10-30', '2001-10-31', '2001-11-01', '2001-11-06', '2001-11-09', '2001-11-12', '2001-11-13', '2001-11-15', '2001-11-18', '2001-11-20', '2001-11-27', '2001-11-30', '2001-12-01', '2001-12-15', '2001-12-17', '2001-12-18', '2002-01-01', '2002-01-21', '2002-01-30', '2002-02-05', '2002-02-15', '2002-02-26', '2002-03-12', '2002-03-26', '2002-03-28', '2002-03-29', '2002-03-30', '2002-03-31', '2002-04-05', '2002-04-09', '2002-04-13', '2002-04-29', '2002-05-01', '2002-05-21', '2002-05-31', '2002-06-19', '2002-06-27', '2002-07-31', '2002-08-13', '2002-08-20', '2002-08-25', '2002-08-27', '2002-08-28', '2002-08-30', '2002-08-31', '2002-09-01', '2002-09-04', '2002-09-13', '2002-09-20', '2002-09-24', '2002-09-25', '2002-10-01', '2002-10-15', '2002-10-25', '2002-10-31', '2002-11-01', '2002-11-08', '2002-11-09', '2002-11-12', '2002-11-18', '2002-12-21', '2003-01-07', '2003-01-20', '2003-02-03', '2003-02-07', '2003-02-18', '2003-02-25', '2003-03-05', '2003-03-10', '2003-03-18', '2003-03-24', '2003-03-27', '2003-04-01', '2003-04-09', '2003-04-13', '2003-05-01', '2003-05-06', '2003-05-08', '2003-05-11', '2003-05-13', '2003-06-01', '2003-06-24', '2003-07-01', '2003-07-15', '2003-07-29', '2003-07-30', '2003-08-11', '2003-08-12', '2003-08-15', '2003-08-18', '2003-08-19', '2003-08-22', '2003-08-23', '2003-09-01', '2003-09-09', '2003-09-15', '2003-09-16', '2003-09-22', '2003-09-23', '2003-09-25', '2003-09-30', '2003-10-01', '2003-10-03', '2003-10-14', '2003-10-17', '2003-10-21', '2003-10-23', '2003-10-24', '2003-10-28', '2003-10-29', '2003-11-01', '2003-11-10', '2003-11-11', '2003-11-13', '2003-11-14', '2003-11-19', '2003-11-22', '2003-11-26', '2003-11-27', '2003-12-01', '2003-12-02', '2003-12-03', '2003-12-11', '2003-12-17', '2003-12-20', '2003-12-30', '2003-12-31', '2004-01-01', '2004-01-14', '2004-01-20', '2004-02-03', '2004-02-05', '2004-02-07', '2004-02-19', '2004-02-20', '2004-03-01', '2004-03-05', '2004-03-08', '2004-03-10', '2004-03-16', '2004-03-17', '2004-03-23', '2004-03-29', '2004-03-30', '2004-04-01', '2004-04-13', '2004-04-20', '2004-04-27', '2004-04-30', '2004-05-04', '2004-05-11', '2004-05-17', '2004-05-21', '2004-06-01', '2004-06-02', '2004-06-08', '2004-06-11', '2004-06-16', '2004-06-18', '2004-06-22', '2004-06-24', '2004-06-25', '2004-06-29', '2004-07-07', '2004-08-01', '2004-08-02', '2004-08-03', '2004-08-21', '2004-08-24', '2004-09-07', '2004-09-09', '2004-09-10', '2004-09-15', '2004-09-17', '2004-09-21', '2004-09-22', '2004-09-28', '2004-09-30', '2004-10-11', '2004-10-25', '2004-10-31', '2004-11-01', '2004-11-05', '2004-11-09', '2004-11-11', '2004-11-16', '2004-11-22', '2004-11-29', '2004-11-30', '2004-12-23', '2004-12-24', '2005-01-01', '2005-01-08', '2005-01-21', '2005-02-01', '2005-02-08', '2005-02-11', '2005-02-15', '2005-02-22', '2005-02-28', '2005-03-01', '2005-03-03', '2005-03-08', '2005-03-14', '2005-03-15', '2005-03-24', '2005-03-25', '2005-03-28', '2005-03-29', '2005-04-01', '2005-04-03', '2005-04-05', '2005-04-06', '2005-04-19', '2005-04-26', '2005-04-28', '2005-04-29', '2005-05-01', '2005-05-06', '2005-05-10', '2005-05-15', '2005-05-16', '2005-05-18', '2005-06-01', '2005-06-06', '2005-06-07', '2005-06-17', '2005-07-01', '2005-07-02', '2005-07-11', '2005-07-12', '2005-07-14', '2005-07-21', '2005-07-26', '2005-07-29', '2005-08-02', '2005-08-06', '2005-08-09', '2005-08-16', '2005-08-31', '2005-09-01', '2005-09-10', '2005-09-15', '2005-09-16', '2005-09-20', '2005-09-26', '2005-09-27', '2005-10-01', '2005-10-04', '2005-10-11', '2005-10-12', '2005-10-17', '2005-10-18', '2005-10-20', '2005-10-21', '2005-10-25', '2005-10-27', '2005-11-01', '2005-11-03', '2005-11-04', '2005-11-05', '2005-11-08', '2005-11-14', '2005-11-15', '2005-11-17', '2005-11-20', '2005-11-25', '2005-12-07', '2005-12-08', '2006-01-01', '2006-01-06', '2006-01-16', '2006-02-07', '2006-02-14', '2006-02-16', '2006-02-21', '2006-03-01', '2006-03-14', '2006-03-16', '2006-03-23', '2006-03-25', '2006-03-27', '2006-04-01', '2006-04-07', '2006-04-11', '2006-04-12', '2006-04-13', '2006-04-17', '2006-04-18', '2006-04-26', '2006-04-28', '2006-05-01', '2006-05-02', '2006-05-08', '2006-05-10', '2006-05-12', '2006-05-23', '2006-05-24', '2006-05-30', '2006-06-01', '2006-06-04', '2006-06-06', '2006-06-08', '2006-06-19', '2006-06-20', '2006-06-26', '2006-07-06', '2006-07-11', '2006-07-14', '2006-07-19', '2006-07-24', '2006-07-26', '2006-08-01', '2006-08-02', '2006-08-05', '2006-08-08', '2006-08-14', '2006-08-18', '2006-08-23', '2006-08-24', '2006-08-29', '2006-08-30', '2006-09-01', '2006-09-05', '2006-09-08', '2006-09-09', '2006-09-10', '2006-09-11', '2006-09-12', '2006-09-15', '2006-09-19', '2006-09-22', '2006-09-25', '2006-09-29', '2006-10-01', '2006-10-05', '2006-10-09', '2006-10-12', '2006-10-13', '2006-10-16', '2006-10-17', '2006-10-19', '2006-10-24', '2006-10-25', '2006-10-26', '2006-10-27', '2006-10-31', '2006-11-01', '2006-11-03', '2006-11-07', '2006-11-14', '2006-11-15', '2006-11-20', '2006-11-22', '2006-11-24', '2006-11-28', '2006-11-29', '2006-12-01', '2006-12-07', '2006-12-08', '2006-12-12', '2006-12-14', '2006-12-15', '2006-12-16', '2006-12-17', '2006-12-18', '2006-12-19', '2006-12-20', '2006-12-21', '2006-12-26', '2006-12-31', '2007-01-01', '2007-01-09', '2007-01-10', '2007-01-15', '2007-01-23', '2007-01-25', '2007-01-26', '2007-01-30', '2007-02-01', '2007-02-06', '2007-02-08', '2007-02-14', '2007-02-20', '2007-02-22', '2007-02-27', '2007-02-28', '2007-03-01', '2007-03-04', '2007-03-07', '2007-03-12', '2007-03-13', '2007-03-15', '2007-03-17', '2007-03-20', '2007-03-21', '2007-03-22', '2007-03-27', '2007-03-28', '2007-03-29', '2007-03-30', '2007-04-01', '2007-04-02', '2007-04-05', '2007-04-09', '2007-04-13', '2007-04-15', '2007-04-19', '2007-04-20', '2007-04-26', '2007-05-08', '2007-05-10', '2007-05-11', '2007-05-14', '2007-05-15', '2007-05-18', '2007-05-22', '2007-05-24', '2007-05-25', '2007-05-27', '2007-05-29', '2007-05-31', '2007-06-01', '2007-06-05', '2007-06-11', '2007-06-12', '2007-06-22', '2007-06-24', '2007-06-26', '2007-06-29', '2007-07-01', '2007-07-02', '2007-07-04', '2007-07-10', '2007-07-12', '2007-07-24', '2007-08-01', '2007-08-03', '2007-08-04', '2007-08-07', '2007-08-08', '2007-08-11', '2007-08-14', '2007-08-15', '2007-08-18', '2007-08-21', '2007-08-24', '2007-08-28', '2007-08-31', '2007-09-01', '2007-09-04', '2007-09-05', '2007-09-11', '2007-09-13', '2007-09-17', '2007-09-25', '2007-09-27', '2007-10-01', '2007-10-02', '2007-10-04', '2007-10-06', '2007-10-09', '2007-10-10', '2007-10-12', '2007-10-15', '2007-10-16', '2007-10-17', '2007-10-19', '2007-10-20', '2007-10-23', '2007-10-27', '2007-10-29', '2007-10-30', '2007-11-02', '2007-11-05', '2007-11-07', '2007-11-08', '2007-11-09', '2007-11-12', '2007-11-13', '2007-11-14', '2007-11-17', '2007-11-19', '2007-11-21', '2007-11-28', '2007-12-01', '2007-12-03', '2007-12-07', '2007-12-14', '2007-12-19', '2007-12-22', '2007-12-28', '2007-12-29', '2007-12-31', '2008-01-01', '2008-01-08', '2008-01-11', '2008-01-12', '2008-01-18', '2008-01-22', '2008-01-25', '2008-01-28', '2008-01-31', '2008-02-01', '2008-02-05', '2008-02-08', '2008-02-09', '2008-02-11', '2008-02-13', '2008-02-15', '2008-02-19', '2008-02-20', '2008-02-21', '2008-02-22', '2008-02-27', '2008-02-29', '2008-03-01', '2008-03-05', '2008-03-07', '2008-03-14', '2008-03-18', '2008-03-19', '2008-03-21', '2008-03-24', '2008-03-25', '2008-04-07', '2008-04-09', '2008-04-10', '2008-04-11', '2008-04-14', '2008-04-15', '2008-04-16', '2008-04-18', '2008-04-29', '2008-05-08', '2008-05-12', '2008-05-13', '2008-05-14', '2008-05-16', '2008-05-19', '2008-05-20', '2008-05-21', '2008-05-22', '2008-05-28', '2008-05-30', '2008-06-01', '2008-06-03', '2008-06-04', '2008-06-10', '2008-06-17', '2008-06-19', '2008-06-20', '2008-06-27', '2008-06-30', '2008-07-01', '2008-07-02', '2008-07-04', '2008-07-08', '2008-07-15', '2008-07-18', '2008-07-22', '2008-07-23', '2008-07-28', '2008-07-29', '2008-07-30', '2008-07-31', '2008-08-01', '2008-08-02', '2008-08-06', '2008-08-08', '2008-08-14', '2008-08-19', '2008-08-21', '2008-08-27', '2008-08-28', '2008-08-31', '2008-09-01', '2008-09-02', '2008-09-03', '2008-09-07', '2008-09-09', '2008-09-15', '2008-09-16', '2008-09-17', '2008-09-18', '2008-09-19', '2008-09-23', '2008-09-25', '2008-09-26', '2008-09-29', '2008-09-30', '2008-10-03', '2008-10-06', '2008-10-08', '2008-10-11', '2008-10-13', '2008-10-14', '2008-10-15', '2008-10-16', '2008-10-17', '2008-10-19', '2008-10-20', '2008-10-21', '2008-10-22', '2008-10-23', '2008-10-24', '2008-10-28', '2008-10-29', '2008-10-30', '2008-10-31', '2008-11-01', '2008-11-06', '2008-11-13', '2008-11-14', '2008-11-17', '2008-11-18', '2008-11-19', '2008-11-20', '2008-11-21', '2008-11-25', '2008-11-26', '2008-11-28', '2008-12-01', '2008-12-02', '2008-12-05', '2008-12-08', '2008-12-10', '2008-12-11', '2008-12-12', '2008-12-13', '2008-12-15', '2008-12-16', '2008-12-18', '2008-12-19', '2008-12-20', '2008-12-24', '2008-12-30', '2008-12-31', '2009-01-01', '2009-01-07', '2009-01-08', '2009-01-13', '2009-01-14', '2009-01-20', '2009-01-23', '2009-01-24', '2009-01-27', '2009-01-28', '2009-01-29', '2009-01-30', '2009-02-03', '2009-02-09', '2009-02-10', '2009-02-12', '2009-02-13', '2009-02-18', '2009-02-19', '2009-02-23', '2009-02-24', '2009-02-25', '2009-02-27', '2009-03-01', '2009-03-03', '2009-03-04', '2009-03-05', '2009-03-09', '2009-03-10', '2009-03-11', '2009-03-12', '2009-03-14', '2009-03-16', '2009-03-17', '2009-03-18', '2009-03-19', '2009-03-20', '2009-03-23', '2009-03-26', '2009-03-27', '2009-03-29', '2009-04-02', '2009-04-07', '2009-04-08', '2009-04-09', '2009-04-10', '2009-04-14', '2009-04-15', '2009-04-16', '2009-04-17', '2009-04-21', '2009-04-24', '2009-04-29', '2009-04-30', '2009-05-01', '2009-05-04', '2009-05-05', '2009-05-06', '2009-05-07', '2009-05-12', '2009-05-14', '2009-05-15', '2009-05-20', '2009-05-22', '2009-05-26', '2009-05-27', '2009-05-28', '2009-06-01', '2009-06-02', '2009-06-04', '2009-06-09', '2009-06-10', '2009-06-15', '2009-06-16', '2009-06-22', '2009-06-23', '2009-06-26', '2009-06-29', '2009-06-30', '2009-07-01', '2009-07-02', '2009-07-07', '2009-07-12', '2009-07-13', '2009-07-14', '2009-07-15', '2009-07-17', '2009-07-20', '2009-07-21', '2009-07-24', '2009-07-27', '2009-07-28', '2009-07-29', '2009-07-30', '2009-07-31', '2009-08-01', '2009-08-04', '2009-08-07', '2009-08-10', '2009-08-12', '2009-08-14', '2009-08-17', '2009-08-18', '2009-08-19', '2009-08-20', '2009-08-24', '2009-08-27', '2009-08-28', '2009-09-01', '2009-09-03', '2009-09-04', '2009-09-07', '2009-09-08', '2009-09-09', '2009-09-10', '2009-09-11', '2009-09-13', '2009-09-15', '2009-09-16', '2009-09-17', '2009-09-19', '2009-09-21', '2009-09-22', '2009-09-23', '2009-09-24', '2009-09-25', '2009-09-28', '2009-09-30', '2009-10-01', '2009-10-02', '2009-10-05', '2009-10-06', '2009-10-07', '2009-10-08', '2009-10-09', '2009-10-13', '2009-10-14', '2009-10-15', '2009-10-16', '2009-10-20', '2009-10-21', '2009-10-22', '2009-10-26', '2009-10-27', '2009-10-28', '2009-10-29', '2009-10-30', '2009-11-01', '2009-11-03', '2009-11-04', '2009-11-05', '2009-11-06', '2009-11-10', '2009-11-11', '2009-11-12', '2009-11-13', '2009-11-16', '2009-11-17', '2009-11-18', '2009-11-19', '2009-11-21', '2009-11-24', '2009-11-25', '2009-11-27', '2009-12-01', '2009-12-03', '2009-12-04', '2009-12-07', '2009-12-08', '2009-12-09', '2009-12-10', '2009-12-11', '2009-12-12', '2009-12-15', '2009-12-16', '2009-12-17', '2009-12-21', '2009-12-22', '2009-12-23', '2009-12-24', '2009-12-25', '2009-12-29', '2009-12-30', '2010-01-01', '2010-01-06', '2010-01-07', '2010-01-11', '2010-01-12', '2010-01-13', '2010-01-14', '2010-01-19', '2010-01-21', '2010-01-22', '2010-01-23', '2010-01-26', '2010-01-27', '2010-01-28', '2010-01-30', '2010-02-02', '2010-02-03', '2010-02-08', '2010-02-09', '2010-02-11', '2010-02-12', '2010-02-16', '2010-02-17', '2010-02-18', '2010-02-19', '2010-02-21', '2010-02-22', '2010-02-23', '2010-02-25', '2010-03-01', '2010-03-02', '2010-03-03', '2010-03-08', '2010-03-09', '2010-03-10', '2010-03-15', '2010-03-16', '2010-03-17', '2010-03-18', '2010-03-19', '2010-03-20', '2010-03-23', '2010-03-26', '2010-03-28', '2010-03-29', '2010-03-31', '2010-04-01', '2010-04-05', '2010-04-06', '2010-04-07', '2010-04-08', '2010-04-09', '2010-04-12', '2010-04-14', '2010-04-15', '2010-04-16', '2010-04-19', '2010-04-20', '2010-04-21', '2010-04-24', '2010-04-28', '2010-04-29', '2010-05-04', '2010-05-05', '2010-05-07', '2010-05-11', '2010-05-12', '2010-05-17', '2010-05-18', '2010-05-19', '2010-05-22', '2010-05-24', '2010-05-25', '2010-05-26', '2010-05-27', '2010-05-28', '2010-06-01', '2010-06-02', '2010-06-03', '2010-06-04', '2010-06-07', '2010-06-08', '2010-06-09', '2010-06-10', '2010-06-11', '2010-06-14', '2010-06-16', '2010-06-17', '2010-06-21', '2010-06-22', '2010-06-23', '2010-06-24', '2010-06-25', '2010-06-28', '2010-06-29', '2010-06-30', '2010-07-01', '2010-07-02', '2010-07-08', '2010-07-10', '2010-07-12', '2010-07-13', '2010-07-14', '2010-07-15', '2010-07-16', '2010-07-19', '2010-07-21', '2010-07-26', '2010-07-28', '2010-07-30', '2010-07-31', '2010-08-01', '2010-08-02', '2010-08-03', '2010-08-04', '2010-08-06', '2010-08-12', '2010-08-13', '2010-08-16', '2010-08-17', '2010-08-19', '2010-08-20', '2010-08-21', '2010-08-23', '2010-08-24', '2010-08-26', '2010-08-27', '2010-08-28', '2010-08-30', '2010-08-31', '2010-09-01', '2010-09-02', '2010-09-03', '2010-09-06', '2010-09-07', '2010-09-08', '2010-09-09', '2010-09-10', '2010-09-13', '2010-09-14', '2010-09-16', '2010-09-17', '2010-09-20', '2010-09-21', '2010-09-22', '2010-09-23', '2010-09-24', '2010-09-26', '2010-09-27', '2010-09-28', '2010-09-29', '2010-10-01', '2010-10-06', '2010-10-07', '2010-10-08', '2010-10-11', '2010-10-12', '2010-10-14', '2010-10-15', '2010-10-19', '2010-10-21', '2010-10-22', '2010-10-25', '2010-10-26', '2010-10-27', '2010-10-28', '2010-10-29', '2010-10-31', '2010-11-02', '2010-11-03', '2010-11-05', '2010-11-09', '2010-11-10', '2010-11-11', '2010-11-16', '2010-11-17', '2010-11-18', '2010-11-19', '2010-11-22', '2010-11-23', '2010-11-26', '2010-11-30', '2010-12-01', '2010-12-02', '2010-12-03', '2010-12-04', '2010-12-07', '2010-12-09', '2010-12-10', '2010-12-13', '2010-12-14', '2010-12-15', '2010-12-16', '2010-12-17', '2010-12-18', '2010-12-20', '2010-12-23', '2011-01-01', '2011-01-06', '2011-01-07', '2011-01-11', '2011-01-12', '2011-01-13', '2011-01-16', '2011-01-19', '2011-01-20', '2011-01-21', '2011-01-24', '2011-01-25', '2011-01-26', '2011-01-27', '2011-01-28', '2011-01-31', '2011-02-01', '2011-02-02', '2011-02-03', '2011-02-06', '2011-02-08', '2011-02-09', '2011-02-10', '2011-02-11', '2011-02-14', '2011-02-17', '2011-02-18', '2011-02-21', '2011-02-22', '2011-02-23', '2011-02-24', '2011-02-25', '2011-02-28', '2011-03-01', '2011-03-02', '2011-03-03', '2011-03-04', '2011-03-08', '2011-03-09', '2011-03-10', '2011-03-11', '2011-03-14', '2011-03-15', '2011-03-16', '2011-03-17', '2011-03-20', '2011-03-22', '2011-03-24', '2011-03-25', '2011-03-27', '2011-03-29', '2011-04-01', '2011-04-03', '2011-04-04', '2011-04-05', '2011-04-06', '2011-04-08', '2011-04-11', '2011-04-12', '2011-04-15', '2011-04-17', '2011-04-18', '2011-04-19', '2011-04-20', '2011-04-21', '2011-04-22', '2011-04-26', '2011-04-27', '2011-04-28', '2011-04-29', '2011-05-03', '2011-05-04', '2011-05-05', '2011-05-06', '2011-05-07', '2011-05-09', '2011-05-10', '2011-05-11', '2011-05-16', '2011-05-17', '2011-05-18', '2011-05-19', '2011-05-20', '2011-05-24', '2011-05-25', '2011-05-26', '2011-05-27', '2011-05-29', '2011-05-30', '2011-05-31', '2011-06-01', '2011-06-02', '2011-06-06', '2011-06-08', '2011-06-09', '2011-06-10', '2011-06-11', '2011-06-13', '2011-06-14', '2011-06-15', '2011-06-16', '2011-06-17', '2011-06-20', '2011-06-21', '2011-06-22', '2011-06-23', '2011-06-24', '2011-06-26', '2011-06-28', '2011-06-30', '2011-07-01', '2011-07-02', '2011-07-05', '2011-07-10', '2011-07-13', '2011-07-14', '2011-07-15', '2011-07-18', '2011-07-19', '2011-07-20', '2011-07-21', '2011-07-22', '2011-07-26', '2011-07-27', '2011-07-28', '2011-07-29', '2011-07-30', '2011-08-02', '2011-08-03', '2011-08-04', '2011-08-08', '2011-08-10', '2011-08-11', '2011-08-12', '2011-08-13', '2011-08-15', '2011-08-16', '2011-08-17', '2011-08-19', '2011-08-23', '2011-08-24', '2011-08-26', '2011-08-29', '2011-08-30', '2011-08-31', '2011-09-01', '2011-09-03', '2011-09-05', '2011-09-06', '2011-09-07', '2011-09-08', '2011-09-09', '2011-09-13', '2011-09-14', '2011-09-15', '2011-09-16', '2011-09-18', '2011-09-19', '2011-09-20', '2011-09-21', '2011-09-22', '2011-09-23', '2011-09-24', '2011-09-25', '2011-09-26', '2011-09-27', '2011-09-28', '2011-09-29', '2011-09-30', '2011-10-02', '2011-10-03', '2011-10-04', '2011-10-10', '2011-10-11', '2011-10-12', '2011-10-13', '2011-10-14', '2011-10-17', '2011-10-18', '2011-10-19', '2011-10-20', '2011-10-24', '2011-10-25', '2011-10-26', '2011-10-27', '2011-10-28', '2011-10-31', '2011-11-01', '2011-11-02', '2011-11-03', '2011-11-04', '2011-11-08', '2011-11-09', '2011-11-10', '2011-11-11', '2011-11-12', '2011-11-14', '2011-11-15', '2011-11-18', '2011-11-20', '2011-11-21', '2011-11-23', '2011-11-25', '2011-11-28', '2011-11-29', '2011-11-30', '2011-12-01', '2011-12-02', '2011-12-03', '2011-12-04', '2011-12-06', '2011-12-07', '2011-12-08', '2011-12-09', '2011-12-12', '2011-12-13', '2011-12-14', '2011-12-15', '2011-12-16', '2011-12-19', '2011-12-20', '2011-12-21', '2011-12-24', '2012-01-01', '2012-01-03', '2012-01-05', '2012-01-11', '2012-01-12', '2012-01-13', '2012-01-15', '2012-01-16', '2012-01-17', '2012-01-18', '2012-01-19', '2012-01-24', '2012-01-25', '2012-01-26', '2012-01-27', '2012-01-30', '2012-01-31', '2012-02-01', '2012-02-02', '2012-02-03', '2012-02-04', '2012-02-06', '2012-02-07', '2012-02-08', '2012-02-09', '2012-02-10', '2012-02-11', '2012-02-13', '2012-02-14', '2012-02-15', '2012-02-16', '2012-02-17', '2012-02-18', '2012-02-20', '2012-02-21', '2012-02-22', '2012-02-23', '2012-02-24', '2012-02-27', '2012-02-28', '2012-02-29', '2012-03-01', '2012-03-02', '2012-03-04', '2012-03-06', '2012-03-08', '2012-03-09', '2012-03-11', '2012-03-14', '2012-03-15', '2012-03-16', '2012-03-19', '2012-03-20', '2012-03-21', '2012-03-22', '2012-03-23', '2012-03-26', '2012-03-28', '2012-03-29', '2012-03-30', '2012-04-01', '2012-04-02', '2012-04-04', '2012-04-05', '2012-04-06', '2012-04-09', '2012-04-10', '2012-04-11', '2012-04-12', '2012-04-13', '2012-04-16', '2012-04-17', '2012-04-18', '2012-04-19', '2012-04-20', '2012-04-23', '2012-04-24', '2012-04-25', '2012-04-26', '2012-04-27', '2012-04-29', '2012-04-30', '2012-05-01', '2012-05-02', '2012-05-03', '2012-05-04', '2012-05-06', '2012-05-07', '2012-05-08', '2012-05-10', '2012-05-11', '2012-05-12', '2012-05-14', '2012-05-15', '2012-05-16', '2012-05-17', '2012-05-18', '2012-05-22', '2012-05-23', '2012-05-24', '2012-05-25', '2012-05-28', '2012-05-29', '2012-05-30', '2012-05-31', '2012-06-01', '2012-06-04', '2012-06-05', '2012-06-06', '2012-06-07', '2012-06-08', '2012-06-10', '2012-06-12', '2012-06-13', '2012-06-14', '2012-06-18', '2012-06-19', '2012-06-20', '2012-06-21', '2012-06-22', '2012-06-23', '2012-06-25', '2012-06-26', '2012-06-27', '2012-06-30', '2012-07-01', '2012-07-02', '2012-07-03', '2012-07-04', '2012-07-05', '2012-07-06', '2012-07-09', '2012-07-10', '2012-07-11', '2012-07-12', '2012-07-13', '2012-07-16', '2012-07-19', '2012-07-20', '2012-07-23', '2012-07-24', '2012-07-25', '2012-07-26', '2012-07-27', '2012-07-28', '2012-07-30', '2012-07-31', '2012-08-01', '2012-08-02', '2012-08-03', '2012-08-04', '2012-08-06', '2012-08-07', '2012-08-08', '2012-08-09', '2012-08-10', '2012-08-11', '2012-08-13', '2012-08-14', '2012-08-15', '2012-08-16', '2012-08-17', '2012-08-20', '2012-08-21', '2012-08-22', '2012-08-23', '2012-08-24', '2012-08-27', '2012-08-28', '2012-08-29', '2012-08-30', '2012-08-31', '2012-09-01', '2012-09-03', '2012-09-04', '2012-09-05', '2012-09-06', '2012-09-07', '2012-09-10', '2012-09-11', '2012-09-12', '2012-09-13', '2012-09-14', '2012-09-17', '2012-09-18', '2012-09-19', '2012-09-20', '2012-09-21', '2012-09-22', '2012-09-24', '2012-09-25', '2012-09-26', '2012-09-27', '2012-09-28', '2012-09-29', '2012-10-01', '2012-10-02', '2012-10-03', '2012-10-04', '2012-10-05', '2012-10-06', '2012-10-08', '2012-10-09', '2012-10-10', '2012-10-11', '2012-10-12', '2012-10-15', '2012-10-16', '2012-10-17', '2012-10-18', '2012-10-19', '2012-10-20', '2012-10-22', '2012-10-23', '2012-10-24', '2012-10-25', '2012-10-26', '2012-10-28', '2012-10-29', '2012-10-30', '2012-10-31', '2012-11-01', '2012-11-02', '2012-11-06', '2012-11-07', '2012-11-08', '2012-11-09', '2012-11-12', '2012-11-13', '2012-11-14', '2012-11-15', '2012-11-18', '2012-11-19', '2012-11-20', '2012-11-21', '2012-11-23', '2012-11-27', '2012-11-28', '2012-11-29', '2012-11-30', '2012-12-01', '2012-12-03', '2012-12-04', '2012-12-05', '2012-12-06', '2012-12-07', '2012-12-10', '2012-12-11', '2012-12-12', '2012-12-13', '2012-12-17', '2012-12-18', '2012-12-19', '2012-12-20', '2012-12-21', '2012-12-31', '2013-01-01', '2013-01-04', '2013-01-07', '2013-01-08', '2013-01-09', '2013-01-10', '2013-01-11', '2013-01-12', '2013-01-13', '2013-01-14', '2013-01-15', '2013-01-16', '2013-01-17', '2013-01-18', '2013-01-21', '2013-01-22', '2013-01-23', '2013-01-24', '2013-01-25', '2013-01-28', '2013-01-29', '2013-01-30', '2013-01-31', '2013-02-01', '2013-02-05', '2013-02-06', '2013-02-07', '2013-02-08', '2013-02-10', '2013-02-11', '2013-02-12', '2013-02-13', '2013-02-14', '2013-02-15', '2013-02-18', '2013-02-19', '2013-02-20', '2013-02-21', '2013-02-22', '2013-02-25', '2013-02-26', '2013-02-27', '2013-02-28', '2013-03-01', '2013-03-02', '2013-03-04', '2013-03-05', '2013-03-07', '2013-03-08', '2013-03-09', '2013-03-10', '2013-03-11', '2013-03-12', '2013-03-13', '2013-03-14', '2013-03-15', '2013-03-16', '2013-03-18', '2013-03-19', '2013-03-20', '2013-03-21', '2013-03-22', '2013-03-23', '2013-03-25', '2013-03-26', '2013-03-28', '2013-03-29', '2013-03-30', '2013-04-01', '2013-04-02', '2013-04-03', '2013-04-04', '2013-04-05', '2013-04-06', '2013-04-07', '2013-04-08', '2013-04-09', '2013-04-10', '2013-04-11', '2013-04-12', '2013-04-15', '2013-04-16', '2013-04-17', '2013-04-18', '2013-04-19', '2013-04-22', '2013-04-23', '2013-04-24', '2013-04-25', '2013-04-26', '2013-04-28', '2013-04-29', '2013-04-30', '2013-05-01', '2013-05-02', '2013-05-03', '2013-05-06', '2013-05-07', '2013-05-08', '2013-05-09', '2013-05-10', '2013-05-13', '2013-05-14', '2013-05-15', '2013-05-16', '2013-05-17', '2013-05-20', '2013-05-21', '2013-05-22', '2013-05-23', '2013-05-24', '2013-05-27', '2013-05-28', '2013-05-29', '2013-05-30', '2013-05-31', '2013-06-01', '2013-06-03', '2013-06-04', '2013-06-05', '2013-06-06', '2013-06-07', '2013-06-10', '2013-06-11', '2013-06-12', '2013-06-13', '2013-06-16', '2013-06-17', '2013-06-18', '2013-06-20', '2013-06-21', '2013-06-24', '2013-06-25', '2013-06-26', '2013-06-27', '2013-06-28', '2013-07-01', '2013-07-02', '2013-07-03', '2013-07-04', '2013-07-07', '2013-07-08', '2013-07-09', '2013-07-11', '2013-07-12', '2013-07-14', '2013-07-16', '2013-07-18', '2013-07-20', '2013-07-23', '2013-07-24', '2013-07-25', '2013-07-26', '2013-07-29', '2013-07-30', '2013-07-31', '2013-08-01', '2013-08-02', '2013-08-05', '2013-08-06', '2013-08-07', '2013-08-08', '2013-08-09', '2013-08-12', '2013-08-13', '2013-08-14', '2013-08-15', '2013-08-16', '2013-08-17', '2013-08-18', '2013-08-19', '2013-08-20', '2013-08-21', '2013-08-22', '2013-08-23', '2013-08-24', '2013-08-26', '2013-08-27', '2013-08-28', '2013-08-29', '2013-09-01', '2013-09-02', '2013-09-03', '2013-09-04', '2013-09-05', '2013-09-06', '2013-09-07', '2013-09-08', '2013-09-09', '2013-09-10', '2013-09-11', '2013-09-12', '2013-09-13', '2013-09-16', '2013-09-17', '2013-09-18', '2013-09-19', '2013-09-20', '2013-09-23', '2013-09-24', '2013-09-25', '2013-09-26', '2013-09-27', '2013-09-28', '2013-09-30', '2013-10-01', '2013-10-02', '2013-10-03', '2013-10-04', '2013-10-07', '2013-10-08', '2013-10-09', '2013-10-10', '2013-10-11', '2013-10-14', '2013-10-15', '2013-10-16', '2013-10-17', '2013-10-18', '2013-10-21', '2013-10-22', '2013-10-23', '2013-10-24', '2013-10-25', '2013-10-27', '2013-10-28', '2013-10-29', '2013-10-30', '2013-10-31', '2013-11-01', '2013-11-04', '2013-11-05', '2013-11-06', '2013-11-07', '2013-11-08', '2013-11-10', '2013-11-11', '2013-11-12', '2013-11-13', '2013-11-14', '2013-11-15', '2013-11-18', '2013-11-19', '2013-11-20', '2013-11-21', '2013-11-22', '2013-11-25', '2013-11-26', '2013-11-27', '2013-11-28', '2013-11-29', '2013-12-01', '2013-12-02', '2013-12-03', '2013-12-04', '2013-12-05', '2013-12-06', '2013-12-08', '2013-12-09', '2013-12-10', '2013-12-11', '2013-12-12', '2013-12-13', '2013-12-16', '2013-12-17', '2013-12-18', '2013-12-19', '2013-12-20', '2013-12-27', '2014-01-01', '2014-01-03', '2014-01-06', '2014-01-07', '2014-01-08', '2014-01-09', '2014-01-10', '2014-01-13', '2014-01-14', '2014-01-15', '2014-01-16', '2014-01-17', '2014-01-20', '2014-01-21', '2014-01-22', '2014-01-23', '2014-01-24', '2014-01-25', '2014-01-26', '2014-01-27', '2014-01-28', '2014-01-29', '2014-01-30', '2014-01-31', '2014-02-01', '2014-02-03', '2014-02-04', '2014-02-05', '2014-02-06', '2014-02-07', '2014-02-08', '2014-02-11', '2014-02-12', '2014-02-13', '2014-02-14', '2014-02-15', '2014-02-17', '2014-02-18', '2014-02-19', '2014-02-20', '2014-02-21', '2014-02-22', '2014-02-24', '2014-02-25', '2014-02-26', '2014-02-27', '2014-02-28', '2014-03-03', '2014-03-04', '2014-03-05', '2014-03-06', '2014-03-07', '2014-03-08', '2014-03-10', '2014-03-11', '2014-03-12', '2014-03-13', '2014-03-14', '2014-03-15', '2014-03-16', '2014-03-17', '2014-03-18', '2014-03-19', '2014-03-20', '2014-03-21', '2014-03-24', '2014-03-25', '2014-03-26', '2014-03-27', '2014-03-28', '2014-03-29', '2014-04-01', '2014-04-02', '2014-04-03', '2014-04-04', '2014-04-07', '2014-04-08', '2014-04-09', '2014-04-10', '2014-04-11', '2014-04-14', '2014-04-15', '2014-04-16', '2014-04-17', '2014-04-18', '2014-04-19', '2014-04-22', '2014-04-23', '2014-04-24', '2014-04-25', '2014-04-28', '2014-04-29', '2014-04-30', '2014-05-01', '2014-05-02', '2014-05-04', '2014-05-05', '2014-05-06', '2014-05-07', '2014-05-08', '2014-05-09', '2014-05-12', '2014-05-13', '2014-05-14', '2014-05-15', '2014-05-16', '2014-05-18', '2014-05-19', '2014-05-20', '2014-05-21', '2014-05-22', '2014-05-23', '2014-05-25', '2014-05-26', '2014-05-27', '2014-05-28', '2014-05-29', '2014-05-30', '2014-05-31', '2014-06-01', '2014-06-03', '2014-06-04', '2014-06-05', '2014-06-06', '2014-06-07', '2014-06-08', '2014-06-09', '2014-06-10', '2014-06-11', '2014-06-12', '2014-06-13', '2014-06-16', '2014-06-17', '2014-06-18', '2014-06-19', '2014-06-20', '2014-06-23', '2014-06-24', '2014-06-25', '2014-06-26', '2014-06-27', '2014-06-30', '2014-07-01', '2014-07-02', '2014-07-03', '2014-07-04', '2014-07-05', '2014-07-07', '2014-07-08', '2014-07-09', '2014-07-10', '2014-07-11', '2014-07-12', '2014-07-13', '2014-07-14', '2014-07-15', '2014-07-16', '2014-07-17', '2014-07-18', '2014-07-21', '2014-07-22', '2014-07-23', '2014-07-24', '2014-07-25', '2014-07-28', '2014-07-29', '2014-07-30', '2014-07-31', '2014-08-01', '2014-08-02', '2014-08-04', '2014-08-05', '2014-08-06', '2014-08-07', '2014-08-08', '2014-08-10', '2014-08-11', '2014-08-12', '2014-08-13', '2014-08-14', '2014-08-15', '2014-08-16', '2014-08-18', '2014-08-19', '2014-08-20', '2014-08-21', '2014-08-22', '2014-08-24', '2014-08-25', '2014-08-26', '2014-08-27', '2014-08-28', '2014-08-29', '2014-08-30', '2014-09-01', '2014-09-02', '2014-09-03', '2014-09-04', '2014-09-05', '2014-09-08', '2014-09-09', '2014-09-10', '2014-09-11', '2014-09-12', '2014-09-15', '2014-09-16', '2014-09-17', '2014-09-18', '2014-09-19', '2014-09-22', '2014-09-23', '2014-09-24', '2014-09-25', '2014-09-26', '2014-09-27', '2014-09-29', '2014-09-30', '2014-10-01', '2014-10-02', '2014-10-03', '2014-10-06', '2014-10-07', '2014-10-08', '2014-10-09', '2014-10-10', '2014-10-13', '2014-10-14', '2014-10-15', '2014-10-16', '2014-10-17', '2014-10-18', '2014-10-19', '2014-10-20', '2014-10-21', '2014-10-22', '2014-10-23', '2014-10-24', '2014-10-27', '2014-10-28', '2014-10-29', '2014-10-30', '2014-10-31', '2014-11-03', '2014-11-04', '2014-11-05', '2014-11-06', '2014-11-07', '2014-11-10', '2014-11-11', '2014-11-12', '2014-11-13', '2014-11-14', '2014-11-15', '2014-11-16', '2014-11-17', '2014-11-18', '2014-11-19', '2014-11-20', '2014-11-21', '2014-11-22', '2014-11-24', '2014-11-25', '2014-11-26', '2014-11-27', '2014-11-28', '2014-11-29', '2014-12-01', '2014-12-02', '2014-12-03', '2014-12-04', '2014-12-05', '2014-12-06', '2014-12-08', '2014-12-09', '2014-12-10', '2014-12-11', '2014-12-12', '2014-12-13', '2014-12-14', '2014-12-15', '2014-12-16', '2014-12-17', '2014-12-18', '2014-12-19', '2014-12-22', '2014-12-23', '2014-12-24', '2014-12-25', '2014-12-27', '2014-12-29', '2014-12-30', '2014-12-31', '2015-01-01', '2015-01-02', '2015-01-05', '2015-01-06', '2015-01-07', '2015-01-08', '2015-01-09', '2015-01-11', '2015-01-12', '2015-01-13', '2015-01-14', '2015-01-15', '2015-01-16', '2015-01-17', '2015-01-18', '2015-01-19', '2015-01-20', '2015-01-21', '2015-01-22', '2015-01-23', '2015-01-25', '2015-01-26', '2015-01-27', '2015-01-28', '2015-01-29', '2015-01-30', '2015-01-31', '2015-02-02', '2015-02-03', '2015-02-04', '2015-02-05', '2015-02-06', '2015-02-09', '2015-02-10', '2015-02-11', '2015-02-12', '2015-02-13', '2015-02-15', '2015-02-16', '2015-02-17', '2015-02-18', '2015-02-19', '2015-02-20', '2015-02-21', '2015-02-23', '2015-02-24', '2015-02-25', '2015-02-26', '2015-02-27', '2015-03-01', '2015-03-02', '2015-03-03', '2015-03-04', '2015-03-05', '2015-03-06', '2015-03-08', '2015-03-09', '2015-03-10', '2015-03-11', '2015-03-12', '2015-03-13', '2015-03-14', '2015-03-15', '2015-03-16', '2015-03-17', '2015-03-18', '2015-03-19', '2015-03-20', '2015-03-23', '2015-03-24', '2015-03-25', '2015-03-26', '2015-03-27', '2015-03-30', '2015-03-31', '2015-04-01', '2015-04-02', '2015-04-03', '2015-04-06', '2015-04-07', '2015-04-08', '2015-04-09', '2015-04-10', '2015-04-11', '2015-04-13', '2015-04-14', '2015-04-15', '2015-04-16', '2015-04-17', '2015-04-19', '2015-04-20', '2015-04-21', '2015-04-22', '2015-04-23', '2015-04-24', '2015-04-25', '2015-04-26', '2015-04-27', '2015-04-28', '2015-04-29', '2015-04-30', '2015-05-01', '2015-05-02', '2015-05-04', '2015-05-05', '2015-05-06', '2015-05-07', '2015-05-08', '2015-05-09', '2015-05-11', '2015-05-12', '2015-05-13', '2015-05-14', '2015-05-15', '2015-05-18', '2015-05-19', '2015-05-20', '2015-05-21', '2015-05-22', '2015-05-23', '2015-05-25', '2015-05-26', '2015-05-27', '2015-05-28', '2015-05-29', '2015-05-30', '2015-05-31', '2015-06-01', '2015-06-02', '2015-06-03', '2015-06-04', '2015-06-05', '2015-06-06', '2015-06-07', '2015-06-08', '2015-06-09', '2015-06-10', '2015-06-11', '2015-06-12', '2015-06-15', '2015-06-16', '2015-06-17', '2015-06-18', '2015-06-19', '2015-06-22', '2015-06-23', '2015-06-24', '2015-06-25', '2015-06-26', '2015-06-27', '2015-06-28', '2015-06-29', '2015-06-30', '2015-07-01', '2015-07-02', '2015-07-03', '2015-07-04', '2015-07-06', '2015-07-07', '2015-07-08', '2015-07-09', '2015-07-10', '2015-07-13', '2015-07-14', '2015-07-15', '2015-07-16', '2015-07-17', '2015-07-20', '2015-07-21', '2015-07-22', '2015-07-23', '2015-07-24', '2015-07-27', '2015-07-28', '2015-07-29', '2015-07-30', '2015-07-31', '2015-08-01', '2015-08-03', '2015-08-04', '2015-08-05', '2015-08-06', '2015-08-07', '2015-08-10', '2015-08-11', '2015-08-12', '2015-08-13', '2015-08-14', '2015-08-15', '2015-08-16', '2015-08-17', '2015-08-18', '2015-08-19', '2015-08-20', '2015-08-21', '2015-08-24', '2015-08-25', '2015-08-26', '2015-08-27', '2015-08-28', '2015-08-29', '2015-08-31', '2015-09-01', '2015-09-02', '2015-09-03', '2015-09-04', '2015-09-05', '2015-09-06', '2015-09-07', '2015-09-08', '2015-09-09', '2015-09-10', '2015-09-11', '2015-09-14', '2015-09-15', '2015-09-16', '2015-09-17', '2015-09-18', '2015-09-19', '2015-09-20', '2015-09-21', '2015-09-22', '2015-09-23', '2015-09-24', '2015-09-25', '2015-09-27', '2015-09-28', '2015-09-29', '2015-09-30', '2015-10-01', '2015-10-02', '2015-10-04', '2015-10-05', '2015-10-06', '2015-10-07', '2015-10-08', '2015-10-09', '2015-10-12', '2015-10-13', '2015-10-14', '2015-10-15', '2015-10-16', '2015-10-17', '2015-10-18', '2015-10-19', '2015-10-20', '2015-10-21', '2015-10-22', '2015-10-23', '2015-10-24', '2015-10-26', '2015-10-27', '2015-10-28', '2015-10-29', '2015-10-30', '2015-10-31', '2015-11-01', '2015-11-02', '2015-11-03', '2015-11-04', '2015-11-05', '2015-11-06', '2015-11-09', '2015-11-10', '2015-11-11', '2015-11-12', '2015-11-13', '2015-11-14', '2015-11-15', '2015-11-16', '2015-11-17', '2015-11-18', '2015-11-19', '2015-11-20', '2015-11-22', '2015-11-23', '2015-11-24', '2015-11-25', '2015-11-26', '2015-11-27', '2015-11-28', '2015-11-29', '2015-11-30', '2015-12-01', '2015-12-02', '2015-12-03', '2015-12-04', '2015-12-05', '2015-12-07', '2015-12-08', '2015-12-09', '2015-12-10', '2015-12-11', '2015-12-14', '2015-12-15', '2015-12-16', '2015-12-17', '2015-12-18', '2015-12-21', '2015-12-22', '2015-12-23', '2015-12-24', '2015-12-25', '2015-12-28', '2015-12-29', '2015-12-30', '2015-12-31', '2016', '2016-01-01', '2016-01-02', '2016-01-03', '2016-01-04', '2016-01-05', '2016-01-06', '2016-01-07', '2016-01-08', '2016-01-09', '2016-01-11', '2016-01-12', '2016-01-13', '2016-01-14', '2016-01-15', '2016-01-18', '2016-01-19', '2016-01-20', '2016-01-21', '2016-01-22', '2016-01-23', '2016-01-25', '2016-01-26', '2016-01-27', '2016-01-28', '2016-01-29', '2016-01-31', '2016-02-01', '2016-02-02', '2016-02-03', '2016-02-04', '2016-02-05', '2016-02-07', '2016-02-08', '2016-02-09', '2016-02-10', '2016-02-11', '2016-02-12', '2016-02-15', '2016-02-16', '2016-02-17', '2016-02-18', '2016-02-19', '2016-02-20', '2016-02-22', '2016-02-23', '2016-02-24', '2016-02-25', '2016-02-26', '2016-02-27', '2016-02-28', '2016-02-29', '2016-03-01', '2016-03-02', '2016-03-03', '2016-03-04', '2016-03-06', '2016-03-07', '2016-03-08', '2016-03-09', '2016-03-10', '2016-03-11', '2016-03-12', '2016-03-13', '2016-03-14', '2016-03-15', '2016-03-16', '2016-03-17', '2016-03-18', '2016-03-19', '2016-03-20', '2016-03-21', '2016-03-22', '2016-03-23', '2016-03-24', '2016-03-25', '2016-03-27', '2016-03-28', '2016-03-29', '2016-03-30', '2016-03-31', '2016-04-01', '2016-04-02', '2016-04-03', '2016-04-04', '2016-04-05', '2016-04-06', '2016-04-07', '2016-04-08', '2016-04-09', '2016-04-10', '2016-04-11', '2016-04-12', '2016-04-13', '2016-04-14', '2016-04-15', '2016-04-16', '2016-04-17', '2016-04-18', '2016-04-19', '2016-04-20', '2016-04-21', '2016-04-22', '2016-04-23', '2016-04-24', '2016-04-25', '2016-04-26', '2016-04-27', '2016-04-28', '2016-04-29', '2016-04-30', '2016-05-01', '2016-05-02', '2016-05-03', '2016-05-04', '2016-05-05', '2016-05-06', '2016-05-07', '2016-05-09', '2016-05-10', '2016-05-11', '2016-05-12', '2016-05-13', '2016-05-14', '2016-05-16', '2016-05-17', '2016-05-18', '2016-05-19', '2016-05-20', '2016-05-21', '2016-05-22', '2016-05-23', '2016-05-24', '2016-05-25', '2016-05-26', '2016-05-27', '2016-05-28', '2016-05-29', '2016-05-30', '2016-05-31', '2016-06-01', '2016-06-02', '2016-06-03', '2016-06-04', '2016-06-05', '2016-06-06', '2016-06-07', '2016-06-08', '2016-06-09', '2016-06-10', '2016-06-11', '2016-06-12', '2016-06-13', '2016-06-14', '2016-06-15', '2016-06-16', '2016-06-17', '2016-06-18', '2016-06-19', '2016-06-20', '2016-06-21', '2016-06-22', '2016-06-23', '2016-06-24', '2016-06-25', '2016-06-26', '2016-06-27', '2016-06-28', '2016-06-29', '2016-06-30', '2016-07-01', '2016-07-02', '2016-07-04', '2016-07-05', '2016-07-06', '2016-07-07', '2016-07-08', '2016-07-09', '2016-07-10', '2016-07-11', '2016-07-12', '2016-07-13', '2016-07-14', '2016-07-15', '2016-07-16', '2016-07-17', '2016-07-18', '2016-07-19', '2016-07-20', '2016-07-21', '2016-07-22', '2016-07-24', '2016-07-25', '2016-07-26', '2016-07-27', '2016-07-28', '2016-07-29', '2016-07-30', '2016-07-31', '2016-08-01', '2016-08-02', '2016-08-03', '2016-08-04', '2016-08-05', '2016-08-06', '2016-08-07', '2016-08-08', '2016-08-09', '2016-08-10', '2016-08-11', '2016-08-12', '2016-08-13', '2016-08-14', '2016-08-15', '2016-08-16', '2016-08-17', '2016-08-18', '2016-08-19', '2016-08-20', '2016-08-21', '2016-08-22', '2016-08-23', '2016-08-24', '2016-08-25', '2016-08-26', '2016-08-27', '2016-08-28', '2016-08-29', '2016-08-30', '2016-08-31', '2016-09-01', '2016-09-02', '2016-09-03', '2016-09-04', '2016-09-05', '2016-09-06', '2016-09-07', '2016-09-08', '2016-09-09', '2016-09-10', '2016-09-11', '2016-09-12', '2016-09-13', '2016-09-14', '2016-09-15', '2016-09-16', '2016-09-17', '2016-09-19', '2016-09-20', '2016-09-21', '2016-09-22', '2016-09-23', '2016-09-24', '2016-09-25', '2016-09-26', '2016-09-27', '2016-09-28', '2016-09-29', '2016-09-30', '2016-10-01', '2016-10-02', '2016-10-03', '2016-10-04', '2016-10-05', '2016-10-06', '2016-10-07', '2016-10-08', '2016-10-10', '2016-10-11', '2016-10-12', '2016-10-13', '2016-10-14', '2016-10-15', '2016-10-16', '2016-10-17', '2016-10-18', '2016-10-19', '2016-10-20', '2016-10-21', '2016-10-22', '2016-10-23', '2016-10-24', '2016-10-25', '2016-10-26', '2016-10-27', '2016-10-28', '2016-10-29', '2016-10-30', '2016-10-31', '2016-11-01', '2016-11-02', '2016-11-03', '2016-11-04', '2016-11-05', '2016-11-06', '2016-11-07', '2016-11-08', '2016-11-09', '2016-11-10', '2016-11-11', '2016-11-12', '2016-11-13', '2016-11-14', '2016-11-15', '2016-11-16', '2016-11-17', '2016-11-18', '2016-11-19', '2016-11-20', '2016-11-21', '2016-11-22', '2016-11-23', '2016-11-24', '2016-11-25', '2016-11-28', '2016-11-29', '2016-11-30', '2016-12-01', '2016-12-02', '2016-12-04', '2016-12-05', '2016-12-06', '2016-12-07', '2016-12-08', '2016-12-09', '2016-12-10', '2016-12-11', '2016-12-12', '2016-12-13', '2016-12-14', '2016-12-15', '2016-12-16', '2016-12-17', '2016-12-18', '2016-12-19', '2016-12-20', '2016-12-21', '2016-12-22', '2016-12-23', '2016-12-24', '2016-12-25', '2016-12-26', '2016-12-27', '2016-12-28', '2016-12-29', '2016-12-30', '2016-12-31', '2017', '2017 Q1', '2017 Q4', '2017-01-01', '2017-01-02', '2017-01-03', '2017-01-04', '2017-01-05', '2017-01-06', '2017-01-07', '2017-01-08', '2017-01-09', '2017-01-10', '2017-01-11', '2017-01-12', '2017-01-13', '2017-01-14', '2017-01-15', '2017-01-16', '2017-01-17', '2017-01-18', '2017-01-19', '2017-01-20', '2017-01-21', '2017-01-22', '2017-01-23', '2017-01-24', '2017-01-25', '2017-01-26', '2017-01-27', '2017-01-28', '2017-01-29', '2017-01-30', '2017-01-31', '2017-02-01', '2017-02-02', '2017-02-03', '2017-02-04', '2017-02-05', '2017-02-06', '2017-02-07', '2017-02-08', '2017-02-09', '2017-02-10', '2017-02-11', '2017-02-13', '2017-02-14', '2017-02-15', '2017-02-16', '2017-02-17', '2017-02-18', '2017-02-19', '2017-02-20', '2017-02-21', '2017-02-22', '2017-02-23', '2017-02-24', '2017-02-25', '2017-02-26', '2017-02-27', '2017-02-28', '2017-03-01', '2017-03-02', '2017-03-03', '2017-03-06', '2017-03-07', '2017-03-08', '2017-03-09', '2017-03-10', '2017-03-11', '2017-03-13', '2017-03-14', '2017-03-15', '2017-03-16', '2017-03-17', '2017-03-18', '2017-03-19', '2017-03-20', '2017-03-21', '2017-03-22', '2017-03-23', '2017-03-24', '2017-03-25', '2017-03-27', '2017-03-28', '2017-03-29', '2017-03-30', '2017-03-31', '2017-04-01', '2017-04-02', '2017-04-03', '2017-04-04', '2017-04-05', '2017-04-06', '2017-04-07', '2017-04-08', '2017-04-09', '2017-04-10', '2017-04-11', '2017-04-12', '2017-04-13', '2017-04-14', '2017-04-15', '2017-04-17', '2017-04-18', '2017-04-19', '2017-04-20', '2017-04-21', '2017-04-22', '2017-04-23', '2017-04-24', '2017-04-25', '2017-04-26', '2017-04-27', '2017-04-28', '2017-04-29', '2017-04-30', '2017-05-01', '2017-05-02', '2017-05-03', '2017-05-04', '2017-05-05', '2017-05-07', '2017-05-08', '2017-05-09', '2017-05-10', '2017-05-11', '2017-05-12', '2017-05-14', '2017-05-15', '2017-05-16', '2017-05-17', '2017-05-18', '2017-05-19', '2017-05-20', '2017-05-21', '2017-05-22', '2017-05-23', '2017-05-24', '2017-05-25', '2017-05-26', '2017-05-27', '2017-05-28', '2017-05-29', '2017-05-30', '2017-05-31', '2017-06-01', '2017-06-02', '2017-06-03', '2017-06-04', '2017-06-05', '2017-06-06', '2017-06-07', '2017-06-08', '2017-06-09', '2017-06-10', '2017-06-11', '2017-06-12', '2017-06-13', '2017-06-14', '2017-06-15', '2017-06-16', '2017-06-17', '2017-06-18', '2017-06-19', '2017-06-20', '2017-06-21', '2017-06-22', '2017-06-23', '2017-06-24', '2017-06-25', '2017-06-26', '2017-06-27', '2017-06-28', '2017-06-29', '2017-06-30', '2017-07-01', '2017-07-02', '2017-07-03', '2017-07-04', '2017-07-05', '2017-07-06', '2017-07-07', '2017-07-08', '2017-07-09', '2017-07-10', '2017-07-11', '2017-07-12', '2017-07-13', '2017-07-14', '2017-07-15', '2017-07-16', '2017-07-17', '2017-07-18', '2017-07-19', '2017-07-20', '2017-07-21', '2017-07-22', '2017-07-23', '2017-07-24', '2017-07-25', '2017-07-26', '2017-07-27', '2017-07-28', '2017-07-29', '2017-07-30', '2017-07-31', '2017-08-01', '2017-08-02', '2017-08-03', '2017-08-04', '2017-08-05', '2017-08-06', '2017-08-07', '2017-08-08', '2017-08-09', '2017-08-10', '2017-08-11', '2017-08-12', '2017-08-13', '2017-08-14', '2017-08-15', '2017-08-16', '2017-08-17', '2017-08-18', '2017-08-19', '2017-08-20', '2017-08-21', '2017-08-22', '2017-08-23', '2017-08-24', '2017-08-25', '2017-08-26', '2017-08-27', '2017-08-28', '2017-08-29', '2017-08-30', '2017-08-31', '2017-09-01', '2017-09-02', '2017-09-03', '2017-09-04', '2017-09-05', '2017-09-06', '2017-09-07', '2017-09-08', '2017-09-09', '2017-09-10', '2017-09-11', '2017-09-12', '2017-09-13', '2017-09-14', '2017-09-15', '2017-09-16', '2017-09-17', '2017-09-18', '2017-09-19', '2017-09-20', '2017-09-21', '2017-09-22', '2017-09-23', '2017-09-24', '2017-09-25', '2017-09-26', '2017-09-27', '2017-09-28', '2017-09-29', '2017-09-30', '2017-10-01', '2017-10-02', '2017-10-03', '2017-10-04', '2017-10-05', '2017-10-06', '2017-10-07', '2017-10-09', '2017-10-10', '2017-10-11', '2017-10-12', '2017-10-13', '2017-10-14', '2017-10-15', '2017-10-16', '2017-10-17', '2017-10-18', '2017-10-19', '2017-10-20', '2017-10-21', '2017-10-22', '2017-10-23', '2017-10-24', '2017-10-25', '2017-10-26', '2017-10-27', '2017-10-28', '2017-10-29', '2017-10-30', '2017-10-31', '2017-11-01', '2017-11-02', '2017-11-03', '2017-11-04', '2017-11-05', '2017-11-06', '2017-11-07', '2017-11-08', '2017-11-09', '2017-11-10', '2017-11-11', '2017-11-12', '2017-11-13', '2017-11-14', '2017-11-15', '2017-11-16', '2017-11-17', '2017-11-18', '2017-11-19', '2017-11-20', '2017-11-21', '2017-11-22', '2017-11-23', '2017-11-24', '2017-11-25', '2017-11-26', '2017-11-27', '2017-11-28', '2017-11-29', '2017-11-30', '2017-12-01', '2017-12-02', '2017-12-03', '2017-12-04', '2017-12-05', '2017-12-06', '2017-12-07', '2017-12-08', '2017-12-09', '2017-12-10', '2017-12-11', '2017-12-12', '2017-12-13', '2017-12-14', '2017-12-15', '2017-12-16', '2017-12-17', '2017-12-18', '2017-12-19', '2017-12-20', '2017-12-21', '2017-12-22', '2017-12-23', '2017-12-24', '2017-12-25', '2017-12-26', '2017-12-27', '2017-12-28', '2017-12-29', '2017-12-30', '2017-12-31', '2018', '2018 [Now get free Pre Alpha]', '2018 early', '2018-01-01', '2018-01-02', '2018-01-03', '2018-01-04', '2018-01-05', '2018-01-10', '2018-01-15', '2018-01-19', '2018-01-23', '2018-01-24', '2018-01-25', '2018-01-31', '2018-02-02', '2018-02-08', '2018-02-28', '2018-03-01', '2018-03-08', '2018-03-14', '2018-03-22', '2018-03-30', '2018-04-19', '2018-06-30', '2018-08-06', '2018-08-22', '2018-08-30', '2018-09-10', '2018-09-17', '2018-09-25', '2018-10-01', '2018-12-01', '2018-12-03', '2018-12-17', '2018-12-20', '2018-12-31', '2018年1月', '2018年初頭発売予定', '2019-05-01', '2019-09-16', '2019-12-10', '2021-12-31', '21 Jun, 2017', 'Apr 2015', 'Apr 2016', 'Apr 2017', 'Aug 2014', 'Aug 2015', 'Aug 2017', 'August 2017', 'August 2018', 'Beta测试已开启', \"C'est bientôt...                    (ou pas)\", 'Coming 2017', 'Coming Fall 2017', 'Coming Q1 2018', 'Coming Q3 2017', 'Coming Soon', 'Coming Soon!', 'Coming Soon/Próximamente', 'Coming late 2017', 'Coming soon', 'Coming soon..', 'Comming Soon', 'Datachunks conflicted. Be vigiliant.', 'Dec 2012', 'Dec 2017', 'December 2017', 'Demo coming soon.', 'Demo is available now!', 'Early 2017', 'Early 2018', 'Early Access Starting Soon!', 'Early Access soon', 'Early Spring 2018', 'End 2017', 'Fall 2017', 'Fall 2018', 'Feb 2011', 'Feb 2013', 'Feb 2015', 'Feb 2018', 'First quarter of 2018', 'H2 2018', 'Hitting Early Access in 2017', 'Jan 2010', 'Jan 2015', 'Jan 2017', 'Jan 2018', 'January 2017', 'January 2018', 'January 2019', 'Jul 2010', 'Jul 2014', 'Jul 2016', 'Jul 2017', 'Jun 2009', 'Jun 2015', 'Jun 2016', 'June 2016', 'Late 2016 - Early 2017', 'Mar 2010', 'Mar 2018', 'May 2014', 'May 2015', 'Not yet available', 'Nov 2014', 'Nov 2016', 'Nov 2017', 'Oct 2009', 'Oct 2010', 'Oct 2016', 'Oct 2017', 'October 2017', 'Play Beta in demo!', 'Please wait warmly', 'Q1 (ish), 2017', 'Q1 2017', 'Q1 2018', 'Q1, 2018', 'Q2 2017', 'Q2 2018', 'Q2 2018 (Tentative)', 'Q4 2017', 'Release Date TBA', 'SOON', 'SOON™', 'Sep 2009', 'Sep 2014', 'Soon', 'Soon..', 'Soon™', 'Spring 2017', 'Spring 2018', 'Summer 2017', 'TBA', 'TBA 2017', 'TBD', 'To Be Announced', 'To be Announced', 'To be announced', 'When it is finished', 'When it is ready', \"When it's done\", \"When it's done (2017)\", \"When it's done!\", 'Winter 2017', 'Winter 2018', 'coming soon', 'early access', 'soon', 'Январь 2018', '预热群52756441']\n"
     ]
    }
   ],
   "source": [
    "# Get unique values in the \"release_date\" column as a list\n",
    "unique_dates = steam_games.select(\"release_date\").distinct().orderBy(\"release_date\")\n",
    "\n",
    "# Convert to list\n",
    "date_list = [row.release_date for row in unique_dates.collect()]\n",
    "\n",
    "# Display the unique values as an array\n",
    "print(date_list)\n"
   ]
  },
  {
   "cell_type": "code",
   "execution_count": 137,
   "metadata": {},
   "outputs": [
    {
     "name": "stdout",
     "output_type": "stream",
     "text": [
      "+-----------------------+-----------------------------------------------------------------------+-----------------------------------------------------------------------+-----------------------------------------------------------------------------------------------------------+------------+------------------------------------------------------------------------------------------------------------------------------------------------------------------------------------------------------+-------------------------------------------------------------------------+--------------------------------------------------------------------------------------------------------------------------------------------------------------------------------------------------------------------------+------------------+------------+-------+-----------------------------+--------------------------------------------------------------------+----+\n",
      "|publisher              |app_name                                                               |title                                                                  |url                                                                                                        |release_date|tags_str                                                                                                                                                                                              |reviews_url                                                              |specs_str                                                                                                                                                                                                                 |price             |early_access|game_id|developer                    |genres_str                                                          |year|\n",
      "+-----------------------+-----------------------------------------------------------------------+-----------------------------------------------------------------------+-----------------------------------------------------------------------------------------------------------+------------+------------------------------------------------------------------------------------------------------------------------------------------------------------------------------------------------------+-------------------------------------------------------------------------+--------------------------------------------------------------------------------------------------------------------------------------------------------------------------------------------------------------------------+------------------+------------+-------+-----------------------------+--------------------------------------------------------------------+----+\n",
      "|Neko Entertainment     |Wooden Sen'SeY                                                         |Wooden Sen'SeY                                                         |http://store.steampowered.com/app/259830/Wooden_SenSeY/                                                    |2013-12-05  |Action, Indie, Platformer                                                                                                                                                                             |http://steamcommunity.com/app/259830/reviews/?browsefilter=mostrecent&p=1|Single-player, Steam Achievements, Full controller support, Steam Trading Cards, Steam Cloud, Steam Leaderboards                                                                                                          |9.989999771118164 |false       |259830 |Upper Byte                   |Action, Indie                                                       |2013|\n",
      "|Crescent Moon Games    |Ravensword: Shadowlands                                                |Ravensword: Shadowlands                                                |http://store.steampowered.com/app/253410/Ravensword_Shadowlands/                                           |2013-12-06  |RPG, Adventure, Action, Indie, Open World, Singleplayer, Fantasy                                                                                                                                      |http://steamcommunity.com/app/253410/reviews/?browsefilter=mostrecent&p=1|Single-player                                                                                                                                                                                                             |6.989999771118164 |false       |253410 |Crescent Moon Games          |Action, Adventure, Indie, RPG                                       |2013|\n",
      "|                       |DARK - Cult of the Dead DLC                                            |DARK - Cult of the Dead DLC                                            |http://store.steampowered.com/app/249170/DARK__Cult_of_the_Dead_DLC/                                       |2013-12-05  |Action, RPG, Stealth                                                                                                                                                                                  |http://steamcommunity.com/app/249170/reviews/?browsefilter=mostrecent&p=1|Single-player, Downloadable Content, Steam Achievements, Steam Trading Cards, Partial Controller Support, Steam Cloud                                                                                                     |5.989999771118164 |false       |249170 |Realmforge Studios           |Action, RPG                                                         |2013|\n",
      "|Agharta Studio         |Shufflepuck Cantina Deluxe                                             |Shufflepuck Cantina Deluxe                                             |http://store.steampowered.com/app/259510/Shufflepuck_Cantina_Deluxe/                                       |2013-12-06  |Sports, Indie, Action, VR, Arcade, Casual, Sci-fi, Remake                                                                                                                                             |http://steamcommunity.com/app/259510/reviews/?browsefilter=mostrecent&p=1|Single-player, Steam Achievements, Steam Trading Cards, Steam Cloud, Stats, Steam Leaderboards                                                                                                                            |9.989999771118164 |false       |259510 |Agharta Studio               |Action, Indie, Sports                                               |2013|\n",
      "|Surprise Attack        |Particulars                                                            |Particulars                                                            |http://store.steampowered.com/app/259470/Particulars/                                                      |2014-11-19  |Indie, Puzzle, Physics                                                                                                                                                                                |http://steamcommunity.com/app/259470/reviews/?browsefilter=mostrecent&p=1|Single-player, Steam Achievements, Full controller support, Steam Trading Cards, Steam Cloud                                                                                                                              |5.989999771118164 |false       |259470 |SeeThrough Studios           |Indie                                                               |2014|\n",
      "|                       |Rocksmith® 2014 – Disturbed Song Pack                                  |Rocksmith® 2014 – Disturbed Song Pack                                  |http://store.steampowered.com/app/258391/Rocksmith_2014__Disturbed_Song_Pack/                              |2013-12-10  |Casual, Simulation                                                                                                                                                                                    |http://steamcommunity.com/app/258391/reviews/?browsefilter=mostrecent&p=1|Single-player, Shared/Split Screen, Downloadable Content, Steam Achievements, Steam Trading Cards, Partial Controller Support, Steam Cloud, Steam Leaderboards                                                            |7.989999771118164 |false       |258391 |Ubisoft - San Francisco      |Casual, Simulation                                                  |2013|\n",
      "|Ubisoft                |Rocksmith® 2014 – Disturbed - “Down with the Sickness”                 |Rocksmith® 2014 – Disturbed - “Down with the Sickness”                 |http://store.steampowered.com/app/258388/Rocksmith_2014__Disturbed__Down_with_the_Sickness/                |2013-12-10  |Casual, Simulation                                                                                                                                                                                    |http://steamcommunity.com/app/258388/reviews/?browsefilter=mostrecent&p=1|Single-player, Shared/Split Screen, Downloadable Content, Steam Achievements, Steam Trading Cards, Partial Controller Support, Steam Cloud, Steam Leaderboards                                                            |2.990000009536743 |false       |258388 |Ubisoft - San Francisco      |Casual, Simulation                                                  |2013|\n",
      "|Nival                  |King’s Bounty: Legions                                                 |King’s Bounty: Legions                                                 |http://store.steampowered.com/app/235400/Kings_Bounty_Legions/                                             |2013-12-10  |Free to Play, Strategy, RPG, Adventure, Turn-Based, Massively Multiplayer, Indie, Turn-Based Strategy, Fantasy                                                                                        |http://steamcommunity.com/app/235400/reviews/?browsefilter=mostrecent&p=1|Single-player, Multi-player, Cross-Platform Multiplayer                                                                                                                                                                   |-1.0              |false       |235400 |Nival                        |Adventure, Free to Play, Indie, Massively Multiplayer, RPG, Strategy|2013|\n",
      "|Ubisoft                |Rocksmith® 2014 – Disturbed - “Voices”                                 |Rocksmith® 2014 – Disturbed - “Voices”                                 |http://store.steampowered.com/app/258390/Rocksmith_2014__Disturbed__Voices/                                |2013-12-10  |Casual, Simulation                                                                                                                                                                                    |http://steamcommunity.com/app/258390/reviews/?browsefilter=mostrecent&p=1|Single-player, Shared/Split Screen, Downloadable Content, Steam Achievements, Steam Trading Cards, Partial Controller Support, Steam Cloud, Steam Leaderboards                                                            |2.990000009536743 |false       |258390 |Ubisoft - San Francisco      |Casual, Simulation                                                  |2013|\n",
      "|SCS Software           |Euro Truck Simulator 2 - Ice Cold Paint Jobs Pack                      |Euro Truck Simulator 2 - Ice Cold Paint Jobs Pack                      |http://store.steampowered.com/app/266930/Euro_Truck_Simulator_2__Ice_Cold_Paint_Jobs_Pack/                 |2013-12-10  |Simulation, Indie                                                                                                                                                                                     |http://steamcommunity.com/app/266930/reviews/?browsefilter=mostrecent&p=1|Single-player, Downloadable Content, Steam Achievements, Steam Trading Cards, Partial Controller Support, Includes level editor                                                                                           |1.9900000095367432|false       |266930 |SCS Software                 |Indie, Simulation                                                   |2013|\n",
      "|Ubisoft                |Assassin’s Creed®IV Black Flag™ - MP Character Pack: Blackbeard's Wrath|Assassin’s Creed®IV Black Flag™ - MP Character Pack: Blackbeard's Wrath|http://store.steampowered.com/app/264802/Assassins_CreedIV_Black_Flag__MP_Character_Pack_Blackbeards_Wrath/|2013-12-10  |Adventure, Action                                                                                                                                                                                     |http://steamcommunity.com/app/264802/reviews/?browsefilter=mostrecent&p=1|Single-player, Multi-player, Downloadable Content                                                                                                                                                                         |2.990000009536743 |false       |264802 |Ubisoft Montreal             |Action, Adventure                                                   |2013|\n",
      "|Curve Studios          |Velocity®Ultra - Soundtrack                                            |Velocity®Ultra - Soundtrack                                            |http://store.steampowered.com/app/267880/VelocityUltra__Soundtrack/                                        |2013-12-12  |Action                                                                                                                                                                                                |http://steamcommunity.com/app/267880/reviews/?browsefilter=mostrecent&p=1|Single-player, Downloadable Content                                                                                                                                                                                       |4.989999771118164 |false       |267880 |                             |Action                                                              |2013|\n",
      "|Coffee Stain Publishing|Sanctum 2: The Last Stand                                              |Sanctum 2: The Last Stand                                              |http://store.steampowered.com/app/237090/Sanctum_2_The_Last_Stand/                                         |2013-12-12  |Indie, Action, Strategy                                                                                                                                                                               |http://steamcommunity.com/app/237090/reviews/?browsefilter=mostrecent&p=1|Single-player, Multi-player, Co-op, Downloadable Content, Steam Achievements, Full controller support, Steam Trading Cards, Steam Cloud, Steam Leaderboards                                                               |4.989999771118164 |false       |237090 |Coffee Stain Studios         |Action, Indie, Strategy                                             |2013|\n",
      "|WildTangent            |FATE                                                                   |FATE                                                                   |http://store.steampowered.com/app/246840/FATE/                                                             |2005-05-18  |RPG, Action, Adventure, Dungeon Crawler, Classic, Action RPG, Hack and Slash, Fantasy, Singleplayer, Fishing, Casual                                                                                  |http://steamcommunity.com/app/246840/reviews/?browsefilter=mostrecent&p=1|Single-player, Steam Achievements, Steam Trading Cards, Steam Cloud, Steam Leaderboards                                                                                                                                   |7.989999771118164 |false       |246840 |WildTangent                  |Action, Adventure, RPG                                              |2005|\n",
      "|Activision             |Call of Duty®: Ghosts - Festive Personalization Pack                   |Call of Duty®: Ghosts - Festive Personalization Pack                   |http://store.steampowered.com/app/268100/Call_of_Duty_Ghosts__Festive_Personalization_Pack/                |2013-12-12  |Action                                                                                                                                                                                                |http://steamcommunity.com/app/268100/reviews/?browsefilter=mostrecent&p=1|Single-player, Multi-player, Downloadable Content, Steam Achievements, Full controller support, Steam Cloud, Steam Leaderboards                                                                                           |-1.0              |false       |268100 |Infinity Ward                |Action                                                              |2013|\n",
      "|tinyBuild              |Not The Robots                                                         |Not The Robots                                                         |http://store.steampowered.com/app/257120/Not_The_Robots/                                                   |2013-12-12  |Stealth, Indie, Strategy, Action, Rogue-like, Rogue-lite, Robots, Singleplayer, Procedural Generation, Sci-fi, Perma Death                                                                            |http://steamcommunity.com/app/257120/reviews/?browsefilter=mostrecent&p=1|Single-player, Steam Achievements, Full controller support, Steam Trading Cards, Steam Cloud                                                                                                                              |9.989999771118164 |false       |257120 |2DArray                      |Action, Indie, Strategy                                             |2013|\n",
      "|Dreamatrix             |Spaceforce Constellations                                              |Spaceforce Constellations                                              |http://store.steampowered.com/app/263800/Spaceforce_Constellations/                                        |2013-12-12  |Strategy                                                                                                                                                                                              |http://steamcommunity.com/app/263800/reviews/?browsefilter=mostrecent&p=1|Single-player                                                                                                                                                                                                             |9.989999771118164 |false       |263800 |Dreamatrix                   |Strategy                                                            |2013|\n",
      "|Netcore Games          |Tales of Maj'Eyal                                                      |Tales of Maj'Eyal                                                      |http://store.steampowered.com/app/259680/Tales_of_MajEyal/                                                 |2012-12-31  |Rogue-like, RPG, Turn-Based, Indie, Fantasy, Singleplayer, Difficult, Adventure, Moddable, Open World, Perma Death, Procedural Generation, Replay Value, Tactical, 2D, Top-Down, Dungeon Crawler, Loot|http://steamcommunity.com/app/259680/reviews/?browsefilter=mostrecent&p=1|Single-player, Steam Achievements, Steam Trading Cards, Steam Workshop, Steam Cloud                                                                                                                                       |6.989999771118164 |false       |259680 |Netcore Games                |Adventure, Indie, RPG                                               |2012|\n",
      "|THQ Nordic             |Painkiller Hell & Damnation: City Critters                             |Painkiller Hell &amp; Damnation: City Critters                         |http://store.steampowered.com/app/229310/Painkiller_Hell__Damnation_City_Critters/                         |2013-12-13  |Action                                                                                                                                                                                                |http://steamcommunity.com/app/229310/reviews/?browsefilter=mostrecent&p=1|Single-player, Multi-player, Co-op, Shared/Split Screen, Downloadable Content, Steam Achievements, Steam Trading Cards, Steam Workshop, Partial Controller Support, Steam Cloud, Steam Leaderboards, Includes level editor|6.989999771118164 |false       |229310 |The Farm 51                  |Action                                                              |2013|\n",
      "|Devolver Digital       |Marc Eckō's Getting Up: Contents Under Pressure                        |Marc Eckō's Getting Up: Contents Under Pressure                        |http://store.steampowered.com/app/260190/Marc_Ecks_Getting_Up_Contents_Under_Pressure/                     |2006-02-14  |Action, Adventure, Parkour, Great Soundtrack, Third Person, Classic, Atmospheric, Stealth, Singleplayer                                                                                               |http://steamcommunity.com/app/260190/reviews/?browsefilter=mostrecent&p=1|Single-player, Partial Controller Support                                                                                                                                                                                 |14.989999771118164|false       |260190 |The Collective,General Arcade|Action, Adventure                                                   |2006|\n",
      "+-----------------------+-----------------------------------------------------------------------+-----------------------------------------------------------------------+-----------------------------------------------------------------------------------------------------------+------------+------------------------------------------------------------------------------------------------------------------------------------------------------------------------------------------------------+-------------------------------------------------------------------------+--------------------------------------------------------------------------------------------------------------------------------------------------------------------------------------------------------------------------+------------------+------------+-------+-----------------------------+--------------------------------------------------------------------+----+\n",
      "only showing top 20 rows\n",
      "\n",
      "[1970, 1975, 1980, 1981, 1982, 1983, 1984, 1985, 1986, 1987, 1988, 1989, 1990, 1991, 1992, 1993, 1994, 1995, 1996, 1997, 1998, 1999, 2000, 2001, 2002, 2003, 2004, 2005, 2006, 2007, 2008, 2009, 2010, 2011, 2012, 2013, 2014, 2015, 2016, 2017, 2018, 2019, 2021]\n"
     ]
    }
   ],
   "source": [
    "\n",
    "\n",
    "# Tratar los valores en la columna 'release_date'\n",
    "steam_games_transformed = steam_games.withColumn(\n",
    "    \"release_date\",\n",
    "    when(\n",
    "        (steam_games[\"release_date\"] == \"\") | \n",
    "        (steam_games[\"release_date\"] == '\"\"\"Soon\"\"\"') | \n",
    "        (steam_games[\"release_date\"].rlike('[^\\d-]')), \n",
    "        '1970-01-01'\n",
    "    )\n",
    "    .otherwise(steam_games[\"release_date\"])\n",
    ")\n",
    "\n",
    "# Extraer los años de la columna 'release_date' y crear la columna 'year'\n",
    "steam_games_transformed = steam_games_transformed.withColumn(\n",
    "    \"year\",\n",
    "    when(\n",
    "        (steam_games_transformed[\"release_date\"] != \"\") & (steam_games_transformed[\"release_date\"].rlike(r\"(\\d{4})\")),\n",
    "        regexp_extract(steam_games_transformed[\"release_date\"], r\"(\\d{4})\", 1).cast(IntegerType())\n",
    "    )\n",
    "    .otherwise(\n",
    "        when(\n",
    "            (steam_games_transformed[\"release_date\"].like(\"%soon%\") | steam_games_transformed[\"release_date\"].like(\"%Soon%\")),\n",
    "            \"TBD\"\n",
    "        )\n",
    "        .otherwise(\"Unknown\")\n",
    "    )\n",
    ")\n",
    "\n",
    "# Convertir la columna 'year' a tipo entero\n",
    "steam_games_transformed = steam_games_transformed.withColumn(\"year\", steam_games_transformed[\"year\"].cast(IntegerType()))\n",
    "\n",
    "# Mostrar el DataFrame resultante\n",
    "steam_games_transformed.show(truncate=False)\n",
    "\n",
    "# Obtener valores únicos de la columna 'year' como lista\n",
    "unique_years = steam_games_transformed.select(\"year\").distinct().orderBy(\"year\")\n",
    "# Convertir a lista\n",
    "year_list = [row.year for row in unique_years.collect()]\n",
    "# Mostrar los valores únicos como un array\n",
    "print(year_list)\n",
    "\n"
   ]
  },
  {
   "cell_type": "code",
   "execution_count": 134,
   "metadata": {},
   "outputs": [
    {
     "name": "stdout",
     "output_type": "stream",
     "text": [
      "+---------+--------+-----+-----+------------+--------+-----------+---------+-----+------------+-------+---------+----------+----+\n",
      "|publisher|app_name|title|  url|release_date|tags_str|reviews_url|specs_str|price|early_access|game_id|developer|genres_str|year|\n",
      "+---------+--------+-----+-----+------------+--------+-----------+---------+-----+------------+-------+---------+----------+----+\n",
      "|    96362|   88312|90360|88310|           0|   88473|      88312|    88980|    0|       88310|  88312|    91609|     91593|   0|\n",
      "+---------+--------+-----+-----+------------+--------+-----------+---------+-----+------------+-------+---------+----------+----+\n",
      "\n"
     ]
    }
   ],
   "source": [
    "# Clean and count null values for each DataFrame\n",
    "steam_games_transformed = limpiar_nombres_columnas(steam_games_transformed)\n",
    "valores_vacios_por_columna_steam = count_null_values(steam_games_transformed)\n",
    "valores_vacios_por_columna_steam.show()"
   ]
  },
  {
   "cell_type": "code",
   "execution_count": null,
   "metadata": {},
   "outputs": [],
   "source": []
  },
  {
   "cell_type": "code",
   "execution_count": 139,
   "metadata": {},
   "outputs": [
    {
     "name": "stdout",
     "output_type": "stream",
     "text": [
      "['', 'false', 'true']\n"
     ]
    }
   ],
   "source": [
    "# Get unique values in the \"release_date\" column as a list\n",
    "unique_dates = steam_games.select(\"early_access\").distinct().orderBy(\"early_access\")\n",
    "\n",
    "# Convert to list\n",
    "date_list = [row.early_access for row in unique_dates.collect()]\n",
    "\n",
    "# Display the unique values as an array\n",
    "print(date_list)\n"
   ]
  },
  {
   "cell_type": "code",
   "execution_count": 140,
   "metadata": {},
   "outputs": [
    {
     "name": "stdout",
     "output_type": "stream",
     "text": [
      "+-----------------------+-----------------------------------------------------------------------+-----------------------------------------------------------------------+-----------------------------------------------------------------------------------------------------------+------------+------------------------------------------------------------------------------------------------------------------------------------------------------------------------------------------------------+-------------------------------------------------------------------------+--------------------------------------------------------------------------------------------------------------------------------------------------------------------------------------------------------------------------+------------------+------------+-------+-----------------------------+--------------------------------------------------------------------+----+\n",
      "|publisher              |app_name                                                               |title                                                                  |url                                                                                                        |release_date|tags_str                                                                                                                                                                                              |reviews_url                                                              |specs_str                                                                                                                                                                                                                 |price             |early_access|game_id|developer                    |genres_str                                                          |year|\n",
      "+-----------------------+-----------------------------------------------------------------------+-----------------------------------------------------------------------+-----------------------------------------------------------------------------------------------------------+------------+------------------------------------------------------------------------------------------------------------------------------------------------------------------------------------------------------+-------------------------------------------------------------------------+--------------------------------------------------------------------------------------------------------------------------------------------------------------------------------------------------------------------------+------------------+------------+-------+-----------------------------+--------------------------------------------------------------------+----+\n",
      "|Neko Entertainment     |Wooden Sen'SeY                                                         |Wooden Sen'SeY                                                         |http://store.steampowered.com/app/259830/Wooden_SenSeY/                                                    |2013-12-05  |Action, Indie, Platformer                                                                                                                                                                             |http://steamcommunity.com/app/259830/reviews/?browsefilter=mostrecent&p=1|Single-player, Steam Achievements, Full controller support, Steam Trading Cards, Steam Cloud, Steam Leaderboards                                                                                                          |9.989999771118164 |0           |259830 |Upper Byte                   |Action, Indie                                                       |2013|\n",
      "|Crescent Moon Games    |Ravensword: Shadowlands                                                |Ravensword: Shadowlands                                                |http://store.steampowered.com/app/253410/Ravensword_Shadowlands/                                           |2013-12-06  |RPG, Adventure, Action, Indie, Open World, Singleplayer, Fantasy                                                                                                                                      |http://steamcommunity.com/app/253410/reviews/?browsefilter=mostrecent&p=1|Single-player                                                                                                                                                                                                             |6.989999771118164 |0           |253410 |Crescent Moon Games          |Action, Adventure, Indie, RPG                                       |2013|\n",
      "|                       |DARK - Cult of the Dead DLC                                            |DARK - Cult of the Dead DLC                                            |http://store.steampowered.com/app/249170/DARK__Cult_of_the_Dead_DLC/                                       |2013-12-05  |Action, RPG, Stealth                                                                                                                                                                                  |http://steamcommunity.com/app/249170/reviews/?browsefilter=mostrecent&p=1|Single-player, Downloadable Content, Steam Achievements, Steam Trading Cards, Partial Controller Support, Steam Cloud                                                                                                     |5.989999771118164 |0           |249170 |Realmforge Studios           |Action, RPG                                                         |2013|\n",
      "|Agharta Studio         |Shufflepuck Cantina Deluxe                                             |Shufflepuck Cantina Deluxe                                             |http://store.steampowered.com/app/259510/Shufflepuck_Cantina_Deluxe/                                       |2013-12-06  |Sports, Indie, Action, VR, Arcade, Casual, Sci-fi, Remake                                                                                                                                             |http://steamcommunity.com/app/259510/reviews/?browsefilter=mostrecent&p=1|Single-player, Steam Achievements, Steam Trading Cards, Steam Cloud, Stats, Steam Leaderboards                                                                                                                            |9.989999771118164 |0           |259510 |Agharta Studio               |Action, Indie, Sports                                               |2013|\n",
      "|Surprise Attack        |Particulars                                                            |Particulars                                                            |http://store.steampowered.com/app/259470/Particulars/                                                      |2014-11-19  |Indie, Puzzle, Physics                                                                                                                                                                                |http://steamcommunity.com/app/259470/reviews/?browsefilter=mostrecent&p=1|Single-player, Steam Achievements, Full controller support, Steam Trading Cards, Steam Cloud                                                                                                                              |5.989999771118164 |0           |259470 |SeeThrough Studios           |Indie                                                               |2014|\n",
      "|                       |Rocksmith® 2014 – Disturbed Song Pack                                  |Rocksmith® 2014 – Disturbed Song Pack                                  |http://store.steampowered.com/app/258391/Rocksmith_2014__Disturbed_Song_Pack/                              |2013-12-10  |Casual, Simulation                                                                                                                                                                                    |http://steamcommunity.com/app/258391/reviews/?browsefilter=mostrecent&p=1|Single-player, Shared/Split Screen, Downloadable Content, Steam Achievements, Steam Trading Cards, Partial Controller Support, Steam Cloud, Steam Leaderboards                                                            |7.989999771118164 |0           |258391 |Ubisoft - San Francisco      |Casual, Simulation                                                  |2013|\n",
      "|Ubisoft                |Rocksmith® 2014 – Disturbed - “Down with the Sickness”                 |Rocksmith® 2014 – Disturbed - “Down with the Sickness”                 |http://store.steampowered.com/app/258388/Rocksmith_2014__Disturbed__Down_with_the_Sickness/                |2013-12-10  |Casual, Simulation                                                                                                                                                                                    |http://steamcommunity.com/app/258388/reviews/?browsefilter=mostrecent&p=1|Single-player, Shared/Split Screen, Downloadable Content, Steam Achievements, Steam Trading Cards, Partial Controller Support, Steam Cloud, Steam Leaderboards                                                            |2.990000009536743 |0           |258388 |Ubisoft - San Francisco      |Casual, Simulation                                                  |2013|\n",
      "|Nival                  |King’s Bounty: Legions                                                 |King’s Bounty: Legions                                                 |http://store.steampowered.com/app/235400/Kings_Bounty_Legions/                                             |2013-12-10  |Free to Play, Strategy, RPG, Adventure, Turn-Based, Massively Multiplayer, Indie, Turn-Based Strategy, Fantasy                                                                                        |http://steamcommunity.com/app/235400/reviews/?browsefilter=mostrecent&p=1|Single-player, Multi-player, Cross-Platform Multiplayer                                                                                                                                                                   |-1.0              |0           |235400 |Nival                        |Adventure, Free to Play, Indie, Massively Multiplayer, RPG, Strategy|2013|\n",
      "|Ubisoft                |Rocksmith® 2014 – Disturbed - “Voices”                                 |Rocksmith® 2014 – Disturbed - “Voices”                                 |http://store.steampowered.com/app/258390/Rocksmith_2014__Disturbed__Voices/                                |2013-12-10  |Casual, Simulation                                                                                                                                                                                    |http://steamcommunity.com/app/258390/reviews/?browsefilter=mostrecent&p=1|Single-player, Shared/Split Screen, Downloadable Content, Steam Achievements, Steam Trading Cards, Partial Controller Support, Steam Cloud, Steam Leaderboards                                                            |2.990000009536743 |0           |258390 |Ubisoft - San Francisco      |Casual, Simulation                                                  |2013|\n",
      "|SCS Software           |Euro Truck Simulator 2 - Ice Cold Paint Jobs Pack                      |Euro Truck Simulator 2 - Ice Cold Paint Jobs Pack                      |http://store.steampowered.com/app/266930/Euro_Truck_Simulator_2__Ice_Cold_Paint_Jobs_Pack/                 |2013-12-10  |Simulation, Indie                                                                                                                                                                                     |http://steamcommunity.com/app/266930/reviews/?browsefilter=mostrecent&p=1|Single-player, Downloadable Content, Steam Achievements, Steam Trading Cards, Partial Controller Support, Includes level editor                                                                                           |1.9900000095367432|0           |266930 |SCS Software                 |Indie, Simulation                                                   |2013|\n",
      "|Ubisoft                |Assassin’s Creed®IV Black Flag™ - MP Character Pack: Blackbeard's Wrath|Assassin’s Creed®IV Black Flag™ - MP Character Pack: Blackbeard's Wrath|http://store.steampowered.com/app/264802/Assassins_CreedIV_Black_Flag__MP_Character_Pack_Blackbeards_Wrath/|2013-12-10  |Adventure, Action                                                                                                                                                                                     |http://steamcommunity.com/app/264802/reviews/?browsefilter=mostrecent&p=1|Single-player, Multi-player, Downloadable Content                                                                                                                                                                         |2.990000009536743 |0           |264802 |Ubisoft Montreal             |Action, Adventure                                                   |2013|\n",
      "|Curve Studios          |Velocity®Ultra - Soundtrack                                            |Velocity®Ultra - Soundtrack                                            |http://store.steampowered.com/app/267880/VelocityUltra__Soundtrack/                                        |2013-12-12  |Action                                                                                                                                                                                                |http://steamcommunity.com/app/267880/reviews/?browsefilter=mostrecent&p=1|Single-player, Downloadable Content                                                                                                                                                                                       |4.989999771118164 |0           |267880 |                             |Action                                                              |2013|\n",
      "|Coffee Stain Publishing|Sanctum 2: The Last Stand                                              |Sanctum 2: The Last Stand                                              |http://store.steampowered.com/app/237090/Sanctum_2_The_Last_Stand/                                         |2013-12-12  |Indie, Action, Strategy                                                                                                                                                                               |http://steamcommunity.com/app/237090/reviews/?browsefilter=mostrecent&p=1|Single-player, Multi-player, Co-op, Downloadable Content, Steam Achievements, Full controller support, Steam Trading Cards, Steam Cloud, Steam Leaderboards                                                               |4.989999771118164 |0           |237090 |Coffee Stain Studios         |Action, Indie, Strategy                                             |2013|\n",
      "|WildTangent            |FATE                                                                   |FATE                                                                   |http://store.steampowered.com/app/246840/FATE/                                                             |2005-05-18  |RPG, Action, Adventure, Dungeon Crawler, Classic, Action RPG, Hack and Slash, Fantasy, Singleplayer, Fishing, Casual                                                                                  |http://steamcommunity.com/app/246840/reviews/?browsefilter=mostrecent&p=1|Single-player, Steam Achievements, Steam Trading Cards, Steam Cloud, Steam Leaderboards                                                                                                                                   |7.989999771118164 |0           |246840 |WildTangent                  |Action, Adventure, RPG                                              |2005|\n",
      "|Activision             |Call of Duty®: Ghosts - Festive Personalization Pack                   |Call of Duty®: Ghosts - Festive Personalization Pack                   |http://store.steampowered.com/app/268100/Call_of_Duty_Ghosts__Festive_Personalization_Pack/                |2013-12-12  |Action                                                                                                                                                                                                |http://steamcommunity.com/app/268100/reviews/?browsefilter=mostrecent&p=1|Single-player, Multi-player, Downloadable Content, Steam Achievements, Full controller support, Steam Cloud, Steam Leaderboards                                                                                           |-1.0              |0           |268100 |Infinity Ward                |Action                                                              |2013|\n",
      "|tinyBuild              |Not The Robots                                                         |Not The Robots                                                         |http://store.steampowered.com/app/257120/Not_The_Robots/                                                   |2013-12-12  |Stealth, Indie, Strategy, Action, Rogue-like, Rogue-lite, Robots, Singleplayer, Procedural Generation, Sci-fi, Perma Death                                                                            |http://steamcommunity.com/app/257120/reviews/?browsefilter=mostrecent&p=1|Single-player, Steam Achievements, Full controller support, Steam Trading Cards, Steam Cloud                                                                                                                              |9.989999771118164 |0           |257120 |2DArray                      |Action, Indie, Strategy                                             |2013|\n",
      "|Dreamatrix             |Spaceforce Constellations                                              |Spaceforce Constellations                                              |http://store.steampowered.com/app/263800/Spaceforce_Constellations/                                        |2013-12-12  |Strategy                                                                                                                                                                                              |http://steamcommunity.com/app/263800/reviews/?browsefilter=mostrecent&p=1|Single-player                                                                                                                                                                                                             |9.989999771118164 |0           |263800 |Dreamatrix                   |Strategy                                                            |2013|\n",
      "|Netcore Games          |Tales of Maj'Eyal                                                      |Tales of Maj'Eyal                                                      |http://store.steampowered.com/app/259680/Tales_of_MajEyal/                                                 |2012-12-31  |Rogue-like, RPG, Turn-Based, Indie, Fantasy, Singleplayer, Difficult, Adventure, Moddable, Open World, Perma Death, Procedural Generation, Replay Value, Tactical, 2D, Top-Down, Dungeon Crawler, Loot|http://steamcommunity.com/app/259680/reviews/?browsefilter=mostrecent&p=1|Single-player, Steam Achievements, Steam Trading Cards, Steam Workshop, Steam Cloud                                                                                                                                       |6.989999771118164 |0           |259680 |Netcore Games                |Adventure, Indie, RPG                                               |2012|\n",
      "|THQ Nordic             |Painkiller Hell & Damnation: City Critters                             |Painkiller Hell &amp; Damnation: City Critters                         |http://store.steampowered.com/app/229310/Painkiller_Hell__Damnation_City_Critters/                         |2013-12-13  |Action                                                                                                                                                                                                |http://steamcommunity.com/app/229310/reviews/?browsefilter=mostrecent&p=1|Single-player, Multi-player, Co-op, Shared/Split Screen, Downloadable Content, Steam Achievements, Steam Trading Cards, Steam Workshop, Partial Controller Support, Steam Cloud, Steam Leaderboards, Includes level editor|6.989999771118164 |0           |229310 |The Farm 51                  |Action                                                              |2013|\n",
      "|Devolver Digital       |Marc Eckō's Getting Up: Contents Under Pressure                        |Marc Eckō's Getting Up: Contents Under Pressure                        |http://store.steampowered.com/app/260190/Marc_Ecks_Getting_Up_Contents_Under_Pressure/                     |2006-02-14  |Action, Adventure, Parkour, Great Soundtrack, Third Person, Classic, Atmospheric, Stealth, Singleplayer                                                                                               |http://steamcommunity.com/app/260190/reviews/?browsefilter=mostrecent&p=1|Single-player, Partial Controller Support                                                                                                                                                                                 |14.989999771118164|0           |260190 |The Collective,General Arcade|Action, Adventure                                                   |2006|\n",
      "+-----------------------+-----------------------------------------------------------------------+-----------------------------------------------------------------------+-----------------------------------------------------------------------------------------------------------+------------+------------------------------------------------------------------------------------------------------------------------------------------------------------------------------------------------------+-------------------------------------------------------------------------+--------------------------------------------------------------------------------------------------------------------------------------------------------------------------------------------------------------------------+------------------+------------+-------+-----------------------------+--------------------------------------------------------------------+----+\n",
      "only showing top 20 rows\n",
      "\n",
      "['-1', '0', '1']\n"
     ]
    }
   ],
   "source": [
    "# Tratar los valores en la columna 'early_access'\n",
    "steam_games_transformed = steam_games_transformed.withColumn(\n",
    "    \"early_access\",\n",
    "    when(steam_games_transformed[\"early_access\"] == \"\", -1)\n",
    "    .when(steam_games_transformed[\"early_access\"] == \"false\", 0)\n",
    "    .when(steam_games_transformed[\"early_access\"] == \"true\", 1)\n",
    "    .otherwise(\"Unknown\")\n",
    ")\n",
    "\n",
    "# Mostrar el DataFrame resultante\n",
    "steam_games_transformed.show(truncate=False)\n",
    "\n",
    "# Obtener valores únicos de la columna 'early_access' como lista\n",
    "unique_access_values = steam_games_transformed.select(\"early_access\").distinct().orderBy(\"early_access\")\n",
    "# Convertir a lista\n",
    "access_list = [row.early_access for row in unique_access_values.collect()]\n",
    "# Mostrar los valores únicos como un array\n",
    "print(access_list)\n",
    "\n",
    "\n",
    "# Paso 1: Reemplazar cadenas vacías por 'Unknown'\n",
    "steam_games_transformed = steam_games_transformed.withColumn(\"developer\",\n",
    "                                           when(col(\"developer\") == \"\", \"Unknown\")\n",
    "                                           .otherwise(col(\"developer\")))\n",
    "\n",
    "# Paso 3: Eliminar caracteres especiales y limpiar acentos\n",
    "steam_games_transformed = steam_games_transformed.withColumn(\"developer\",\n",
    "                                           lower(regexp_replace(trim(col(\"developer\")),\n",
    "                                                               \"[^a-zA-Z0-9\\s]\", \"\")))"
   ]
  },
  {
   "cell_type": "code",
   "execution_count": 211,
   "metadata": {},
   "outputs": [
    {
     "name": "stdout",
     "output_type": "stream",
     "text": [
      "root\n",
      " |-- user_id: string (nullable = true)\n",
      " |-- user_url: string (nullable = true)\n",
      " |-- item_id: string (nullable = true)\n",
      " |-- recommend: integer (nullable = true)\n",
      " |-- review: string (nullable = true)\n",
      " |-- funny: string (nullable = true)\n",
      " |-- posted: string (nullable = true)\n",
      " |-- last_edited: string (nullable = true)\n",
      " |-- helpful: string (nullable = true)\n",
      " |-- posted_date: date (nullable = true)\n",
      " |-- clean_posted: string (nullable = true)\n",
      " |-- clean_date: string (nullable = true)\n",
      "\n"
     ]
    }
   ],
   "source": [
    "steam_games_transformed.printSchema()"
   ]
  },
  {
   "cell_type": "code",
   "execution_count": null,
   "metadata": {},
   "outputs": [],
   "source": [
    "genres_str"
   ]
  },
  {
   "cell_type": "code",
   "execution_count": 209,
   "metadata": {},
   "outputs": [
    {
     "ename": "AnalysisException",
     "evalue": "[UNRESOLVED_COLUMN.WITH_SUGGESTION] A column or function parameter with name `genres_str` cannot be resolved. Did you mean one of the following? [`item_id`, `review`, `user_id`, `posted`, `user_url`].;\n'Project ['genres_str]\n+- Project [user_id#20685, user_url#20698, item_id#20711, recommend#20724, review#20737, funny#20750, posted#20763, last_edited#20776, helpful#20789, posted_date#20802, clean_posted#20815, clean_date#20596 AS clean_date#20828]\n   +- Project [user_id#20685, user_url#20698, item_id#20711, recommend#20724, review#20737, funny#20750, posted#20763, last_edited#20776, helpful#20789, posted_date#20802, clean_posted#20584 AS clean_posted#20815, clean_date#20596]\n      +- Project [user_id#20685, user_url#20698, item_id#20711, recommend#20724, review#20737, funny#20750, posted#20763, last_edited#20776, helpful#20789, posted_date#20610 AS posted_date#20802, clean_posted#20584, clean_date#20596]\n         +- Project [user_id#20685, user_url#20698, item_id#20711, recommend#20724, review#20737, funny#20750, posted#20763, last_edited#20776, helpful#13062 AS helpful#20789, posted_date#20610, clean_posted#20584, clean_date#20596]\n            +- Project [user_id#20685, user_url#20698, item_id#20711, recommend#20724, review#20737, funny#20750, posted#20763, last_edited#13052 AS last_edited#20776, helpful#13062, posted_date#20610, clean_posted#20584, clean_date#20596]\n               +- Project [user_id#20685, user_url#20698, item_id#20711, recommend#20724, review#20737, funny#20750, posted#13042 AS posted#20763, last_edited#13052, helpful#13062, posted_date#20610, clean_posted#20584, clean_date#20596]\n                  +- Project [user_id#20685, user_url#20698, item_id#20711, recommend#20724, review#20737, funny#13032 AS funny#20750, posted#13042, last_edited#13052, helpful#13062, posted_date#20610, clean_posted#20584, clean_date#20596]\n                     +- Project [user_id#20685, user_url#20698, item_id#20711, recommend#20724, review#20623 AS review#20737, funny#13032, posted#13042, last_edited#13052, helpful#13062, posted_date#20610, clean_posted#20584, clean_date#20596]\n                        +- Project [user_id#20685, user_url#20698, item_id#20711, recommend#16389 AS recommend#20724, review#20623, funny#13032, posted#13042, last_edited#13052, helpful#13062, posted_date#20610, clean_posted#20584, clean_date#20596]\n                           +- Project [user_id#20685, user_url#20698, item_id#13002 AS item_id#20711, recommend#16389, review#20623, funny#13032, posted#13042, last_edited#13052, helpful#13062, posted_date#20610, clean_posted#20584, clean_date#20596]\n                              +- Project [user_id#20685, user_url#12992 AS user_url#20698, item_id#13002, recommend#16389, review#20623, funny#13032, posted#13042, last_edited#13052, helpful#13062, posted_date#20610, clean_posted#20584, clean_date#20596]\n                                 +- Project [user_id#12981 AS user_id#20685, user_url#12992, item_id#13002, recommend#16389, review#20623, funny#13032, posted#13042, last_edited#13052, helpful#13062, posted_date#20610, clean_posted#20584, clean_date#20596]\n                                    +- Project [user_id#12981, user_url#12992, item_id#13002, recommend#16389, CASE WHEN (isnull(review#13022) OR (review#13022 = )) THEN Unknown ELSE review#13022 END AS review#20623, funny#13032, posted#13042, last_edited#13052, helpful#13062, posted_date#20610, clean_posted#20584, clean_date#20596]\n                                       +- Project [user_id#12981, user_url#12992, item_id#13002, recommend#16389, review#13022, funny#13032, posted#13042, last_edited#13052, helpful#13062, cast(to_date(clean_date#20596, Some(MMM d, yyyy.), Some(America/Bogota), false) as date) AS posted_date#20610, clean_posted#20584, clean_date#20596]\n                                          +- Project [user_id#12981, user_url#12992, item_id#13002, recommend#16389, review#13022, funny#13032, posted#13042, last_edited#13052, helpful#13062, posted_date#16637, clean_posted#20584, trim(concat(regexp_replace(clean_posted#20584, \\.,, ,, 1), .), None) AS clean_date#20596]\n                                             +- Project [user_id#12981, user_url#12992, item_id#13002, recommend#16389, review#13022, funny#13032, posted#13042, last_edited#13052, helpful#13062, posted_date#16637, CASE WHEN Contains(clean_posted#20572, ,) THEN clean_posted#20572 ELSE concat(clean_posted#20572, , 2024) END AS clean_posted#20584]\n                                                +- Project [user_id#12981, user_url#12992, item_id#13002, recommend#16389, review#13022, funny#13032, posted#13042, last_edited#13052, helpful#13062, posted_date#16637, trim(clean_posted#20559, None) AS clean_posted#20572]\n                                                   +- Project [user_id#12981, user_url#12992, item_id#13002, recommend#16389, review#13022, funny#13032, posted#13042, last_edited#13052, helpful#13062, posted_date#16637, regexp_replace(posted#13042, Posted\\s*, , 1) AS clean_posted#20559]\n                                                      +- Project [user_id#12981, user_url#12992, item_id#13002, recommend#16389, review#13022, funny#13032, posted#13042, last_edited#13052, helpful#13062, regexp_extract(posted#13042, (Posted )?(\\w+ \\d+, \\d{4})\\.?, 2) AS posted_date#16637]\n                                                         +- Project [user_id#12981, user_url#12992, item_id#13002, cast(recommend#16379 as int) AS recommend#16389, review#13022, funny#13032, posted#13042, last_edited#13052, helpful#13062]\n                                                            +- Project [user_id#12981, user_url#12992, item_id#13002, CASE WHEN (recommend#13012 = true) THEN 1 ELSE CASE WHEN (recommend#13012 = false) THEN 0 END END AS recommend#16379, review#13022, funny#13032, posted#13042, last_edited#13052, helpful#13062]\n                                                               +- Project [user_id#12981, user_url#12992, item_id#13002, recommend#13012, review#13022, funny#13032, posted#13042, last_edited#13052, helpful#12772 AS helpful#13062]\n                                                                  +- Project [user_id#12981, user_url#12992, item_id#13002, recommend#13012, review#13022, funny#13032, posted#13042, last_edited#12771 AS last_edited#13052, helpful#12772]\n                                                                     +- Project [user_id#12981, user_url#12992, item_id#13002, recommend#13012, review#13022, funny#13032, posted#12770 AS posted#13042, last_edited#12771, helpful#12772]\n                                                                        +- Project [user_id#12981, user_url#12992, item_id#13002, recommend#13012, review#13022, funny#12769 AS funny#13032, posted#12770, last_edited#12771, helpful#12772]\n                                                                           +- Project [user_id#12981, user_url#12992, item_id#13002, recommend#13012, review#12768 AS review#13022, funny#12769, posted#12770, last_edited#12771, helpful#12772]\n                                                                              +- Project [user_id#12981, user_url#12992, item_id#13002, recommend#12767 AS recommend#13012, review#12768, funny#12769, posted#12770, last_edited#12771, helpful#12772]\n                                                                                 +- Project [user_id#12981, user_url#12992, item_id#12766 AS item_id#13002, recommend#12767, review#12768, funny#12769, posted#12770, last_edited#12771, helpful#12772]\n                                                                                    +- Project [user_id#12981, user_url#12765 AS user_url#12992, item_id#12766, recommend#12767, review#12768, funny#12769, posted#12770, last_edited#12771, helpful#12772]\n                                                                                       +- Project [user_id#12764 AS user_id#12981, user_url#12765, item_id#12766, recommend#12767, review#12768, funny#12769, posted#12770, last_edited#12771, helpful#12772]\n                                                                                          +- Relation [user_id#12764,user_url#12765,item_id#12766,recommend#12767,review#12768,funny#12769,posted#12770,last_edited#12771,helpful#12772] parquet\n",
     "output_type": "error",
     "traceback": [
      "\u001b[1;31m---------------------------------------------------------------------------\u001b[0m",
      "\u001b[1;31mAnalysisException\u001b[0m                         Traceback (most recent call last)",
      "Cell \u001b[1;32mIn[209], line 2\u001b[0m\n\u001b[0;32m      1\u001b[0m \u001b[38;5;66;03m# Obtener valores únicos de la columna 'genres_str' como lista\u001b[39;00m\n\u001b[1;32m----> 2\u001b[0m unique_genres_values \u001b[38;5;241m=\u001b[39m \u001b[43msteam_games_transformed\u001b[49m\u001b[38;5;241;43m.\u001b[39;49m\u001b[43mselect\u001b[49m\u001b[43m(\u001b[49m\u001b[38;5;124;43m\"\u001b[39;49m\u001b[38;5;124;43mgenres_str\u001b[39;49m\u001b[38;5;124;43m\"\u001b[39;49m\u001b[43m)\u001b[49m\u001b[38;5;241m.\u001b[39mdistinct()\u001b[38;5;241m.\u001b[39morderBy(\u001b[38;5;124m\"\u001b[39m\u001b[38;5;124mgenres_str\u001b[39m\u001b[38;5;124m\"\u001b[39m)\n\u001b[0;32m      4\u001b[0m \u001b[38;5;66;03m# Convertir a lista\u001b[39;00m\n\u001b[0;32m      5\u001b[0m genres_list \u001b[38;5;241m=\u001b[39m [row\u001b[38;5;241m.\u001b[39mgenres_str \u001b[38;5;28;01mfor\u001b[39;00m row \u001b[38;5;129;01min\u001b[39;00m unique_genres_values\u001b[38;5;241m.\u001b[39mcollect()]\n",
      "File \u001b[1;32mc:\\Users\\ozi\\AppData\\Local\\Programs\\Python\\Python310\\lib\\site-packages\\pyspark\\sql\\dataframe.py:3223\u001b[0m, in \u001b[0;36mDataFrame.select\u001b[1;34m(self, *cols)\u001b[0m\n\u001b[0;32m   3178\u001b[0m \u001b[38;5;28;01mdef\u001b[39;00m \u001b[38;5;21mselect\u001b[39m(\u001b[38;5;28mself\u001b[39m, \u001b[38;5;241m*\u001b[39mcols: \u001b[38;5;124m\"\u001b[39m\u001b[38;5;124mColumnOrName\u001b[39m\u001b[38;5;124m\"\u001b[39m) \u001b[38;5;241m-\u001b[39m\u001b[38;5;241m>\u001b[39m \u001b[38;5;124m\"\u001b[39m\u001b[38;5;124mDataFrame\u001b[39m\u001b[38;5;124m\"\u001b[39m:  \u001b[38;5;66;03m# type: ignore[misc]\u001b[39;00m\n\u001b[0;32m   3179\u001b[0m \u001b[38;5;250m    \u001b[39m\u001b[38;5;124;03m\"\"\"Projects a set of expressions and returns a new :class:`DataFrame`.\u001b[39;00m\n\u001b[0;32m   3180\u001b[0m \n\u001b[0;32m   3181\u001b[0m \u001b[38;5;124;03m    .. versionadded:: 1.3.0\u001b[39;00m\n\u001b[1;32m   (...)\u001b[0m\n\u001b[0;32m   3221\u001b[0m \u001b[38;5;124;03m    +-----+---+\u001b[39;00m\n\u001b[0;32m   3222\u001b[0m \u001b[38;5;124;03m    \"\"\"\u001b[39;00m\n\u001b[1;32m-> 3223\u001b[0m     jdf \u001b[38;5;241m=\u001b[39m \u001b[38;5;28;43mself\u001b[39;49m\u001b[38;5;241;43m.\u001b[39;49m\u001b[43m_jdf\u001b[49m\u001b[38;5;241;43m.\u001b[39;49m\u001b[43mselect\u001b[49m\u001b[43m(\u001b[49m\u001b[38;5;28;43mself\u001b[39;49m\u001b[38;5;241;43m.\u001b[39;49m\u001b[43m_jcols\u001b[49m\u001b[43m(\u001b[49m\u001b[38;5;241;43m*\u001b[39;49m\u001b[43mcols\u001b[49m\u001b[43m)\u001b[49m\u001b[43m)\u001b[49m\n\u001b[0;32m   3224\u001b[0m     \u001b[38;5;28;01mreturn\u001b[39;00m DataFrame(jdf, \u001b[38;5;28mself\u001b[39m\u001b[38;5;241m.\u001b[39msparkSession)\n",
      "File \u001b[1;32mc:\\Users\\ozi\\AppData\\Local\\Programs\\Python\\Python310\\lib\\site-packages\\py4j\\java_gateway.py:1322\u001b[0m, in \u001b[0;36mJavaMember.__call__\u001b[1;34m(self, *args)\u001b[0m\n\u001b[0;32m   1316\u001b[0m command \u001b[38;5;241m=\u001b[39m proto\u001b[38;5;241m.\u001b[39mCALL_COMMAND_NAME \u001b[38;5;241m+\u001b[39m\\\n\u001b[0;32m   1317\u001b[0m     \u001b[38;5;28mself\u001b[39m\u001b[38;5;241m.\u001b[39mcommand_header \u001b[38;5;241m+\u001b[39m\\\n\u001b[0;32m   1318\u001b[0m     args_command \u001b[38;5;241m+\u001b[39m\\\n\u001b[0;32m   1319\u001b[0m     proto\u001b[38;5;241m.\u001b[39mEND_COMMAND_PART\n\u001b[0;32m   1321\u001b[0m answer \u001b[38;5;241m=\u001b[39m \u001b[38;5;28mself\u001b[39m\u001b[38;5;241m.\u001b[39mgateway_client\u001b[38;5;241m.\u001b[39msend_command(command)\n\u001b[1;32m-> 1322\u001b[0m return_value \u001b[38;5;241m=\u001b[39m \u001b[43mget_return_value\u001b[49m\u001b[43m(\u001b[49m\n\u001b[0;32m   1323\u001b[0m \u001b[43m    \u001b[49m\u001b[43manswer\u001b[49m\u001b[43m,\u001b[49m\u001b[43m \u001b[49m\u001b[38;5;28;43mself\u001b[39;49m\u001b[38;5;241;43m.\u001b[39;49m\u001b[43mgateway_client\u001b[49m\u001b[43m,\u001b[49m\u001b[43m \u001b[49m\u001b[38;5;28;43mself\u001b[39;49m\u001b[38;5;241;43m.\u001b[39;49m\u001b[43mtarget_id\u001b[49m\u001b[43m,\u001b[49m\u001b[43m \u001b[49m\u001b[38;5;28;43mself\u001b[39;49m\u001b[38;5;241;43m.\u001b[39;49m\u001b[43mname\u001b[49m\u001b[43m)\u001b[49m\n\u001b[0;32m   1325\u001b[0m \u001b[38;5;28;01mfor\u001b[39;00m temp_arg \u001b[38;5;129;01min\u001b[39;00m temp_args:\n\u001b[0;32m   1326\u001b[0m     \u001b[38;5;28;01mif\u001b[39;00m \u001b[38;5;28mhasattr\u001b[39m(temp_arg, \u001b[38;5;124m\"\u001b[39m\u001b[38;5;124m_detach\u001b[39m\u001b[38;5;124m\"\u001b[39m):\n",
      "File \u001b[1;32mc:\\Users\\ozi\\AppData\\Local\\Programs\\Python\\Python310\\lib\\site-packages\\pyspark\\errors\\exceptions\\captured.py:185\u001b[0m, in \u001b[0;36mcapture_sql_exception.<locals>.deco\u001b[1;34m(*a, **kw)\u001b[0m\n\u001b[0;32m    181\u001b[0m converted \u001b[38;5;241m=\u001b[39m convert_exception(e\u001b[38;5;241m.\u001b[39mjava_exception)\n\u001b[0;32m    182\u001b[0m \u001b[38;5;28;01mif\u001b[39;00m \u001b[38;5;129;01mnot\u001b[39;00m \u001b[38;5;28misinstance\u001b[39m(converted, UnknownException):\n\u001b[0;32m    183\u001b[0m     \u001b[38;5;66;03m# Hide where the exception came from that shows a non-Pythonic\u001b[39;00m\n\u001b[0;32m    184\u001b[0m     \u001b[38;5;66;03m# JVM exception message.\u001b[39;00m\n\u001b[1;32m--> 185\u001b[0m     \u001b[38;5;28;01mraise\u001b[39;00m converted \u001b[38;5;28;01mfrom\u001b[39;00m \u001b[38;5;28;01mNone\u001b[39;00m\n\u001b[0;32m    186\u001b[0m \u001b[38;5;28;01melse\u001b[39;00m:\n\u001b[0;32m    187\u001b[0m     \u001b[38;5;28;01mraise\u001b[39;00m\n",
      "\u001b[1;31mAnalysisException\u001b[0m: [UNRESOLVED_COLUMN.WITH_SUGGESTION] A column or function parameter with name `genres_str` cannot be resolved. Did you mean one of the following? [`item_id`, `review`, `user_id`, `posted`, `user_url`].;\n'Project ['genres_str]\n+- Project [user_id#20685, user_url#20698, item_id#20711, recommend#20724, review#20737, funny#20750, posted#20763, last_edited#20776, helpful#20789, posted_date#20802, clean_posted#20815, clean_date#20596 AS clean_date#20828]\n   +- Project [user_id#20685, user_url#20698, item_id#20711, recommend#20724, review#20737, funny#20750, posted#20763, last_edited#20776, helpful#20789, posted_date#20802, clean_posted#20584 AS clean_posted#20815, clean_date#20596]\n      +- Project [user_id#20685, user_url#20698, item_id#20711, recommend#20724, review#20737, funny#20750, posted#20763, last_edited#20776, helpful#20789, posted_date#20610 AS posted_date#20802, clean_posted#20584, clean_date#20596]\n         +- Project [user_id#20685, user_url#20698, item_id#20711, recommend#20724, review#20737, funny#20750, posted#20763, last_edited#20776, helpful#13062 AS helpful#20789, posted_date#20610, clean_posted#20584, clean_date#20596]\n            +- Project [user_id#20685, user_url#20698, item_id#20711, recommend#20724, review#20737, funny#20750, posted#20763, last_edited#13052 AS last_edited#20776, helpful#13062, posted_date#20610, clean_posted#20584, clean_date#20596]\n               +- Project [user_id#20685, user_url#20698, item_id#20711, recommend#20724, review#20737, funny#20750, posted#13042 AS posted#20763, last_edited#13052, helpful#13062, posted_date#20610, clean_posted#20584, clean_date#20596]\n                  +- Project [user_id#20685, user_url#20698, item_id#20711, recommend#20724, review#20737, funny#13032 AS funny#20750, posted#13042, last_edited#13052, helpful#13062, posted_date#20610, clean_posted#20584, clean_date#20596]\n                     +- Project [user_id#20685, user_url#20698, item_id#20711, recommend#20724, review#20623 AS review#20737, funny#13032, posted#13042, last_edited#13052, helpful#13062, posted_date#20610, clean_posted#20584, clean_date#20596]\n                        +- Project [user_id#20685, user_url#20698, item_id#20711, recommend#16389 AS recommend#20724, review#20623, funny#13032, posted#13042, last_edited#13052, helpful#13062, posted_date#20610, clean_posted#20584, clean_date#20596]\n                           +- Project [user_id#20685, user_url#20698, item_id#13002 AS item_id#20711, recommend#16389, review#20623, funny#13032, posted#13042, last_edited#13052, helpful#13062, posted_date#20610, clean_posted#20584, clean_date#20596]\n                              +- Project [user_id#20685, user_url#12992 AS user_url#20698, item_id#13002, recommend#16389, review#20623, funny#13032, posted#13042, last_edited#13052, helpful#13062, posted_date#20610, clean_posted#20584, clean_date#20596]\n                                 +- Project [user_id#12981 AS user_id#20685, user_url#12992, item_id#13002, recommend#16389, review#20623, funny#13032, posted#13042, last_edited#13052, helpful#13062, posted_date#20610, clean_posted#20584, clean_date#20596]\n                                    +- Project [user_id#12981, user_url#12992, item_id#13002, recommend#16389, CASE WHEN (isnull(review#13022) OR (review#13022 = )) THEN Unknown ELSE review#13022 END AS review#20623, funny#13032, posted#13042, last_edited#13052, helpful#13062, posted_date#20610, clean_posted#20584, clean_date#20596]\n                                       +- Project [user_id#12981, user_url#12992, item_id#13002, recommend#16389, review#13022, funny#13032, posted#13042, last_edited#13052, helpful#13062, cast(to_date(clean_date#20596, Some(MMM d, yyyy.), Some(America/Bogota), false) as date) AS posted_date#20610, clean_posted#20584, clean_date#20596]\n                                          +- Project [user_id#12981, user_url#12992, item_id#13002, recommend#16389, review#13022, funny#13032, posted#13042, last_edited#13052, helpful#13062, posted_date#16637, clean_posted#20584, trim(concat(regexp_replace(clean_posted#20584, \\.,, ,, 1), .), None) AS clean_date#20596]\n                                             +- Project [user_id#12981, user_url#12992, item_id#13002, recommend#16389, review#13022, funny#13032, posted#13042, last_edited#13052, helpful#13062, posted_date#16637, CASE WHEN Contains(clean_posted#20572, ,) THEN clean_posted#20572 ELSE concat(clean_posted#20572, , 2024) END AS clean_posted#20584]\n                                                +- Project [user_id#12981, user_url#12992, item_id#13002, recommend#16389, review#13022, funny#13032, posted#13042, last_edited#13052, helpful#13062, posted_date#16637, trim(clean_posted#20559, None) AS clean_posted#20572]\n                                                   +- Project [user_id#12981, user_url#12992, item_id#13002, recommend#16389, review#13022, funny#13032, posted#13042, last_edited#13052, helpful#13062, posted_date#16637, regexp_replace(posted#13042, Posted\\s*, , 1) AS clean_posted#20559]\n                                                      +- Project [user_id#12981, user_url#12992, item_id#13002, recommend#16389, review#13022, funny#13032, posted#13042, last_edited#13052, helpful#13062, regexp_extract(posted#13042, (Posted )?(\\w+ \\d+, \\d{4})\\.?, 2) AS posted_date#16637]\n                                                         +- Project [user_id#12981, user_url#12992, item_id#13002, cast(recommend#16379 as int) AS recommend#16389, review#13022, funny#13032, posted#13042, last_edited#13052, helpful#13062]\n                                                            +- Project [user_id#12981, user_url#12992, item_id#13002, CASE WHEN (recommend#13012 = true) THEN 1 ELSE CASE WHEN (recommend#13012 = false) THEN 0 END END AS recommend#16379, review#13022, funny#13032, posted#13042, last_edited#13052, helpful#13062]\n                                                               +- Project [user_id#12981, user_url#12992, item_id#13002, recommend#13012, review#13022, funny#13032, posted#13042, last_edited#13052, helpful#12772 AS helpful#13062]\n                                                                  +- Project [user_id#12981, user_url#12992, item_id#13002, recommend#13012, review#13022, funny#13032, posted#13042, last_edited#12771 AS last_edited#13052, helpful#12772]\n                                                                     +- Project [user_id#12981, user_url#12992, item_id#13002, recommend#13012, review#13022, funny#13032, posted#12770 AS posted#13042, last_edited#12771, helpful#12772]\n                                                                        +- Project [user_id#12981, user_url#12992, item_id#13002, recommend#13012, review#13022, funny#12769 AS funny#13032, posted#12770, last_edited#12771, helpful#12772]\n                                                                           +- Project [user_id#12981, user_url#12992, item_id#13002, recommend#13012, review#12768 AS review#13022, funny#12769, posted#12770, last_edited#12771, helpful#12772]\n                                                                              +- Project [user_id#12981, user_url#12992, item_id#13002, recommend#12767 AS recommend#13012, review#12768, funny#12769, posted#12770, last_edited#12771, helpful#12772]\n                                                                                 +- Project [user_id#12981, user_url#12992, item_id#12766 AS item_id#13002, recommend#12767, review#12768, funny#12769, posted#12770, last_edited#12771, helpful#12772]\n                                                                                    +- Project [user_id#12981, user_url#12765 AS user_url#12992, item_id#12766, recommend#12767, review#12768, funny#12769, posted#12770, last_edited#12771, helpful#12772]\n                                                                                       +- Project [user_id#12764 AS user_id#12981, user_url#12765, item_id#12766, recommend#12767, review#12768, funny#12769, posted#12770, last_edited#12771, helpful#12772]\n                                                                                          +- Relation [user_id#12764,user_url#12765,item_id#12766,recommend#12767,review#12768,funny#12769,posted#12770,last_edited#12771,helpful#12772] parquet\n"
     ]
    }
   ],
   "source": [
    "# Obtener valores únicos de la columna 'genres_str' como lista\n",
    "unique_genres_values = steam_games_transformed.select(\"genres_str\").distinct().orderBy(\"genres_str\")\n",
    "\n",
    "# Convertir a lista\n",
    "genres_list = [row.genres_str for row in unique_genres_values.collect()]\n",
    "\n",
    "# Mostrar los valores únicos como un array\n",
    "print(genres_list)\n"
   ]
  },
  {
   "cell_type": "code",
   "execution_count": null,
   "metadata": {},
   "outputs": [],
   "source": []
  },
  {
   "cell_type": "code",
   "execution_count": null,
   "metadata": {},
   "outputs": [],
   "source": []
  },
  {
   "cell_type": "markdown",
   "metadata": {},
   "source": [
    "#### Tratamiento `user_reviews` "
   ]
  },
  {
   "cell_type": "code",
   "execution_count": 142,
   "metadata": {},
   "outputs": [
    {
     "name": "stdout",
     "output_type": "stream",
     "text": [
      "Modelo de datos de: user_reviews \n",
      "Cantidad de registros: 59305 Cantidad de las Columnas: 9\n",
      "\n",
      "\n",
      "root\n",
      " |-- user_id: string (nullable = true)\n",
      " |-- user_url: string (nullable = true)\n",
      " |-- item_id: string (nullable = true)\n",
      " |-- recommend: boolean (nullable = true)\n",
      " |-- review: string (nullable = true)\n",
      " |-- funny: string (nullable = true)\n",
      " |-- posted: string (nullable = true)\n",
      " |-- last_edited: string (nullable = true)\n",
      " |-- helpful: string (nullable = true)\n",
      "\n",
      "\n",
      "\n",
      "+-------------------+------------------------------------------------+-------+---------+---------------------------------------------------------------------------------------------------------------------------------------------------------------------------------------------------------------------------------------------------------------------------------------------------------------------------------------------------------------------------------------------------------------------------------------------------------------------------------------------------------------------------------------------------------------------------------------------------------------------------------------------------------------------------------------------------------------------------------------------------------------------------------------------------------------------------------------------------------------------------------------------------------------------------------------------------------------------------------------------------------------------------------------------------------------------------------------------------------------------------------------------------------------------------------------------------------------------------------------------------------------------------------------------------------------------------------------------------------------------------------------------------------------------------------------------------------------------------------------------------------------------------------------------+-----+-----------------+----------------------+--------------+\n",
      "|user_id            |user_url                                        |item_id|recommend|review                                                                                                                                                                                                                                                                                                                                                                                                                                                                                                                                                                                                                                                                                                                                                                                                                                                                                                                                                                                                                                                                                                                                                                                                                                                                                                                                                                                                                                                                                                                                       |funny|posted           |last_edited           |helpful       |\n",
      "+-------------------+------------------------------------------------+-------+---------+---------------------------------------------------------------------------------------------------------------------------------------------------------------------------------------------------------------------------------------------------------------------------------------------------------------------------------------------------------------------------------------------------------------------------------------------------------------------------------------------------------------------------------------------------------------------------------------------------------------------------------------------------------------------------------------------------------------------------------------------------------------------------------------------------------------------------------------------------------------------------------------------------------------------------------------------------------------------------------------------------------------------------------------------------------------------------------------------------------------------------------------------------------------------------------------------------------------------------------------------------------------------------------------------------------------------------------------------------------------------------------------------------------------------------------------------------------------------------------------------------------------------------------------------+-----+-----------------+----------------------+--------------+\n",
      "|kitchenappliancewow|http://steamcommunity.com/id/kitchenappliancewow|322330 |true     |Don't Starve Together is an interesting game. It's an \"uncomprimising game full of science and magic\" according to the game's site, and I would agree. It's an interesting little survival game in an interesting little world. A survival game may turn off many, but I would argue that it's quite an interesting game. Or well, that was the last game. This game adds multiplayer, which in my opinion, is an absolutely genius idea. The original game, Don't Starve, turned me off after a couple hours of playing. Don't Starve Together, with the addition of multiplayer, makes the game much easier to enjoy. I also really love its sadistic art style.Bringing the game down is its aforementioned boringness (yeah, even with friends).I would recommend Don't Starve Together only to those who would like a nice survival challenge, just don't go in thinking the game'll be your new Team Fortress 2.I wouldn't recommend this game to the completionist crowd, however, as completing this game will leave you with a certain emptiness.Final Rating: 7.0/10                                                                                                                                                                                                                                                                                                                                                                                                                                                               |     |Posted August 19.|                      |No ratings yet|\n",
      "|kitchenappliancewow|http://steamcommunity.com/id/kitchenappliancewow|413150 |true     |Stardew Valley is a heartwarming game. You may pass this up in your queue as another boring indie game with pixel-art graphics, but if you look closer, you'll find a beautiful game, masterfully created by a single person, with great graphics, an intriguing plot, and a real sense of community. If you're anything like me, you'll get lost within the game within your first hour. Many draw comparisons with Harvest Moon, and I definitely agree, but as many see it as a reimagining, I see it as a spiritual successor; building upon the farming and marriage aspects of the game, and adding things like events, community, fishing, mining, combat, foraging, and the Community Centre.The few things that bring the game down are its audio bugs (very few), gamepad support (using a keyboard and mouse is much better), shallow combat scheme (could be built upon) and pixel sizings not matching sometimes, which never fails to look like a beautiful meadow with dead cows in it. By this I mean when watching TV and several inventory items, but all these are tiny nitpicks compared to the full game.I would definitely reccomend Stardew Valley, in fact, it's my Independent Game of the Year so far, and one of my favourite games of all time. And it's made by one person.Also, it's a pretty cool game to 100%. Achievements are fair and not too time-consuming, and it's an overall fun game, and the Community Centre thing is one of the best things to 100% this year, in my opinion.Final Rating: 9.1/10|     |Posted August 19.|Last edited August 19.|No ratings yet|\n",
      "+-------------------+------------------------------------------------+-------+---------+---------------------------------------------------------------------------------------------------------------------------------------------------------------------------------------------------------------------------------------------------------------------------------------------------------------------------------------------------------------------------------------------------------------------------------------------------------------------------------------------------------------------------------------------------------------------------------------------------------------------------------------------------------------------------------------------------------------------------------------------------------------------------------------------------------------------------------------------------------------------------------------------------------------------------------------------------------------------------------------------------------------------------------------------------------------------------------------------------------------------------------------------------------------------------------------------------------------------------------------------------------------------------------------------------------------------------------------------------------------------------------------------------------------------------------------------------------------------------------------------------------------------------------------------+-----+-----------------+----------------------+--------------+\n",
      "only showing top 2 rows\n",
      "\n"
     ]
    }
   ],
   "source": [
    "print(\"Modelo de datos de: user_reviews \")\n",
    "print(\"Cantidad de registros:\", user_reviews.count(), \"Cantidad de las Columnas:\", len(user_reviews.columns))\n",
    "print(\"\\n\")\n",
    "user_reviews.printSchema()\n",
    "print(\"\\n\")\n",
    "user_reviews.show(2, truncate=False)"
   ]
  },
  {
   "cell_type": "code",
   "execution_count": 143,
   "metadata": {},
   "outputs": [
    {
     "name": "stdout",
     "output_type": "stream",
     "text": [
      "[False, True]\n"
     ]
    }
   ],
   "source": [
    "# Obtener valores únicos de la columna 'early_access' como lista\n",
    "unique_access_values = user_reviews.select(\"recommend\").distinct().orderBy(\"recommend\")\n",
    "# Convertir a lista\n",
    "access_list = [row.recommend for row in unique_access_values.collect()]\n",
    "# Mostrar los valores únicos como un array\n",
    "print(access_list)"
   ]
  },
  {
   "cell_type": "code",
   "execution_count": 144,
   "metadata": {},
   "outputs": [],
   "source": [
    "# Función para tratar la columna 'recommend'\n",
    "def transform_recommend_column(df):\n",
    "    df_transformed = df.withColumn(\n",
    "        \"recommend\",\n",
    "        when(df[\"recommend\"] == True, 1)\n",
    "        .otherwise(when(df[\"recommend\"] == False, 0))\n",
    "    ).withColumn(\"recommend\", col(\"recommend\").cast(IntegerType()))  # Convertir a tipo entero\n",
    "    return df_transformed"
   ]
  },
  {
   "cell_type": "code",
   "execution_count": 145,
   "metadata": {},
   "outputs": [
    {
     "name": "stdout",
     "output_type": "stream",
     "text": [
      "+-------------------+----------------------------------------------------+-------+---------+---------------------------------------------------------------------------------------------------------------------------------------------------------------------------------------------------------------------------------------------------------------------------------------------------------------------------------------------------------------------------------------------------------------------------------------------------------------------------------------------------------------------------------------------------------------------------------------------------------------------------------------------------------------------------------------------------------------------------------------------------------------------------------------------------------------------------------------------------------------------------------------------------------------------------------------------------------------------------------------------------------------------------------------------------------------------------------------------------------------------------------------------------------------------------------------------------------------------------------------------------------------------------------------------------------------------------------------------------------------------------------------------------------------------------------------------------------------------------------------------------------------------------------------------+--------------------------------+--------------------------+----------------------+----------------------------------------------+\n",
      "|user_id            |user_url                                            |item_id|recommend|review                                                                                                                                                                                                                                                                                                                                                                                                                                                                                                                                                                                                                                                                                                                                                                                                                                                                                                                                                                                                                                                                                                                                                                                                                                                                                                                                                                                                                                                                                                                                       |funny                           |posted                    |last_edited           |helpful                                       |\n",
      "+-------------------+----------------------------------------------------+-------+---------+---------------------------------------------------------------------------------------------------------------------------------------------------------------------------------------------------------------------------------------------------------------------------------------------------------------------------------------------------------------------------------------------------------------------------------------------------------------------------------------------------------------------------------------------------------------------------------------------------------------------------------------------------------------------------------------------------------------------------------------------------------------------------------------------------------------------------------------------------------------------------------------------------------------------------------------------------------------------------------------------------------------------------------------------------------------------------------------------------------------------------------------------------------------------------------------------------------------------------------------------------------------------------------------------------------------------------------------------------------------------------------------------------------------------------------------------------------------------------------------------------------------------------------------------+--------------------------------+--------------------------+----------------------+----------------------------------------------+\n",
      "|kitchenappliancewow|http://steamcommunity.com/id/kitchenappliancewow    |322330 |1        |Don't Starve Together is an interesting game. It's an \"uncomprimising game full of science and magic\" according to the game's site, and I would agree. It's an interesting little survival game in an interesting little world. A survival game may turn off many, but I would argue that it's quite an interesting game. Or well, that was the last game. This game adds multiplayer, which in my opinion, is an absolutely genius idea. The original game, Don't Starve, turned me off after a couple hours of playing. Don't Starve Together, with the addition of multiplayer, makes the game much easier to enjoy. I also really love its sadistic art style.Bringing the game down is its aforementioned boringness (yeah, even with friends).I would recommend Don't Starve Together only to those who would like a nice survival challenge, just don't go in thinking the game'll be your new Team Fortress 2.I wouldn't recommend this game to the completionist crowd, however, as completing this game will leave you with a certain emptiness.Final Rating: 7.0/10                                                                                                                                                                                                                                                                                                                                                                                                                                                               |                                |Posted August 19.         |                      |No ratings yet                                |\n",
      "|kitchenappliancewow|http://steamcommunity.com/id/kitchenappliancewow    |413150 |1        |Stardew Valley is a heartwarming game. You may pass this up in your queue as another boring indie game with pixel-art graphics, but if you look closer, you'll find a beautiful game, masterfully created by a single person, with great graphics, an intriguing plot, and a real sense of community. If you're anything like me, you'll get lost within the game within your first hour. Many draw comparisons with Harvest Moon, and I definitely agree, but as many see it as a reimagining, I see it as a spiritual successor; building upon the farming and marriage aspects of the game, and adding things like events, community, fishing, mining, combat, foraging, and the Community Centre.The few things that bring the game down are its audio bugs (very few), gamepad support (using a keyboard and mouse is much better), shallow combat scheme (could be built upon) and pixel sizings not matching sometimes, which never fails to look like a beautiful meadow with dead cows in it. By this I mean when watching TV and several inventory items, but all these are tiny nitpicks compared to the full game.I would definitely reccomend Stardew Valley, in fact, it's my Independent Game of the Year so far, and one of my favourite games of all time. And it's made by one person.Also, it's a pretty cool game to 100%. Achievements are fair and not too time-consuming, and it's an overall fun game, and the Community Centre thing is one of the best things to 100% this year, in my opinion.Final Rating: 9.1/10|                                |Posted August 19.         |Last edited August 19.|No ratings yet                                |\n",
      "|kittenwithmittens  |http://steamcommunity.com/id/kittenwithmittens      |287290 |0        |Cooperative play was removed.Cooperative play was the best part of RE5/RE6.Would not recommend.                                                                                                                                                                                                                                                                                                                                                                                                                                                                                                                                                                                                                                                                                                                                                                                                                                                                                                                                                                                                                                                                                                                                                                                                                                                                                                                                                                                                                                              |1 person found this review funny|Posted February 25, 2015. |                      |3 of 10 people (30%) found this review helpful|\n",
      "|76561198068660878  |http://steamcommunity.com/profiles/76561198068660878|301520 |1        |good                                                                                                                                                                                                                                                                                                                                                                                                                                                                                                                                                                                                                                                                                                                                                                                                                                                                                                                                                                                                                                                                                                                                                                                                                                                                                                                                                                                                                                                                                                                                         |                                |Posted August 23.         |                      |1 of 3 people (33%) found this review helpful |\n",
      "|76561198068660878  |http://steamcommunity.com/profiles/76561198068660878|620    |1        |sooooooo gooooood!                                                                                                                                                                                                                                                                                                                                                                                                                                                                                                                                                                                                                                                                                                                                                                                                                                                                                                                                                                                                                                                                                                                                                                                                                                                                                                                                                                                                                                                                                                                           |                                |Posted August 13.         |                      |No ratings yet                                |\n",
      "|76561198068660878  |http://steamcommunity.com/profiles/76561198068660878|212680 |1        |This game is great                                                                                                                                                                                                                                                                                                                                                                                                                                                                                                                                                                                                                                                                                                                                                                                                                                                                                                                                                                                                                                                                                                                                                                                                                                                                                                                                                                                                                                                                                                                           |                                |Posted November 9, 2015.  |                      |No ratings yet                                |\n",
      "|76561198068660878  |http://steamcommunity.com/profiles/76561198068660878|218230 |1        |good game                                                                                                                                                                                                                                                                                                                                                                                                                                                                                                                                                                                                                                                                                                                                                                                                                                                                                                                                                                                                                                                                                                                                                                                                                                                                                                                                                                                                                                                                                                                                    |1 person found this review funny|Posted October 14, 2014.  |                      |No ratings yet                                |\n",
      "|76561198065171294  |http://steamcommunity.com/profiles/76561198065171294|4000   |1        |...                                                                                                                                                                                                                                                                                                                                                                                                                                                                                                                                                                                                                                                                                                                                                                                                                                                                                                                                                                                                                                                                                                                                                                                                                                                                                                                                                                                                                                                                                                                                          |                                |Posted February 12.       |                      |1 of 1 people (100%) found this review helpful|\n",
      "|76561198068160202  |http://steamcommunity.com/profiles/76561198068160202|440    |1        |10 star                                                                                                                                                                                                                                                                                                                                                                                                                                                                                                                                                                                                                                                                                                                                                                                                                                                                                                                                                                                                                                                                                                                                                                                                                                                                                                                                                                                                                                                                                                                                      |                                |Posted February 27, 2014. |                      |No ratings yet                                |\n",
      "|coronelcross       |http://steamcommunity.com/id/coronelcross           |312990 |1        |super entretenido genial el juego esta repleto de accion y al contrario de enfadarte cuando pierdes te da risa de las formas tan epicas en las que muere                                                                                                                                                                                                                                                                                                                                                                                                                                                                                                                                                                                                                                                                                                                                                                                                                                                                                                                                                                                                                                                                                                                                                                                                                                                                                                                                                                                     |                                |Posted August 21, 2014.   |                      |No ratings yet                                |\n",
      "|76561198051831438  |http://steamcommunity.com/profiles/76561198051831438|336520 |0        |Goodness - take me bak 15 years and this would ahave been a resonable game - gameplay, interface, and speed of game is poor all things considered.                                                                                                                                                                                                                                                                                                                                                                                                                                                                                                                                                                                                                                                                                                                                                                                                                                                                                                                                                                                                                                                                                                                                                                                                                                                                                                                                                                                           |                                |Posted November 24, 2015. |                      |7 of 8 people (88%) found this review helpful |\n",
      "|76561198051831438  |http://steamcommunity.com/profiles/76561198051831438|306130 |1        |Enjoyable game - reasonable graphics - lots of quests and side chains. very customazable charachters. Purchased montly sub as I enjoyed it so much!  great way to encourage subscribers.                                                                                                                                                                                                                                                                                                                                                                                                                                                                                                                                                                                                                                                                                                                                                                                                                                                                                                                                                                                                                                                                                                                                                                                                                                                                                                                                                     |                                |Posted July 7, 2015.      |                      |1 of 1 people (100%) found this review helpful|\n",
      "|76561198051831438  |http://steamcommunity.com/profiles/76561198051831438|113420 |0        |Not my thing                                                                                                                                                                                                                                                                                                                                                                                                                                                                                                                                                                                                                                                                                                                                                                                                                                                                                                                                                                                                                                                                                                                                                                                                                                                                                                                                                                                                                                                                                                                                 |                                |Posted September 29, 2014.|                      |0 of 2 people (0%) found this review helpful  |\n",
      "|76561198051831438  |http://steamcommunity.com/profiles/76561198051831438|263540 |1        |not very playable at prpesent - interface is very laggy and clumsy                                                                                                                                                                                                                                                                                                                                                                                                                                                                                                                                                                                                                                                                                                                                                                                                                                                                                                                                                                                                                                                                                                                                                                                                                                                                                                                                                                                                                                                                           |                                |Posted May 10, 2014.      |                      |No ratings yet                                |\n",
      "|76561198051831438  |http://steamcommunity.com/profiles/76561198051831438|252490 |1        |Good game. in Alpha Stage I can has great potential as a survival game! addictive as heck!                                                                                                                                                                                                                                                                                                                                                                                                                                                                                                                                                                                                                                                                                                                                                                                                                                                                                                                                                                                                                                                                                                                                                                                                                                                                                                                                                                                                                                                   |                                |Posted February 12, 2014. |                      |No ratings yet                                |\n",
      "|76561198005477736  |http://steamcommunity.com/profiles/76561198005477736|378649 |1        |The developers continue to set the bar on character and story driven gaming. The world is as incredible as always, the game still a joy to play. Nothing this year has come even close to the Witcher 3 + DLC                                                                                                                                                                                                                                                                                                                                                                                                                                                                                                                                                                                                                                                                                                                                                                                                                                                                                                                                                                                                                                                                                                                                                                                                                                                                                                                                |                                |Posted October 17, 2015.  |                      |No ratings yet                                |\n",
      "|76561198005477736  |http://steamcommunity.com/profiles/76561198005477736|237990 |1        |Reccommended? Maybe - really nice design and art style, good concepts but quite poorly executed. Some fundamental control and camera issues and decisions made early on can result in a very difficult time towards the end of the game (inability to level up or get perks). Hope they do better next time around....                                                                                                                                                                                                                                                                                                                                                                                                                                                                                                                                                                                                                                                                                                                                                                                                                                                                                                                                                                                                                                                                                                                                                                                                                       |                                |Posted January 23, 2015.  |                      |No ratings yet                                |\n",
      "|76561198005477736  |http://steamcommunity.com/profiles/76561198005477736|240760 |1        |Took me a while to get into it but a good engaging game with lots of alternative approaches to any given situation. Impressive effort and certainly worth a play if your into old school rpgs.                                                                                                                                                                                                                                                                                                                                                                                                                                                                                                                                                                                                                                                                                                                                                                                                                                                                                                                                                                                                                                                                                                                                                                                                                                                                                                                                               |                                |Posted December 24, 2014. |                      |No ratings yet                                |\n",
      "|76561198005477736  |http://steamcommunity.com/profiles/76561198005477736|241930 |1        |Great game, one of the few of late that is actually deserving of your time and is really fun to play. Nice to see it well optimised for the PC also.                                                                                                                                                                                                                                                                                                                                                                                                                                                                                                                                                                                                                                                                                                                                                                                                                                                                                                                                                                                                                                                                                                                                                                                                                                                                                                                                                                                         |                                |Posted October 4, 2014.   |                      |No ratings yet                                |\n",
      "|76561198005477736  |http://steamcommunity.com/profiles/76561198005477736|204100 |1        |One of the best games I have ever played. Not often games like this come along.                                                                                                                                                                                                                                                                                                                                                                                                                                                                                                                                                                                                                                                                                                                                                                                                                                                                                                                                                                                                                                                                                                                                                                                                                                                                                                                                                                                                                                                              |                                |Posted September 3, 2014. |                      |No ratings yet                                |\n",
      "+-------------------+----------------------------------------------------+-------+---------+---------------------------------------------------------------------------------------------------------------------------------------------------------------------------------------------------------------------------------------------------------------------------------------------------------------------------------------------------------------------------------------------------------------------------------------------------------------------------------------------------------------------------------------------------------------------------------------------------------------------------------------------------------------------------------------------------------------------------------------------------------------------------------------------------------------------------------------------------------------------------------------------------------------------------------------------------------------------------------------------------------------------------------------------------------------------------------------------------------------------------------------------------------------------------------------------------------------------------------------------------------------------------------------------------------------------------------------------------------------------------------------------------------------------------------------------------------------------------------------------------------------------------------------------+--------------------------------+--------------------------+----------------------+----------------------------------------------+\n",
      "only showing top 20 rows\n",
      "\n"
     ]
    }
   ],
   "source": [
    "# Aplicar la función al DataFrame de User Reviews\n",
    "user_reviews_transformed = transform_recommend_column(user_reviews)\n",
    "\n",
    "# Mostrar el DataFrame resultante\n",
    "user_reviews_transformed.show(truncate=False)"
   ]
  },
  {
   "cell_type": "code",
   "execution_count": 146,
   "metadata": {},
   "outputs": [
    {
     "name": "stdout",
     "output_type": "stream",
     "text": [
      "root\n",
      " |-- user_id: string (nullable = true)\n",
      " |-- user_url: string (nullable = true)\n",
      " |-- item_id: string (nullable = true)\n",
      " |-- recommend: integer (nullable = true)\n",
      " |-- review: string (nullable = true)\n",
      " |-- funny: string (nullable = true)\n",
      " |-- posted: string (nullable = true)\n",
      " |-- last_edited: string (nullable = true)\n",
      " |-- helpful: string (nullable = true)\n",
      "\n"
     ]
    }
   ],
   "source": [
    "user_reviews_transformed.printSchema()"
   ]
  },
  {
   "cell_type": "code",
   "execution_count": 148,
   "metadata": {},
   "outputs": [
    {
     "name": "stdout",
     "output_type": "stream",
     "text": [
      "['Posted April 1, 2012.', 'Posted April 1, 2013.', 'Posted April 1, 2014.', 'Posted April 1, 2015.', 'Posted April 1.', 'Posted April 10, 2012.', 'Posted April 10, 2013.', 'Posted April 10, 2014.', 'Posted April 10, 2015.', 'Posted April 10.', 'Posted April 11, 2012.', 'Posted April 11, 2013.', 'Posted April 11, 2014.', 'Posted April 11, 2015.', 'Posted April 11.', 'Posted April 12, 2012.', 'Posted April 12, 2013.', 'Posted April 12, 2014.', 'Posted April 12, 2015.', 'Posted April 12.', 'Posted April 13, 2012.', 'Posted April 13, 2013.', 'Posted April 13, 2014.', 'Posted April 13, 2015.', 'Posted April 13.', 'Posted April 14, 2012.', 'Posted April 14, 2013.', 'Posted April 14, 2014.', 'Posted April 14, 2015.', 'Posted April 14.', 'Posted April 15, 2011.', 'Posted April 15, 2012.', 'Posted April 15, 2013.', 'Posted April 15, 2014.', 'Posted April 15, 2015.', 'Posted April 15.', 'Posted April 16, 2012.', 'Posted April 16, 2013.', 'Posted April 16, 2014.', 'Posted April 16, 2015.', 'Posted April 16.', 'Posted April 17, 2013.', 'Posted April 17, 2014.', 'Posted April 17, 2015.', 'Posted April 17.', 'Posted April 18, 2013.', 'Posted April 18, 2014.', 'Posted April 18, 2015.', 'Posted April 18.', 'Posted April 19, 2012.', 'Posted April 19, 2013.', 'Posted April 19, 2014.', 'Posted April 19, 2015.', 'Posted April 19.', 'Posted April 2, 2012.', 'Posted April 2, 2013.', 'Posted April 2, 2014.', 'Posted April 2, 2015.', 'Posted April 2.', 'Posted April 20, 2011.', 'Posted April 20, 2012.', 'Posted April 20, 2013.', 'Posted April 20, 2014.', 'Posted April 20, 2015.', 'Posted April 20.', 'Posted April 21, 2011.', 'Posted April 21, 2013.', 'Posted April 21, 2014.', 'Posted April 21, 2015.', 'Posted April 21.', 'Posted April 22, 2011.', 'Posted April 22, 2012.', 'Posted April 22, 2013.', 'Posted April 22, 2014.', 'Posted April 22, 2015.', 'Posted April 22.', 'Posted April 23, 2013.', 'Posted April 23, 2014.', 'Posted April 23, 2015.', 'Posted April 23.', 'Posted April 24, 2012.', 'Posted April 24, 2013.', 'Posted April 24, 2014.', 'Posted April 24, 2015.', 'Posted April 24.', 'Posted April 25, 2011.', 'Posted April 25, 2013.', 'Posted April 25, 2014.', 'Posted April 25, 2015.', 'Posted April 25.', 'Posted April 26, 2011.', 'Posted April 26, 2013.', 'Posted April 26, 2014.', 'Posted April 26, 2015.', 'Posted April 26.', 'Posted April 27, 2012.', 'Posted April 27, 2013.', 'Posted April 27, 2014.', 'Posted April 27, 2015.', 'Posted April 27.', 'Posted April 28, 2012.', 'Posted April 28, 2013.', 'Posted April 28, 2014.', 'Posted April 28, 2015.', 'Posted April 28.', 'Posted April 29, 2012.', 'Posted April 29, 2013.', 'Posted April 29, 2014.', 'Posted April 29, 2015.', 'Posted April 29.', 'Posted April 3, 2011.', 'Posted April 3, 2012.', 'Posted April 3, 2013.', 'Posted April 3, 2014.', 'Posted April 3, 2015.', 'Posted April 3.', 'Posted April 30, 2012.', 'Posted April 30, 2013.', 'Posted April 30, 2014.', 'Posted April 30, 2015.', 'Posted April 30.', 'Posted April 4, 2012.', 'Posted April 4, 2013.', 'Posted April 4, 2014.', 'Posted April 4, 2015.', 'Posted April 4.', 'Posted April 5, 2013.', 'Posted April 5, 2014.', 'Posted April 5, 2015.', 'Posted April 5.', 'Posted April 6, 2013.', 'Posted April 6, 2014.', 'Posted April 6, 2015.', 'Posted April 6.', 'Posted April 7, 2012.', 'Posted April 7, 2013.', 'Posted April 7, 2014.', 'Posted April 7, 2015.', 'Posted April 7.', 'Posted April 8, 2013.', 'Posted April 8, 2014.', 'Posted April 8, 2015.', 'Posted April 8.', 'Posted April 9, 2013.', 'Posted April 9, 2014.', 'Posted April 9, 2015.', 'Posted April 9.', 'Posted August 1, 2011.', 'Posted August 1, 2012.', 'Posted August 1, 2013.', 'Posted August 1, 2014.', 'Posted August 1, 2015.', 'Posted August 1.', 'Posted August 10, 2012.', 'Posted August 10, 2013.', 'Posted August 10, 2014.', 'Posted August 10, 2015.', 'Posted August 10.', 'Posted August 11, 2011.', 'Posted August 11, 2012.', 'Posted August 11, 2013.', 'Posted August 11, 2014.', 'Posted August 11, 2015.', 'Posted August 11.', 'Posted August 12, 2012.', 'Posted August 12, 2013.', 'Posted August 12, 2014.', 'Posted August 12, 2015.', 'Posted August 12.', 'Posted August 13, 2012.', 'Posted August 13, 2013.', 'Posted August 13, 2014.', 'Posted August 13, 2015.', 'Posted August 13.', 'Posted August 14, 2011.', 'Posted August 14, 2012.', 'Posted August 14, 2013.', 'Posted August 14, 2014.', 'Posted August 14, 2015.', 'Posted August 14.', 'Posted August 15, 2011.', 'Posted August 15, 2012.', 'Posted August 15, 2013.', 'Posted August 15, 2014.', 'Posted August 15, 2015.', 'Posted August 15.', 'Posted August 16, 2012.', 'Posted August 16, 2013.', 'Posted August 16, 2014.', 'Posted August 16, 2015.', 'Posted August 16.', 'Posted August 17, 2011.', 'Posted August 17, 2012.', 'Posted August 17, 2013.', 'Posted August 17, 2014.', 'Posted August 17, 2015.', 'Posted August 17.', 'Posted August 18, 2011.', 'Posted August 18, 2012.', 'Posted August 18, 2013.', 'Posted August 18, 2014.', 'Posted August 18, 2015.', 'Posted August 18.', 'Posted August 19, 2011.', 'Posted August 19, 2012.', 'Posted August 19, 2013.', 'Posted August 19, 2014.', 'Posted August 19, 2015.', 'Posted August 19.', 'Posted August 2, 2011.', 'Posted August 2, 2012.', 'Posted August 2, 2013.', 'Posted August 2, 2014.', 'Posted August 2, 2015.', 'Posted August 2.', 'Posted August 20, 2012.', 'Posted August 20, 2013.', 'Posted August 20, 2014.', 'Posted August 20, 2015.', 'Posted August 20.', 'Posted August 21, 2011.', 'Posted August 21, 2012.', 'Posted August 21, 2013.', 'Posted August 21, 2014.', 'Posted August 21, 2015.', 'Posted August 21.', 'Posted August 22, 2012.', 'Posted August 22, 2013.', 'Posted August 22, 2014.', 'Posted August 22, 2015.', 'Posted August 22.', 'Posted August 23, 2011.', 'Posted August 23, 2012.', 'Posted August 23, 2013.', 'Posted August 23, 2014.', 'Posted August 23, 2015.', 'Posted August 23.', 'Posted August 24, 2011.', 'Posted August 24, 2012.', 'Posted August 24, 2013.', 'Posted August 24, 2014.', 'Posted August 24, 2015.', 'Posted August 24.', 'Posted August 25, 2011.', 'Posted August 25, 2012.', 'Posted August 25, 2013.', 'Posted August 25, 2014.', 'Posted August 25, 2015.', 'Posted August 25.', 'Posted August 26, 2012.', 'Posted August 26, 2013.', 'Posted August 26, 2014.', 'Posted August 26, 2015.', 'Posted August 26.', 'Posted August 27, 2011.', 'Posted August 27, 2012.', 'Posted August 27, 2013.', 'Posted August 27, 2014.', 'Posted August 27, 2015.', 'Posted August 27.', 'Posted August 28, 2011.', 'Posted August 28, 2012.', 'Posted August 28, 2013.', 'Posted August 28, 2014.', 'Posted August 28, 2015.', 'Posted August 28.', 'Posted August 29, 2012.', 'Posted August 29, 2013.', 'Posted August 29, 2014.', 'Posted August 29, 2015.', 'Posted August 29.', 'Posted August 3, 2011.', 'Posted August 3, 2012.', 'Posted August 3, 2013.', 'Posted August 3, 2014.', 'Posted August 3, 2015.', 'Posted August 3.', 'Posted August 30, 2012.', 'Posted August 30, 2013.', 'Posted August 30, 2014.', 'Posted August 30, 2015.', 'Posted August 30.', 'Posted August 31, 2011.', 'Posted August 31, 2012.', 'Posted August 31, 2013.', 'Posted August 31, 2014.', 'Posted August 31, 2015.', 'Posted August 31.', 'Posted August 4, 2011.', 'Posted August 4, 2012.', 'Posted August 4, 2013.', 'Posted August 4, 2014.', 'Posted August 4, 2015.', 'Posted August 4.', 'Posted August 5, 2011.', 'Posted August 5, 2012.', 'Posted August 5, 2013.', 'Posted August 5, 2014.', 'Posted August 5, 2015.', 'Posted August 5.', 'Posted August 6, 2011.', 'Posted August 6, 2012.', 'Posted August 6, 2013.', 'Posted August 6, 2014.', 'Posted August 6, 2015.', 'Posted August 6.', 'Posted August 7, 2011.', 'Posted August 7, 2012.', 'Posted August 7, 2013.', 'Posted August 7, 2014.', 'Posted August 7, 2015.', 'Posted August 7.', 'Posted August 8, 2012.', 'Posted August 8, 2013.', 'Posted August 8, 2014.', 'Posted August 8, 2015.', 'Posted August 8.', 'Posted August 9, 2012.', 'Posted August 9, 2013.', 'Posted August 9, 2014.', 'Posted August 9, 2015.', 'Posted August 9.', 'Posted December 1, 2012.', 'Posted December 1, 2013.', 'Posted December 1, 2014.', 'Posted December 1, 2015.', 'Posted December 10, 2011.', 'Posted December 10, 2012.', 'Posted December 10, 2013.', 'Posted December 10, 2014.', 'Posted December 10, 2015.', 'Posted December 11, 2010.', 'Posted December 11, 2012.', 'Posted December 11, 2013.', 'Posted December 11, 2014.', 'Posted December 11, 2015.', 'Posted December 12, 2010.', 'Posted December 12, 2012.', 'Posted December 12, 2013.', 'Posted December 12, 2014.', 'Posted December 12, 2015.', 'Posted December 13, 2011.', 'Posted December 13, 2012.', 'Posted December 13, 2013.', 'Posted December 13, 2014.', 'Posted December 13, 2015.', 'Posted December 14, 2010.', 'Posted December 14, 2011.', 'Posted December 14, 2012.', 'Posted December 14, 2013.', 'Posted December 14, 2014.', 'Posted December 14, 2015.', 'Posted December 15, 2010.', 'Posted December 15, 2011.', 'Posted December 15, 2012.', 'Posted December 15, 2013.', 'Posted December 15, 2014.', 'Posted December 15, 2015.', 'Posted December 16, 2010.', 'Posted December 16, 2011.', 'Posted December 16, 2012.', 'Posted December 16, 2013.', 'Posted December 16, 2014.', 'Posted December 16, 2015.', 'Posted December 17, 2010.', 'Posted December 17, 2011.', 'Posted December 17, 2012.', 'Posted December 17, 2013.', 'Posted December 17, 2014.', 'Posted December 17, 2015.', 'Posted December 18, 2010.', 'Posted December 18, 2011.', 'Posted December 18, 2012.', 'Posted December 18, 2013.', 'Posted December 18, 2014.', 'Posted December 18, 2015.', 'Posted December 19, 2010.', 'Posted December 19, 2012.', 'Posted December 19, 2013.', 'Posted December 19, 2014.', 'Posted December 19, 2015.', 'Posted December 2, 2011.', 'Posted December 2, 2012.', 'Posted December 2, 2013.', 'Posted December 2, 2014.', 'Posted December 2, 2015.', 'Posted December 20, 2010.', 'Posted December 20, 2011.', 'Posted December 20, 2012.', 'Posted December 20, 2013.', 'Posted December 20, 2014.', 'Posted December 20, 2015.', 'Posted December 21, 2010.', 'Posted December 21, 2011.', 'Posted December 21, 2012.', 'Posted December 21, 2013.', 'Posted December 21, 2014.', 'Posted December 21, 2015.', 'Posted December 22, 2011.', 'Posted December 22, 2012.', 'Posted December 22, 2013.', 'Posted December 22, 2014.', 'Posted December 22, 2015.', 'Posted December 23, 2010.', 'Posted December 23, 2011.', 'Posted December 23, 2012.', 'Posted December 23, 2013.', 'Posted December 23, 2014.', 'Posted December 23, 2015.', 'Posted December 24, 2010.', 'Posted December 24, 2011.', 'Posted December 24, 2012.', 'Posted December 24, 2013.', 'Posted December 24, 2014.', 'Posted December 24, 2015.', 'Posted December 25, 2010.', 'Posted December 25, 2011.', 'Posted December 25, 2012.', 'Posted December 25, 2013.', 'Posted December 25, 2014.', 'Posted December 25, 2015.', 'Posted December 26, 2010.', 'Posted December 26, 2011.', 'Posted December 26, 2012.', 'Posted December 26, 2013.', 'Posted December 26, 2014.', 'Posted December 26, 2015.', 'Posted December 27, 2010.', 'Posted December 27, 2011.', 'Posted December 27, 2012.', 'Posted December 27, 2013.', 'Posted December 27, 2014.', 'Posted December 27, 2015.', 'Posted December 28, 2010.', 'Posted December 28, 2011.', 'Posted December 28, 2012.', 'Posted December 28, 2013.', 'Posted December 28, 2014.', 'Posted December 28, 2015.', 'Posted December 29, 2011.', 'Posted December 29, 2012.', 'Posted December 29, 2013.', 'Posted December 29, 2014.', 'Posted December 29, 2015.', 'Posted December 3, 2010.', 'Posted December 3, 2011.', 'Posted December 3, 2012.', 'Posted December 3, 2013.', 'Posted December 3, 2014.', 'Posted December 3, 2015.', 'Posted December 30, 2011.', 'Posted December 30, 2012.', 'Posted December 30, 2013.', 'Posted December 30, 2014.', 'Posted December 30, 2015.', 'Posted December 31, 2010.', 'Posted December 31, 2011.', 'Posted December 31, 2012.', 'Posted December 31, 2013.', 'Posted December 31, 2014.', 'Posted December 31, 2015.', 'Posted December 4, 2011.', 'Posted December 4, 2012.', 'Posted December 4, 2013.', 'Posted December 4, 2014.', 'Posted December 4, 2015.', 'Posted December 5, 2012.', 'Posted December 5, 2013.', 'Posted December 5, 2014.', 'Posted December 5, 2015.', 'Posted December 6, 2011.', 'Posted December 6, 2012.', 'Posted December 6, 2013.', 'Posted December 6, 2014.', 'Posted December 6, 2015.', 'Posted December 7, 2010.', 'Posted December 7, 2012.', 'Posted December 7, 2013.', 'Posted December 7, 2014.', 'Posted December 7, 2015.', 'Posted December 8, 2011.', 'Posted December 8, 2012.', 'Posted December 8, 2013.', 'Posted December 8, 2014.', 'Posted December 8, 2015.', 'Posted December 9, 2010.', 'Posted December 9, 2011.', 'Posted December 9, 2012.', 'Posted December 9, 2013.', 'Posted December 9, 2014.', 'Posted December 9, 2015.', 'Posted February 1, 2012.', 'Posted February 1, 2013.', 'Posted February 1, 2014.', 'Posted February 1, 2015.', 'Posted February 1.', 'Posted February 10, 2012.', 'Posted February 10, 2013.', 'Posted February 10, 2014.', 'Posted February 10, 2015.', 'Posted February 10.', 'Posted February 11, 2012.', 'Posted February 11, 2013.', 'Posted February 11, 2014.', 'Posted February 11, 2015.', 'Posted February 11.', 'Posted February 12, 2013.', 'Posted February 12, 2014.', 'Posted February 12, 2015.', 'Posted February 12.', 'Posted February 13, 2012.', 'Posted February 13, 2013.', 'Posted February 13, 2014.', 'Posted February 13, 2015.', 'Posted February 13.', 'Posted February 14, 2011.', 'Posted February 14, 2012.', 'Posted February 14, 2013.', 'Posted February 14, 2014.', 'Posted February 14, 2015.', 'Posted February 14.', 'Posted February 15, 2011.', 'Posted February 15, 2012.', 'Posted February 15, 2013.', 'Posted February 15, 2014.', 'Posted February 15, 2015.', 'Posted February 15.', 'Posted February 16, 2012.', 'Posted February 16, 2013.', 'Posted February 16, 2014.', 'Posted February 16, 2015.', 'Posted February 16.', 'Posted February 17, 2011.', 'Posted February 17, 2012.', 'Posted February 17, 2013.', 'Posted February 17, 2014.', 'Posted February 17, 2015.', 'Posted February 17.', 'Posted February 18, 2013.', 'Posted February 18, 2014.', 'Posted February 18, 2015.', 'Posted February 18.', 'Posted February 19, 2013.', 'Posted February 19, 2014.', 'Posted February 19, 2015.', 'Posted February 19.', 'Posted February 2, 2012.', 'Posted February 2, 2013.', 'Posted February 2, 2014.', 'Posted February 2, 2015.', 'Posted February 2.', 'Posted February 20, 2011.', 'Posted February 20, 2012.', 'Posted February 20, 2013.', 'Posted February 20, 2014.', 'Posted February 20, 2015.', 'Posted February 20.', 'Posted February 21, 2013.', 'Posted February 21, 2014.', 'Posted February 21, 2015.', 'Posted February 21.', 'Posted February 22, 2011.', 'Posted February 22, 2012.', 'Posted February 22, 2013.', 'Posted February 22, 2014.', 'Posted February 22, 2015.', 'Posted February 22.', 'Posted February 23, 2012.', 'Posted February 23, 2013.', 'Posted February 23, 2014.', 'Posted February 23, 2015.', 'Posted February 23.', 'Posted February 24, 2012.', 'Posted February 24, 2013.', 'Posted February 24, 2014.', 'Posted February 24, 2015.', 'Posted February 24.', 'Posted February 25, 2011.', 'Posted February 25, 2012.', 'Posted February 25, 2013.', 'Posted February 25, 2014.', 'Posted February 25, 2015.', 'Posted February 25.', 'Posted February 26, 2012.', 'Posted February 26, 2013.', 'Posted February 26, 2014.', 'Posted February 26, 2015.', 'Posted February 26.', 'Posted February 27, 2011.', 'Posted February 27, 2012.', 'Posted February 27, 2013.', 'Posted February 27, 2014.', 'Posted February 27, 2015.', 'Posted February 27.', 'Posted February 28, 2011.', 'Posted February 28, 2013.', 'Posted February 28, 2014.', 'Posted February 28, 2015.', 'Posted February 28.', 'Posted February 29, 2012.', 'Posted February 29.', 'Posted February 3, 2012.', 'Posted February 3, 2014.', 'Posted February 3, 2015.', 'Posted February 3.', 'Posted February 4, 2011.', 'Posted February 4, 2012.', 'Posted February 4, 2013.', 'Posted February 4, 2014.', 'Posted February 4, 2015.', 'Posted February 4.', 'Posted February 5, 2011.', 'Posted February 5, 2012.', 'Posted February 5, 2013.', 'Posted February 5, 2014.', 'Posted February 5, 2015.', 'Posted February 5.', 'Posted February 6, 2012.', 'Posted February 6, 2013.', 'Posted February 6, 2014.', 'Posted February 6, 2015.', 'Posted February 6.', 'Posted February 7, 2013.', 'Posted February 7, 2014.', 'Posted February 7, 2015.', 'Posted February 7.', 'Posted February 8, 2012.', 'Posted February 8, 2013.', 'Posted February 8, 2014.', 'Posted February 8, 2015.', 'Posted February 8.', 'Posted February 9, 2011.', 'Posted February 9, 2013.', 'Posted February 9, 2014.', 'Posted February 9, 2015.', 'Posted February 9.', 'Posted January 1, 2012.', 'Posted January 1, 2013.', 'Posted January 1, 2014.', 'Posted January 1, 2015.', 'Posted January 1.', 'Posted January 10, 2012.', 'Posted January 10, 2013.', 'Posted January 10, 2014.', 'Posted January 10, 2015.', 'Posted January 10.', 'Posted January 11, 2012.', 'Posted January 11, 2013.', 'Posted January 11, 2014.', 'Posted January 11, 2015.', 'Posted January 11.', 'Posted January 12, 2011.', 'Posted January 12, 2013.', 'Posted January 12, 2014.', 'Posted January 12, 2015.', 'Posted January 12.', 'Posted January 13, 2012.', 'Posted January 13, 2013.', 'Posted January 13, 2014.', 'Posted January 13, 2015.', 'Posted January 13.', 'Posted January 14, 2012.', 'Posted January 14, 2013.', 'Posted January 14, 2014.', 'Posted January 14, 2015.', 'Posted January 14.', 'Posted January 15, 2011.', 'Posted January 15, 2013.', 'Posted January 15, 2014.', 'Posted January 15, 2015.', 'Posted January 15.', 'Posted January 16, 2013.', 'Posted January 16, 2014.', 'Posted January 16, 2015.', 'Posted January 16.', 'Posted January 17, 2011.', 'Posted January 17, 2013.', 'Posted January 17, 2014.', 'Posted January 17, 2015.', 'Posted January 17.', 'Posted January 18, 2012.', 'Posted January 18, 2013.', 'Posted January 18, 2014.', 'Posted January 18, 2015.', 'Posted January 18.', 'Posted January 19, 2012.', 'Posted January 19, 2013.', 'Posted January 19, 2014.', 'Posted January 19, 2015.', 'Posted January 19.', 'Posted January 2, 2012.', 'Posted January 2, 2013.', 'Posted January 2, 2014.', 'Posted January 2, 2015.', 'Posted January 2.', 'Posted January 20, 2012.', 'Posted January 20, 2013.', 'Posted January 20, 2014.', 'Posted January 20, 2015.', 'Posted January 20.', 'Posted January 21, 2011.', 'Posted January 21, 2012.', 'Posted January 21, 2013.', 'Posted January 21, 2014.', 'Posted January 21, 2015.', 'Posted January 21.', 'Posted January 22, 2011.', 'Posted January 22, 2012.', 'Posted January 22, 2013.', 'Posted January 22, 2014.', 'Posted January 22, 2015.', 'Posted January 22.', 'Posted January 23, 2011.', 'Posted January 23, 2012.', 'Posted January 23, 2013.', 'Posted January 23, 2014.', 'Posted January 23, 2015.', 'Posted January 23.', 'Posted January 24, 2013.', 'Posted January 24, 2014.', 'Posted January 24, 2015.', 'Posted January 24.', 'Posted January 25, 2012.', 'Posted January 25, 2013.', 'Posted January 25, 2014.', 'Posted January 25, 2015.', 'Posted January 25.', 'Posted January 26, 2011.', 'Posted January 26, 2012.', 'Posted January 26, 2013.', 'Posted January 26, 2014.', 'Posted January 26, 2015.', 'Posted January 26.', 'Posted January 27, 2011.', 'Posted January 27, 2013.', 'Posted January 27, 2014.', 'Posted January 27, 2015.', 'Posted January 27.', 'Posted January 28, 2011.', 'Posted January 28, 2012.', 'Posted January 28, 2013.', 'Posted January 28, 2014.', 'Posted January 28, 2015.', 'Posted January 28.', 'Posted January 29, 2011.', 'Posted January 29, 2013.', 'Posted January 29, 2014.', 'Posted January 29, 2015.', 'Posted January 29.', 'Posted January 3, 2011.', 'Posted January 3, 2013.', 'Posted January 3, 2014.', 'Posted January 3, 2015.', 'Posted January 3.', 'Posted January 30, 2011.', 'Posted January 30, 2012.', 'Posted January 30, 2013.', 'Posted January 30, 2014.', 'Posted January 30, 2015.', 'Posted January 30.', 'Posted January 31, 2013.', 'Posted January 31, 2014.', 'Posted January 31, 2015.', 'Posted January 31.', 'Posted January 4, 2011.', 'Posted January 4, 2012.', 'Posted January 4, 2013.', 'Posted January 4, 2014.', 'Posted January 4, 2015.', 'Posted January 4.', 'Posted January 5, 2011.', 'Posted January 5, 2012.', 'Posted January 5, 2013.', 'Posted January 5, 2014.', 'Posted January 5, 2015.', 'Posted January 5.', 'Posted January 6, 2012.', 'Posted January 6, 2013.', 'Posted January 6, 2014.', 'Posted January 6, 2015.', 'Posted January 6.', 'Posted January 7, 2011.', 'Posted January 7, 2013.', 'Posted January 7, 2014.', 'Posted January 7, 2015.', 'Posted January 7.', 'Posted January 8, 2011.', 'Posted January 8, 2012.', 'Posted January 8, 2013.', 'Posted January 8, 2014.', 'Posted January 8, 2015.', 'Posted January 8.', 'Posted January 9, 2012.', 'Posted January 9, 2013.', 'Posted January 9, 2014.', 'Posted January 9, 2015.', 'Posted January 9.', 'Posted July 1, 2011.', 'Posted July 1, 2012.', 'Posted July 1, 2013.', 'Posted July 1, 2014.', 'Posted July 1, 2015.', 'Posted July 1.', 'Posted July 10, 2011.', 'Posted July 10, 2012.', 'Posted July 10, 2013.', 'Posted July 10, 2014.', 'Posted July 10, 2015.', 'Posted July 10.', 'Posted July 11, 2011.', 'Posted July 11, 2012.', 'Posted July 11, 2013.', 'Posted July 11, 2014.', 'Posted July 11, 2015.', 'Posted July 11.', 'Posted July 12, 2011.', 'Posted July 12, 2012.', 'Posted July 12, 2013.', 'Posted July 12, 2014.', 'Posted July 12, 2015.', 'Posted July 12.', 'Posted July 13, 2011.', 'Posted July 13, 2012.', 'Posted July 13, 2013.', 'Posted July 13, 2014.', 'Posted July 13, 2015.', 'Posted July 13.', 'Posted July 14, 2011.', 'Posted July 14, 2012.', 'Posted July 14, 2013.', 'Posted July 14, 2014.', 'Posted July 14, 2015.', 'Posted July 14.', 'Posted July 15, 2011.', 'Posted July 15, 2012.', 'Posted July 15, 2013.', 'Posted July 15, 2014.', 'Posted July 15, 2015.', 'Posted July 15.', 'Posted July 16, 2011.', 'Posted July 16, 2012.', 'Posted July 16, 2013.', 'Posted July 16, 2014.', 'Posted July 16, 2015.', 'Posted July 16.', 'Posted July 17, 2011.', 'Posted July 17, 2012.', 'Posted July 17, 2013.', 'Posted July 17, 2014.', 'Posted July 17, 2015.', 'Posted July 17.', 'Posted July 18, 2012.', 'Posted July 18, 2013.', 'Posted July 18, 2014.', 'Posted July 18, 2015.', 'Posted July 18.', 'Posted July 19, 2011.', 'Posted July 19, 2012.', 'Posted July 19, 2013.', 'Posted July 19, 2014.', 'Posted July 19, 2015.', 'Posted July 19.', 'Posted July 2, 2011.', 'Posted July 2, 2013.', 'Posted July 2, 2014.', 'Posted July 2, 2015.', 'Posted July 2.', 'Posted July 20, 2012.', 'Posted July 20, 2013.', 'Posted July 20, 2014.', 'Posted July 20, 2015.', 'Posted July 20.', 'Posted July 21, 2012.', 'Posted July 21, 2013.', 'Posted July 21, 2014.', 'Posted July 21, 2015.', 'Posted July 21.', 'Posted July 22, 2011.', 'Posted July 22, 2012.', 'Posted July 22, 2013.', 'Posted July 22, 2014.', 'Posted July 22, 2015.', 'Posted July 22.', 'Posted July 23, 2012.', 'Posted July 23, 2013.', 'Posted July 23, 2014.', 'Posted July 23, 2015.', 'Posted July 23.', 'Posted July 24, 2011.', 'Posted July 24, 2012.', 'Posted July 24, 2013.', 'Posted July 24, 2014.', 'Posted July 24, 2015.', 'Posted July 24.', 'Posted July 25, 2011.', 'Posted July 25, 2012.', 'Posted July 25, 2013.', 'Posted July 25, 2014.', 'Posted July 25, 2015.', 'Posted July 25.', 'Posted July 26, 2012.', 'Posted July 26, 2013.', 'Posted July 26, 2014.', 'Posted July 26, 2015.', 'Posted July 26.', 'Posted July 27, 2011.', 'Posted July 27, 2012.', 'Posted July 27, 2013.', 'Posted July 27, 2014.', 'Posted July 27, 2015.', 'Posted July 27.', 'Posted July 28, 2011.', 'Posted July 28, 2012.', 'Posted July 28, 2013.', 'Posted July 28, 2014.', 'Posted July 28, 2015.', 'Posted July 28.', 'Posted July 29, 2011.', 'Posted July 29, 2012.', 'Posted July 29, 2013.', 'Posted July 29, 2014.', 'Posted July 29, 2015.', 'Posted July 29.', 'Posted July 3, 2011.', 'Posted July 3, 2012.', 'Posted July 3, 2013.', 'Posted July 3, 2014.', 'Posted July 3, 2015.', 'Posted July 3.', 'Posted July 30, 2011.', 'Posted July 30, 2012.', 'Posted July 30, 2013.', 'Posted July 30, 2014.', 'Posted July 30, 2015.', 'Posted July 30.', 'Posted July 31, 2011.', 'Posted July 31, 2012.', 'Posted July 31, 2013.', 'Posted July 31, 2014.', 'Posted July 31, 2015.', 'Posted July 31.', 'Posted July 4, 2011.', 'Posted July 4, 2012.', 'Posted July 4, 2013.', 'Posted July 4, 2014.', 'Posted July 4, 2015.', 'Posted July 4.', 'Posted July 5, 2011.', 'Posted July 5, 2012.', 'Posted July 5, 2013.', 'Posted July 5, 2014.', 'Posted July 5, 2015.', 'Posted July 5.', 'Posted July 6, 2011.', 'Posted July 6, 2012.', 'Posted July 6, 2013.', 'Posted July 6, 2014.', 'Posted July 6, 2015.', 'Posted July 6.', 'Posted July 7, 2011.', 'Posted July 7, 2012.', 'Posted July 7, 2013.', 'Posted July 7, 2014.', 'Posted July 7, 2015.', 'Posted July 7.', 'Posted July 8, 2011.', 'Posted July 8, 2012.', 'Posted July 8, 2013.', 'Posted July 8, 2014.', 'Posted July 8, 2015.', 'Posted July 8.', 'Posted July 9, 2011.', 'Posted July 9, 2012.', 'Posted July 9, 2013.', 'Posted July 9, 2014.', 'Posted July 9, 2015.', 'Posted July 9.', 'Posted June 1, 2012.', 'Posted June 1, 2013.', 'Posted June 1, 2014.', 'Posted June 1, 2015.', 'Posted June 1.', 'Posted June 10, 2012.', 'Posted June 10, 2013.', 'Posted June 10, 2014.', 'Posted June 10, 2015.', 'Posted June 10.', 'Posted June 11, 2011.', 'Posted June 11, 2012.', 'Posted June 11, 2013.', 'Posted June 11, 2014.', 'Posted June 11, 2015.', 'Posted June 11.', 'Posted June 12, 2012.', 'Posted June 12, 2013.', 'Posted June 12, 2014.', 'Posted June 12, 2015.', 'Posted June 12.', 'Posted June 13, 2011.', 'Posted June 13, 2012.', 'Posted June 13, 2013.', 'Posted June 13, 2014.', 'Posted June 13, 2015.', 'Posted June 13.', 'Posted June 14, 2012.', 'Posted June 14, 2013.', 'Posted June 14, 2014.', 'Posted June 14, 2015.', 'Posted June 14.', 'Posted June 15, 2011.', 'Posted June 15, 2012.', 'Posted June 15, 2013.', 'Posted June 15, 2014.', 'Posted June 15, 2015.', 'Posted June 15.', 'Posted June 16, 2012.', 'Posted June 16, 2013.', 'Posted June 16, 2014.', 'Posted June 16, 2015.', 'Posted June 16.', 'Posted June 17, 2012.', 'Posted June 17, 2013.', 'Posted June 17, 2014.', 'Posted June 17, 2015.', 'Posted June 17.', 'Posted June 18, 2011.', 'Posted June 18, 2012.', 'Posted June 18, 2013.', 'Posted June 18, 2014.', 'Posted June 18, 2015.', 'Posted June 18.', 'Posted June 19, 2011.', 'Posted June 19, 2012.', 'Posted June 19, 2013.', 'Posted June 19, 2014.', 'Posted June 19, 2015.', 'Posted June 19.', 'Posted June 2, 2011.', 'Posted June 2, 2012.', 'Posted June 2, 2013.', 'Posted June 2, 2014.', 'Posted June 2, 2015.', 'Posted June 2.', 'Posted June 20, 2011.', 'Posted June 20, 2012.', 'Posted June 20, 2013.', 'Posted June 20, 2014.', 'Posted June 20, 2015.', 'Posted June 20.', 'Posted June 21, 2012.', 'Posted June 21, 2013.', 'Posted June 21, 2014.', 'Posted June 21, 2015.', 'Posted June 21.', 'Posted June 22, 2011.', 'Posted June 22, 2012.', 'Posted June 22, 2013.', 'Posted June 22, 2014.', 'Posted June 22, 2015.', 'Posted June 22.', 'Posted June 23, 2012.', 'Posted June 23, 2013.', 'Posted June 23, 2014.', 'Posted June 23, 2015.', 'Posted June 23.', 'Posted June 24, 2011.', 'Posted June 24, 2013.', 'Posted June 24, 2014.', 'Posted June 24, 2015.', 'Posted June 24.', 'Posted June 25, 2013.', 'Posted June 25, 2014.', 'Posted June 25, 2015.', 'Posted June 25.', 'Posted June 26, 2011.', 'Posted June 26, 2012.', 'Posted June 26, 2013.', 'Posted June 26, 2014.', 'Posted June 26, 2015.', 'Posted June 26.', 'Posted June 27, 2011.', 'Posted June 27, 2012.', 'Posted June 27, 2013.', 'Posted June 27, 2014.', 'Posted June 27, 2015.', 'Posted June 27.', 'Posted June 28, 2012.', 'Posted June 28, 2013.', 'Posted June 28, 2014.', 'Posted June 28, 2015.', 'Posted June 28.', 'Posted June 29, 2012.', 'Posted June 29, 2013.', 'Posted June 29, 2014.', 'Posted June 29, 2015.', 'Posted June 29.', 'Posted June 3, 2011.', 'Posted June 3, 2012.', 'Posted June 3, 2013.', 'Posted June 3, 2014.', 'Posted June 3, 2015.', 'Posted June 3.', 'Posted June 30, 2012.', 'Posted June 30, 2013.', 'Posted June 30, 2014.', 'Posted June 30, 2015.', 'Posted June 30.', 'Posted June 4, 2011.', 'Posted June 4, 2012.', 'Posted June 4, 2013.', 'Posted June 4, 2014.', 'Posted June 4, 2015.', 'Posted June 4.', 'Posted June 5, 2011.', 'Posted June 5, 2012.', 'Posted June 5, 2013.', 'Posted June 5, 2014.', 'Posted June 5, 2015.', 'Posted June 5.', 'Posted June 6, 2011.', 'Posted June 6, 2012.', 'Posted June 6, 2013.', 'Posted June 6, 2014.', 'Posted June 6, 2015.', 'Posted June 6.', 'Posted June 7, 2013.', 'Posted June 7, 2014.', 'Posted June 7, 2015.', 'Posted June 7.', 'Posted June 8, 2011.', 'Posted June 8, 2012.', 'Posted June 8, 2013.', 'Posted June 8, 2014.', 'Posted June 8, 2015.', 'Posted June 8.', 'Posted June 9, 2012.', 'Posted June 9, 2013.', 'Posted June 9, 2014.', 'Posted June 9, 2015.', 'Posted June 9.', 'Posted March 1, 2012.', 'Posted March 1, 2013.', 'Posted March 1, 2014.', 'Posted March 1, 2015.', 'Posted March 1.', 'Posted March 10, 2011.', 'Posted March 10, 2012.', 'Posted March 10, 2013.', 'Posted March 10, 2014.', 'Posted March 10, 2015.', 'Posted March 10.', 'Posted March 11, 2011.', 'Posted March 11, 2012.', 'Posted March 11, 2013.', 'Posted March 11, 2014.', 'Posted March 11, 2015.', 'Posted March 11.', 'Posted March 12, 2012.', 'Posted March 12, 2013.', 'Posted March 12, 2014.', 'Posted March 12, 2015.', 'Posted March 12.', 'Posted March 13, 2012.', 'Posted March 13, 2013.', 'Posted March 13, 2014.', 'Posted March 13, 2015.', 'Posted March 13.', 'Posted March 14, 2013.', 'Posted March 14, 2014.', 'Posted March 14, 2015.', 'Posted March 14.', 'Posted March 15, 2013.', 'Posted March 15, 2014.', 'Posted March 15, 2015.', 'Posted March 15.', 'Posted March 16, 2013.', 'Posted March 16, 2014.', 'Posted March 16, 2015.', 'Posted March 16.', 'Posted March 17, 2012.', 'Posted March 17, 2013.', 'Posted March 17, 2014.', 'Posted March 17, 2015.', 'Posted March 17.', 'Posted March 18, 2012.', 'Posted March 18, 2013.', 'Posted March 18, 2014.', 'Posted March 18, 2015.', 'Posted March 18.', 'Posted March 19, 2011.', 'Posted March 19, 2012.', 'Posted March 19, 2013.', 'Posted March 19, 2014.', 'Posted March 19, 2015.', 'Posted March 19.', 'Posted March 2, 2012.', 'Posted March 2, 2013.', 'Posted March 2, 2014.', 'Posted March 2, 2015.', 'Posted March 2.', 'Posted March 20, 2012.', 'Posted March 20, 2013.', 'Posted March 20, 2014.', 'Posted March 20, 2015.', 'Posted March 20.', 'Posted March 21, 2011.', 'Posted March 21, 2012.', 'Posted March 21, 2013.', 'Posted March 21, 2014.', 'Posted March 21, 2015.', 'Posted March 21.', 'Posted March 22, 2011.', 'Posted March 22, 2012.', 'Posted March 22, 2013.', 'Posted March 22, 2014.', 'Posted March 22, 2015.', 'Posted March 22.', 'Posted March 23, 2012.', 'Posted March 23, 2013.', 'Posted March 23, 2014.', 'Posted March 23, 2015.', 'Posted March 23.', 'Posted March 24, 2012.', 'Posted March 24, 2013.', 'Posted March 24, 2014.', 'Posted March 24, 2015.', 'Posted March 24.', 'Posted March 25, 2011.', 'Posted March 25, 2013.', 'Posted March 25, 2014.', 'Posted March 25, 2015.', 'Posted March 25.', 'Posted March 26, 2011.', 'Posted March 26, 2012.', 'Posted March 26, 2013.', 'Posted March 26, 2014.', 'Posted March 26, 2015.', 'Posted March 26.', 'Posted March 27, 2012.', 'Posted March 27, 2013.', 'Posted March 27, 2014.', 'Posted March 27, 2015.', 'Posted March 27.', 'Posted March 28, 2012.', 'Posted March 28, 2013.', 'Posted March 28, 2014.', 'Posted March 28, 2015.', 'Posted March 28.', 'Posted March 29, 2012.', 'Posted March 29, 2013.', 'Posted March 29, 2014.', 'Posted March 29, 2015.', 'Posted March 29.', 'Posted March 3, 2012.', 'Posted March 3, 2013.', 'Posted March 3, 2014.', 'Posted March 3.', 'Posted March 30, 2012.', 'Posted March 30, 2013.', 'Posted March 30, 2014.', 'Posted March 30, 2015.', 'Posted March 30.', 'Posted March 31, 2012.', 'Posted March 31, 2013.', 'Posted March 31, 2014.', 'Posted March 31, 2015.', 'Posted March 31.', 'Posted March 4, 2012.', 'Posted March 4, 2013.', 'Posted March 4, 2014.', 'Posted March 4, 2015.', 'Posted March 4.', 'Posted March 5, 2011.', 'Posted March 5, 2013.', 'Posted March 5, 2014.', 'Posted March 5, 2015.', 'Posted March 5.', 'Posted March 6, 2011.', 'Posted March 6, 2013.', 'Posted March 6, 2014.', 'Posted March 6, 2015.', 'Posted March 6.', 'Posted March 7, 2012.', 'Posted March 7, 2013.', 'Posted March 7, 2014.', 'Posted March 7, 2015.', 'Posted March 7.', 'Posted March 8, 2012.', 'Posted March 8, 2013.', 'Posted March 8, 2014.', 'Posted March 8, 2015.', 'Posted March 8.', 'Posted March 9, 2012.', 'Posted March 9, 2013.', 'Posted March 9, 2014.', 'Posted March 9, 2015.', 'Posted March 9.', 'Posted May 1, 2012.', 'Posted May 1, 2013.', 'Posted May 1, 2014.', 'Posted May 1, 2015.', 'Posted May 1.', 'Posted May 10, 2011.', 'Posted May 10, 2012.', 'Posted May 10, 2013.', 'Posted May 10, 2014.', 'Posted May 10, 2015.', 'Posted May 10.', 'Posted May 11, 2013.', 'Posted May 11, 2014.', 'Posted May 11, 2015.', 'Posted May 11.', 'Posted May 12, 2012.', 'Posted May 12, 2013.', 'Posted May 12, 2014.', 'Posted May 12, 2015.', 'Posted May 12.', 'Posted May 13, 2012.', 'Posted May 13, 2013.', 'Posted May 13, 2014.', 'Posted May 13, 2015.', 'Posted May 13.', 'Posted May 14, 2013.', 'Posted May 14, 2014.', 'Posted May 14, 2015.', 'Posted May 14.', 'Posted May 15, 2012.', 'Posted May 15, 2013.', 'Posted May 15, 2014.', 'Posted May 15, 2015.', 'Posted May 15.', 'Posted May 16, 2011.', 'Posted May 16, 2012.', 'Posted May 16, 2013.', 'Posted May 16, 2014.', 'Posted May 16, 2015.', 'Posted May 16.', 'Posted May 17, 2011.', 'Posted May 17, 2012.', 'Posted May 17, 2013.', 'Posted May 17, 2014.', 'Posted May 17, 2015.', 'Posted May 17.', 'Posted May 18, 2011.', 'Posted May 18, 2012.', 'Posted May 18, 2013.', 'Posted May 18, 2014.', 'Posted May 18, 2015.', 'Posted May 18.', 'Posted May 19, 2011.', 'Posted May 19, 2012.', 'Posted May 19, 2013.', 'Posted May 19, 2014.', 'Posted May 19, 2015.', 'Posted May 19.', 'Posted May 2, 2011.', 'Posted May 2, 2012.', 'Posted May 2, 2013.', 'Posted May 2, 2014.', 'Posted May 2, 2015.', 'Posted May 2.', 'Posted May 20, 2011.', 'Posted May 20, 2012.', 'Posted May 20, 2013.', 'Posted May 20, 2014.', 'Posted May 20, 2015.', 'Posted May 20.', 'Posted May 21, 2011.', 'Posted May 21, 2013.', 'Posted May 21, 2014.', 'Posted May 21, 2015.', 'Posted May 21.', 'Posted May 22, 2012.', 'Posted May 22, 2013.', 'Posted May 22, 2014.', 'Posted May 22, 2015.', 'Posted May 22.', 'Posted May 23, 2012.', 'Posted May 23, 2013.', 'Posted May 23, 2014.', 'Posted May 23, 2015.', 'Posted May 23.', 'Posted May 24, 2012.', 'Posted May 24, 2013.', 'Posted May 24, 2014.', 'Posted May 24, 2015.', 'Posted May 24.', 'Posted May 25, 2012.', 'Posted May 25, 2013.', 'Posted May 25, 2014.', 'Posted May 25, 2015.', 'Posted May 25.', 'Posted May 26, 2011.', 'Posted May 26, 2013.', 'Posted May 26, 2014.', 'Posted May 26, 2015.', 'Posted May 26.', 'Posted May 27, 2012.', 'Posted May 27, 2013.', 'Posted May 27, 2014.', 'Posted May 27, 2015.', 'Posted May 27.', 'Posted May 28, 2011.', 'Posted May 28, 2012.', 'Posted May 28, 2013.', 'Posted May 28, 2014.', 'Posted May 28, 2015.', 'Posted May 28.', 'Posted May 29, 2011.', 'Posted May 29, 2012.', 'Posted May 29, 2013.', 'Posted May 29, 2014.', 'Posted May 29, 2015.', 'Posted May 29.', 'Posted May 3, 2011.', 'Posted May 3, 2012.', 'Posted May 3, 2013.', 'Posted May 3, 2014.', 'Posted May 3, 2015.', 'Posted May 3.', 'Posted May 30, 2012.', 'Posted May 30, 2013.', 'Posted May 30, 2014.', 'Posted May 30, 2015.', 'Posted May 30.', 'Posted May 31, 2012.', 'Posted May 31, 2013.', 'Posted May 31, 2014.', 'Posted May 31, 2015.', 'Posted May 31.', 'Posted May 4, 2013.', 'Posted May 4, 2014.', 'Posted May 4, 2015.', 'Posted May 4.', 'Posted May 5, 2012.', 'Posted May 5, 2013.', 'Posted May 5, 2014.', 'Posted May 5, 2015.', 'Posted May 5.', 'Posted May 6, 2011.', 'Posted May 6, 2013.', 'Posted May 6, 2014.', 'Posted May 6, 2015.', 'Posted May 6.', 'Posted May 7, 2012.', 'Posted May 7, 2013.', 'Posted May 7, 2014.', 'Posted May 7, 2015.', 'Posted May 7.', 'Posted May 8, 2013.', 'Posted May 8, 2014.', 'Posted May 8, 2015.', 'Posted May 8.', 'Posted May 9, 2011.', 'Posted May 9, 2012.', 'Posted May 9, 2013.', 'Posted May 9, 2014.', 'Posted May 9, 2015.', 'Posted May 9.', 'Posted November 1, 2012.', 'Posted November 1, 2013.', 'Posted November 1, 2014.', 'Posted November 1, 2015.', 'Posted November 10, 2012.', 'Posted November 10, 2013.', 'Posted November 10, 2014.', 'Posted November 10, 2015.', 'Posted November 11, 2011.', 'Posted November 11, 2012.', 'Posted November 11, 2013.', 'Posted November 11, 2014.', 'Posted November 11, 2015.', 'Posted November 12, 2012.', 'Posted November 12, 2013.', 'Posted November 12, 2014.', 'Posted November 12, 2015.', 'Posted November 13, 2012.', 'Posted November 13, 2013.', 'Posted November 13, 2014.', 'Posted November 13, 2015.', 'Posted November 14, 2011.', 'Posted November 14, 2012.', 'Posted November 14, 2013.', 'Posted November 14, 2014.', 'Posted November 14, 2015.', 'Posted November 15, 2011.', 'Posted November 15, 2012.', 'Posted November 15, 2013.', 'Posted November 15, 2014.', 'Posted November 15, 2015.', 'Posted November 16, 2011.', 'Posted November 16, 2012.', 'Posted November 16, 2013.', 'Posted November 16, 2014.', 'Posted November 16, 2015.', 'Posted November 17, 2011.', 'Posted November 17, 2012.', 'Posted November 17, 2013.', 'Posted November 17, 2014.', 'Posted November 17, 2015.', 'Posted November 18, 2012.', 'Posted November 18, 2013.', 'Posted November 18, 2014.', 'Posted November 18, 2015.', 'Posted November 19, 2010.', 'Posted November 19, 2012.', 'Posted November 19, 2013.', 'Posted November 19, 2014.', 'Posted November 19, 2015.', 'Posted November 2, 2012.', 'Posted November 2, 2013.', 'Posted November 2, 2014.', 'Posted November 2, 2015.', 'Posted November 20, 2010.', 'Posted November 20, 2012.', 'Posted November 20, 2013.', 'Posted November 20, 2014.', 'Posted November 20, 2015.', 'Posted November 21, 2011.', 'Posted November 21, 2012.', 'Posted November 21, 2013.', 'Posted November 21, 2014.', 'Posted November 21, 2015.', 'Posted November 22, 2010.', 'Posted November 22, 2011.', 'Posted November 22, 2012.', 'Posted November 22, 2013.', 'Posted November 22, 2014.', 'Posted November 22, 2015.', 'Posted November 23, 2010.', 'Posted November 23, 2012.', 'Posted November 23, 2013.', 'Posted November 23, 2014.', 'Posted November 23, 2015.', 'Posted November 24, 2010.', 'Posted November 24, 2012.', 'Posted November 24, 2013.', 'Posted November 24, 2014.', 'Posted November 24, 2015.', 'Posted November 25, 2010.', 'Posted November 25, 2011.', 'Posted November 25, 2012.', 'Posted November 25, 2013.', 'Posted November 25, 2014.', 'Posted November 25, 2015.', 'Posted November 26, 2010.', 'Posted November 26, 2011.', 'Posted November 26, 2012.', 'Posted November 26, 2013.', 'Posted November 26, 2014.', 'Posted November 26, 2015.', 'Posted November 27, 2011.', 'Posted November 27, 2012.', 'Posted November 27, 2013.', 'Posted November 27, 2014.', 'Posted November 27, 2015.', 'Posted November 28, 2010.', 'Posted November 28, 2012.', 'Posted November 28, 2013.', 'Posted November 28, 2014.', 'Posted November 28, 2015.', 'Posted November 29, 2011.', 'Posted November 29, 2012.', 'Posted November 29, 2013.', 'Posted November 29, 2014.', 'Posted November 29, 2015.', 'Posted November 3, 2011.', 'Posted November 3, 2012.', 'Posted November 3, 2013.', 'Posted November 3, 2014.', 'Posted November 3, 2015.', 'Posted November 30, 2010.', 'Posted November 30, 2011.', 'Posted November 30, 2012.', 'Posted November 30, 2013.', 'Posted November 30, 2014.', 'Posted November 30, 2015.', 'Posted November 4, 2011.', 'Posted November 4, 2012.', 'Posted November 4, 2013.', 'Posted November 4, 2014.', 'Posted November 4, 2015.', 'Posted November 5, 2011.', 'Posted November 5, 2012.', 'Posted November 5, 2013.', 'Posted November 5, 2014.', 'Posted November 5, 2015.', 'Posted November 6, 2012.', 'Posted November 6, 2013.', 'Posted November 6, 2014.', 'Posted November 6, 2015.', 'Posted November 7, 2012.', 'Posted November 7, 2013.', 'Posted November 7, 2014.', 'Posted November 7, 2015.', 'Posted November 8, 2011.', 'Posted November 8, 2012.', 'Posted November 8, 2013.', 'Posted November 8, 2014.', 'Posted November 8, 2015.', 'Posted November 9, 2011.', 'Posted November 9, 2012.', 'Posted November 9, 2013.', 'Posted November 9, 2014.', 'Posted November 9, 2015.', 'Posted October 1, 2011.', 'Posted October 1, 2012.', 'Posted October 1, 2013.', 'Posted October 1, 2014.', 'Posted October 1, 2015.', 'Posted October 10, 2011.', 'Posted October 10, 2012.', 'Posted October 10, 2013.', 'Posted October 10, 2014.', 'Posted October 10, 2015.', 'Posted October 11, 2012.', 'Posted October 11, 2013.', 'Posted October 11, 2014.', 'Posted October 11, 2015.', 'Posted October 12, 2011.', 'Posted October 12, 2012.', 'Posted October 12, 2013.', 'Posted October 12, 2014.', 'Posted October 12, 2015.', 'Posted October 13, 2011.', 'Posted October 13, 2012.', 'Posted October 13, 2013.', 'Posted October 13, 2014.', 'Posted October 13, 2015.', 'Posted October 14, 2012.', 'Posted October 14, 2013.', 'Posted October 14, 2014.', 'Posted October 14, 2015.', 'Posted October 15, 2011.', 'Posted October 15, 2012.', 'Posted October 15, 2013.', 'Posted October 15, 2014.', 'Posted October 15, 2015.', 'Posted October 16, 2010.', 'Posted October 16, 2012.', 'Posted October 16, 2013.', 'Posted October 16, 2014.', 'Posted October 16, 2015.', 'Posted October 17, 2012.', 'Posted October 17, 2013.', 'Posted October 17, 2014.', 'Posted October 17, 2015.', 'Posted October 18, 2011.', 'Posted October 18, 2012.', 'Posted October 18, 2013.', 'Posted October 18, 2014.', 'Posted October 18, 2015.', 'Posted October 19, 2012.', 'Posted October 19, 2013.', 'Posted October 19, 2014.', 'Posted October 19, 2015.', 'Posted October 2, 2012.', 'Posted October 2, 2013.', 'Posted October 2, 2014.', 'Posted October 2, 2015.', 'Posted October 20, 2011.', 'Posted October 20, 2012.', 'Posted October 20, 2013.', 'Posted October 20, 2014.', 'Posted October 20, 2015.', 'Posted October 21, 2011.', 'Posted October 21, 2012.', 'Posted October 21, 2013.', 'Posted October 21, 2014.', 'Posted October 21, 2015.', 'Posted October 22, 2012.', 'Posted October 22, 2013.', 'Posted October 22, 2015.', 'Posted October 23, 2012.', 'Posted October 23, 2013.', 'Posted October 23, 2014.', 'Posted October 23, 2015.', 'Posted October 24, 2011.', 'Posted October 24, 2012.', 'Posted October 24, 2013.', 'Posted October 24, 2014.', 'Posted October 24, 2015.', 'Posted October 25, 2010.', 'Posted October 25, 2012.', 'Posted October 25, 2013.', 'Posted October 25, 2014.', 'Posted October 25, 2015.', 'Posted October 26, 2011.', 'Posted October 26, 2012.', 'Posted October 26, 2013.', 'Posted October 26, 2014.', 'Posted October 26, 2015.', 'Posted October 27, 2011.', 'Posted October 27, 2012.', 'Posted October 27, 2013.', 'Posted October 27, 2014.', 'Posted October 27, 2015.', 'Posted October 28, 2011.', 'Posted October 28, 2012.', 'Posted October 28, 2013.', 'Posted October 28, 2014.', 'Posted October 28, 2015.', 'Posted October 29, 2012.', 'Posted October 29, 2013.', 'Posted October 29, 2014.', 'Posted October 29, 2015.', 'Posted October 3, 2011.', 'Posted October 3, 2012.', 'Posted October 3, 2013.', 'Posted October 3, 2014.', 'Posted October 3, 2015.', 'Posted October 30, 2011.', 'Posted October 30, 2012.', 'Posted October 30, 2013.', 'Posted October 30, 2014.', 'Posted October 30, 2015.', 'Posted October 31, 2011.', 'Posted October 31, 2012.', 'Posted October 31, 2013.', 'Posted October 31, 2014.', 'Posted October 31, 2015.', 'Posted October 4, 2012.', 'Posted October 4, 2013.', 'Posted October 4, 2014.', 'Posted October 4, 2015.', 'Posted October 5, 2011.', 'Posted October 5, 2012.', 'Posted October 5, 2013.', 'Posted October 5, 2014.', 'Posted October 5, 2015.', 'Posted October 6, 2011.', 'Posted October 6, 2012.', 'Posted October 6, 2013.', 'Posted October 6, 2014.', 'Posted October 6, 2015.', 'Posted October 7, 2011.', 'Posted October 7, 2013.', 'Posted October 7, 2014.', 'Posted October 7, 2015.', 'Posted October 8, 2011.', 'Posted October 8, 2012.', 'Posted October 8, 2013.', 'Posted October 8, 2014.', 'Posted October 8, 2015.', 'Posted October 9, 2012.', 'Posted October 9, 2013.', 'Posted October 9, 2014.', 'Posted October 9, 2015.', 'Posted September 1, 2012.', 'Posted September 1, 2013.', 'Posted September 1, 2014.', 'Posted September 1, 2015.', 'Posted September 1.', 'Posted September 10, 2011.', 'Posted September 10, 2012.', 'Posted September 10, 2013.', 'Posted September 10, 2014.', 'Posted September 10, 2015.', 'Posted September 10.', 'Posted September 11, 2011.', 'Posted September 11, 2012.', 'Posted September 11, 2013.', 'Posted September 11, 2014.', 'Posted September 11, 2015.', 'Posted September 11.', 'Posted September 12, 2011.', 'Posted September 12, 2013.', 'Posted September 12, 2014.', 'Posted September 12, 2015.', 'Posted September 12.', 'Posted September 13, 2012.', 'Posted September 13, 2013.', 'Posted September 13, 2014.', 'Posted September 13, 2015.', 'Posted September 13.', 'Posted September 14, 2011.', 'Posted September 14, 2012.', 'Posted September 14, 2013.', 'Posted September 14, 2014.', 'Posted September 14, 2015.', 'Posted September 14.', 'Posted September 15, 2011.', 'Posted September 15, 2012.', 'Posted September 15, 2013.', 'Posted September 15, 2014.', 'Posted September 15, 2015.', 'Posted September 15.', 'Posted September 16, 2011.', 'Posted September 16, 2012.', 'Posted September 16, 2013.', 'Posted September 16, 2014.', 'Posted September 16, 2015.', 'Posted September 16.', 'Posted September 17, 2012.', 'Posted September 17, 2013.', 'Posted September 17, 2014.', 'Posted September 17, 2015.', 'Posted September 17.', 'Posted September 18, 2012.', 'Posted September 18, 2013.', 'Posted September 18, 2014.', 'Posted September 18, 2015.', 'Posted September 18.', 'Posted September 19, 2011.', 'Posted September 19, 2012.', 'Posted September 19, 2013.', 'Posted September 19, 2014.', 'Posted September 19, 2015.', 'Posted September 2, 2012.', 'Posted September 2, 2013.', 'Posted September 2, 2014.', 'Posted September 2, 2015.', 'Posted September 2.', 'Posted September 20, 2011.', 'Posted September 20, 2012.', 'Posted September 20, 2013.', 'Posted September 20, 2014.', 'Posted September 20, 2015.', 'Posted September 21, 2011.', 'Posted September 21, 2012.', 'Posted September 21, 2013.', 'Posted September 21, 2014.', 'Posted September 21, 2015.', 'Posted September 22, 2011.', 'Posted September 22, 2012.', 'Posted September 22, 2013.', 'Posted September 22, 2014.', 'Posted September 22, 2015.', 'Posted September 23, 2011.', 'Posted September 23, 2012.', 'Posted September 23, 2013.', 'Posted September 23, 2014.', 'Posted September 23, 2015.', 'Posted September 24, 2011.', 'Posted September 24, 2012.', 'Posted September 24, 2013.', 'Posted September 24, 2014.', 'Posted September 24, 2015.', 'Posted September 25, 2011.', 'Posted September 25, 2012.', 'Posted September 25, 2013.', 'Posted September 25, 2014.', 'Posted September 25, 2015.', 'Posted September 26, 2011.', 'Posted September 26, 2012.', 'Posted September 26, 2013.', 'Posted September 26, 2014.', 'Posted September 26, 2015.', 'Posted September 27, 2012.', 'Posted September 27, 2013.', 'Posted September 27, 2014.', 'Posted September 27, 2015.', 'Posted September 28, 2011.', 'Posted September 28, 2012.', 'Posted September 28, 2013.', 'Posted September 28, 2014.', 'Posted September 28, 2015.', 'Posted September 29, 2011.', 'Posted September 29, 2012.', 'Posted September 29, 2013.', 'Posted September 29, 2014.', 'Posted September 29, 2015.', 'Posted September 3, 2013.', 'Posted September 3, 2014.', 'Posted September 3, 2015.', 'Posted September 3.', 'Posted September 30, 2011.', 'Posted September 30, 2012.', 'Posted September 30, 2013.', 'Posted September 30, 2014.', 'Posted September 30, 2015.', 'Posted September 4, 2011.', 'Posted September 4, 2012.', 'Posted September 4, 2013.', 'Posted September 4, 2014.', 'Posted September 4, 2015.', 'Posted September 4.', 'Posted September 5, 2012.', 'Posted September 5, 2013.', 'Posted September 5, 2014.', 'Posted September 5, 2015.', 'Posted September 5.', 'Posted September 6, 2011.', 'Posted September 6, 2012.', 'Posted September 6, 2013.', 'Posted September 6, 2014.', 'Posted September 6, 2015.', 'Posted September 6.', 'Posted September 7, 2011.', 'Posted September 7, 2012.', 'Posted September 7, 2013.', 'Posted September 7, 2014.', 'Posted September 7, 2015.', 'Posted September 7.', 'Posted September 8, 2011.', 'Posted September 8, 2012.', 'Posted September 8, 2013.', 'Posted September 8, 2014.', 'Posted September 8, 2015.', 'Posted September 8.', 'Posted September 9, 2011.', 'Posted September 9, 2012.', 'Posted September 9, 2013.', 'Posted September 9, 2014.', 'Posted September 9, 2015.', 'Posted September 9.']\n"
     ]
    }
   ],
   "source": [
    "# Obtener valores únicos de la columna 'posted'\n",
    "unique_posted_values = user_reviews_transformed.select(\"posted\").distinct().orderBy(\"posted\")\n",
    "# Convertir a lista\n",
    "posted_list = [row.posted for row in unique_posted_values.collect()]\n",
    "# Mostrar los valores únicos como un array\n",
    "print(posted_list)\n"
   ]
  },
  {
   "cell_type": "code",
   "execution_count": 170,
   "metadata": {},
   "outputs": [],
   "source": [
    "# Configura la propiedad para el analizador de fecha\n",
    "spark.conf.set(\"spark.sql.legacy.timeParserPolicy\", \"LEGACY\")"
   ]
  },
  {
   "cell_type": "code",
   "execution_count": 204,
   "metadata": {},
   "outputs": [
    {
     "name": "stdout",
     "output_type": "stream",
     "text": [
      "+-------------------+----------------------------------------------------+-------+---------+---------------------------------------------------------------------------------------------------------------------------------------------------------------------------------------------------------------------------------------------------------------------------------------------------------------------------------------------------------------------------------------------------------------------------------------------------------------------------------------------------------------------------------------------------------------------------------------------------------------------------------------------------------------------------------------------------------------------------------------------------------------------------------------------------------------------------------------------------------------------------------------------------------------------------------------------------------------------------------------------------------------------------------------------------------------------------------------------------------------------------------------------------------------------------------------------------------------------------------------------------------------------------------------------------------------------------------------------------------------------------------------------------------------------------------------------------------------------------------------------------------------------------------------------+--------------------------------+--------------------------+----------------------+----------------------------------------------+-----------+-------------------+--------------------+\n",
      "|user_id            |user_url                                            |item_id|recommend|review                                                                                                                                                                                                                                                                                                                                                                                                                                                                                                                                                                                                                                                                                                                                                                                                                                                                                                                                                                                                                                                                                                                                                                                                                                                                                                                                                                                                                                                                                                                                       |funny                           |posted                    |last_edited           |helpful                                       |posted_date|clean_posted       |clean_date          |\n",
      "+-------------------+----------------------------------------------------+-------+---------+---------------------------------------------------------------------------------------------------------------------------------------------------------------------------------------------------------------------------------------------------------------------------------------------------------------------------------------------------------------------------------------------------------------------------------------------------------------------------------------------------------------------------------------------------------------------------------------------------------------------------------------------------------------------------------------------------------------------------------------------------------------------------------------------------------------------------------------------------------------------------------------------------------------------------------------------------------------------------------------------------------------------------------------------------------------------------------------------------------------------------------------------------------------------------------------------------------------------------------------------------------------------------------------------------------------------------------------------------------------------------------------------------------------------------------------------------------------------------------------------------------------------------------------------+--------------------------------+--------------------------+----------------------+----------------------------------------------+-----------+-------------------+--------------------+\n",
      "|kitchenappliancewow|http://steamcommunity.com/id/kitchenappliancewow    |322330 |1        |Don't Starve Together is an interesting game. It's an \"uncomprimising game full of science and magic\" according to the game's site, and I would agree. It's an interesting little survival game in an interesting little world. A survival game may turn off many, but I would argue that it's quite an interesting game. Or well, that was the last game. This game adds multiplayer, which in my opinion, is an absolutely genius idea. The original game, Don't Starve, turned me off after a couple hours of playing. Don't Starve Together, with the addition of multiplayer, makes the game much easier to enjoy. I also really love its sadistic art style.Bringing the game down is its aforementioned boringness (yeah, even with friends).I would recommend Don't Starve Together only to those who would like a nice survival challenge, just don't go in thinking the game'll be your new Team Fortress 2.I wouldn't recommend this game to the completionist crowd, however, as completing this game will leave you with a certain emptiness.Final Rating: 7.0/10                                                                                                                                                                                                                                                                                                                                                                                                                                                               |                                |Posted August 19.         |                      |No ratings yet                                |2024-08-19 |August 19., 2024   |August 19, 2024.    |\n",
      "|kitchenappliancewow|http://steamcommunity.com/id/kitchenappliancewow    |413150 |1        |Stardew Valley is a heartwarming game. You may pass this up in your queue as another boring indie game with pixel-art graphics, but if you look closer, you'll find a beautiful game, masterfully created by a single person, with great graphics, an intriguing plot, and a real sense of community. If you're anything like me, you'll get lost within the game within your first hour. Many draw comparisons with Harvest Moon, and I definitely agree, but as many see it as a reimagining, I see it as a spiritual successor; building upon the farming and marriage aspects of the game, and adding things like events, community, fishing, mining, combat, foraging, and the Community Centre.The few things that bring the game down are its audio bugs (very few), gamepad support (using a keyboard and mouse is much better), shallow combat scheme (could be built upon) and pixel sizings not matching sometimes, which never fails to look like a beautiful meadow with dead cows in it. By this I mean when watching TV and several inventory items, but all these are tiny nitpicks compared to the full game.I would definitely reccomend Stardew Valley, in fact, it's my Independent Game of the Year so far, and one of my favourite games of all time. And it's made by one person.Also, it's a pretty cool game to 100%. Achievements are fair and not too time-consuming, and it's an overall fun game, and the Community Centre thing is one of the best things to 100% this year, in my opinion.Final Rating: 9.1/10|                                |Posted August 19.         |Last edited August 19.|No ratings yet                                |2024-08-19 |August 19., 2024   |August 19, 2024.    |\n",
      "|kittenwithmittens  |http://steamcommunity.com/id/kittenwithmittens      |287290 |0        |Cooperative play was removed.Cooperative play was the best part of RE5/RE6.Would not recommend.                                                                                                                                                                                                                                                                                                                                                                                                                                                                                                                                                                                                                                                                                                                                                                                                                                                                                                                                                                                                                                                                                                                                                                                                                                                                                                                                                                                                                                              |1 person found this review funny|Posted February 25, 2015. |                      |3 of 10 people (30%) found this review helpful|2015-02-25 |February 25, 2015. |February 25, 2015.. |\n",
      "|76561198068660878  |http://steamcommunity.com/profiles/76561198068660878|301520 |1        |good                                                                                                                                                                                                                                                                                                                                                                                                                                                                                                                                                                                                                                                                                                                                                                                                                                                                                                                                                                                                                                                                                                                                                                                                                                                                                                                                                                                                                                                                                                                                         |                                |Posted August 23.         |                      |1 of 3 people (33%) found this review helpful |2024-08-23 |August 23., 2024   |August 23, 2024.    |\n",
      "|76561198068660878  |http://steamcommunity.com/profiles/76561198068660878|620    |1        |sooooooo gooooood!                                                                                                                                                                                                                                                                                                                                                                                                                                                                                                                                                                                                                                                                                                                                                                                                                                                                                                                                                                                                                                                                                                                                                                                                                                                                                                                                                                                                                                                                                                                           |                                |Posted August 13.         |                      |No ratings yet                                |2024-08-13 |August 13., 2024   |August 13, 2024.    |\n",
      "|76561198068660878  |http://steamcommunity.com/profiles/76561198068660878|212680 |1        |This game is great                                                                                                                                                                                                                                                                                                                                                                                                                                                                                                                                                                                                                                                                                                                                                                                                                                                                                                                                                                                                                                                                                                                                                                                                                                                                                                                                                                                                                                                                                                                           |                                |Posted November 9, 2015.  |                      |No ratings yet                                |2015-11-09 |November 9, 2015.  |November 9, 2015..  |\n",
      "|76561198068660878  |http://steamcommunity.com/profiles/76561198068660878|218230 |1        |good game                                                                                                                                                                                                                                                                                                                                                                                                                                                                                                                                                                                                                                                                                                                                                                                                                                                                                                                                                                                                                                                                                                                                                                                                                                                                                                                                                                                                                                                                                                                                    |1 person found this review funny|Posted October 14, 2014.  |                      |No ratings yet                                |2014-10-14 |October 14, 2014.  |October 14, 2014..  |\n",
      "|76561198065171294  |http://steamcommunity.com/profiles/76561198065171294|4000   |1        |...                                                                                                                                                                                                                                                                                                                                                                                                                                                                                                                                                                                                                                                                                                                                                                                                                                                                                                                                                                                                                                                                                                                                                                                                                                                                                                                                                                                                                                                                                                                                          |                                |Posted February 12.       |                      |1 of 1 people (100%) found this review helpful|2024-02-12 |February 12., 2024 |February 12, 2024.  |\n",
      "|76561198068160202  |http://steamcommunity.com/profiles/76561198068160202|440    |1        |10 star                                                                                                                                                                                                                                                                                                                                                                                                                                                                                                                                                                                                                                                                                                                                                                                                                                                                                                                                                                                                                                                                                                                                                                                                                                                                                                                                                                                                                                                                                                                                      |                                |Posted February 27, 2014. |                      |No ratings yet                                |2014-02-27 |February 27, 2014. |February 27, 2014.. |\n",
      "|coronelcross       |http://steamcommunity.com/id/coronelcross           |312990 |1        |super entretenido genial el juego esta repleto de accion y al contrario de enfadarte cuando pierdes te da risa de las formas tan epicas en las que muere                                                                                                                                                                                                                                                                                                                                                                                                                                                                                                                                                                                                                                                                                                                                                                                                                                                                                                                                                                                                                                                                                                                                                                                                                                                                                                                                                                                     |                                |Posted August 21, 2014.   |                      |No ratings yet                                |2014-08-21 |August 21, 2014.   |August 21, 2014..   |\n",
      "|76561198051831438  |http://steamcommunity.com/profiles/76561198051831438|336520 |0        |Goodness - take me bak 15 years and this would ahave been a resonable game - gameplay, interface, and speed of game is poor all things considered.                                                                                                                                                                                                                                                                                                                                                                                                                                                                                                                                                                                                                                                                                                                                                                                                                                                                                                                                                                                                                                                                                                                                                                                                                                                                                                                                                                                           |                                |Posted November 24, 2015. |                      |7 of 8 people (88%) found this review helpful |2015-11-24 |November 24, 2015. |November 24, 2015.. |\n",
      "|76561198051831438  |http://steamcommunity.com/profiles/76561198051831438|306130 |1        |Enjoyable game - reasonable graphics - lots of quests and side chains. very customazable charachters. Purchased montly sub as I enjoyed it so much!  great way to encourage subscribers.                                                                                                                                                                                                                                                                                                                                                                                                                                                                                                                                                                                                                                                                                                                                                                                                                                                                                                                                                                                                                                                                                                                                                                                                                                                                                                                                                     |                                |Posted July 7, 2015.      |                      |1 of 1 people (100%) found this review helpful|2015-07-07 |July 7, 2015.      |July 7, 2015..      |\n",
      "|76561198051831438  |http://steamcommunity.com/profiles/76561198051831438|113420 |0        |Not my thing                                                                                                                                                                                                                                                                                                                                                                                                                                                                                                                                                                                                                                                                                                                                                                                                                                                                                                                                                                                                                                                                                                                                                                                                                                                                                                                                                                                                                                                                                                                                 |                                |Posted September 29, 2014.|                      |0 of 2 people (0%) found this review helpful  |2014-09-29 |September 29, 2014.|September 29, 2014..|\n",
      "|76561198051831438  |http://steamcommunity.com/profiles/76561198051831438|263540 |1        |not very playable at prpesent - interface is very laggy and clumsy                                                                                                                                                                                                                                                                                                                                                                                                                                                                                                                                                                                                                                                                                                                                                                                                                                                                                                                                                                                                                                                                                                                                                                                                                                                                                                                                                                                                                                                                           |                                |Posted May 10, 2014.      |                      |No ratings yet                                |2014-05-10 |May 10, 2014.      |May 10, 2014..      |\n",
      "|76561198051831438  |http://steamcommunity.com/profiles/76561198051831438|252490 |1        |Good game. in Alpha Stage I can has great potential as a survival game! addictive as heck!                                                                                                                                                                                                                                                                                                                                                                                                                                                                                                                                                                                                                                                                                                                                                                                                                                                                                                                                                                                                                                                                                                                                                                                                                                                                                                                                                                                                                                                   |                                |Posted February 12, 2014. |                      |No ratings yet                                |2014-02-12 |February 12, 2014. |February 12, 2014.. |\n",
      "|76561198005477736  |http://steamcommunity.com/profiles/76561198005477736|378649 |1        |The developers continue to set the bar on character and story driven gaming. The world is as incredible as always, the game still a joy to play. Nothing this year has come even close to the Witcher 3 + DLC                                                                                                                                                                                                                                                                                                                                                                                                                                                                                                                                                                                                                                                                                                                                                                                                                                                                                                                                                                                                                                                                                                                                                                                                                                                                                                                                |                                |Posted October 17, 2015.  |                      |No ratings yet                                |2015-10-17 |October 17, 2015.  |October 17, 2015..  |\n",
      "|76561198005477736  |http://steamcommunity.com/profiles/76561198005477736|237990 |1        |Reccommended? Maybe - really nice design and art style, good concepts but quite poorly executed. Some fundamental control and camera issues and decisions made early on can result in a very difficult time towards the end of the game (inability to level up or get perks). Hope they do better next time around....                                                                                                                                                                                                                                                                                                                                                                                                                                                                                                                                                                                                                                                                                                                                                                                                                                                                                                                                                                                                                                                                                                                                                                                                                       |                                |Posted January 23, 2015.  |                      |No ratings yet                                |2015-01-23 |January 23, 2015.  |January 23, 2015..  |\n",
      "|76561198005477736  |http://steamcommunity.com/profiles/76561198005477736|240760 |1        |Took me a while to get into it but a good engaging game with lots of alternative approaches to any given situation. Impressive effort and certainly worth a play if your into old school rpgs.                                                                                                                                                                                                                                                                                                                                                                                                                                                                                                                                                                                                                                                                                                                                                                                                                                                                                                                                                                                                                                                                                                                                                                                                                                                                                                                                               |                                |Posted December 24, 2014. |                      |No ratings yet                                |2014-12-24 |December 24, 2014. |December 24, 2014.. |\n",
      "|76561198005477736  |http://steamcommunity.com/profiles/76561198005477736|241930 |1        |Great game, one of the few of late that is actually deserving of your time and is really fun to play. Nice to see it well optimised for the PC also.                                                                                                                                                                                                                                                                                                                                                                                                                                                                                                                                                                                                                                                                                                                                                                                                                                                                                                                                                                                                                                                                                                                                                                                                                                                                                                                                                                                         |                                |Posted October 4, 2014.   |                      |No ratings yet                                |2014-10-04 |October 4, 2014.   |October 4, 2014..   |\n",
      "|76561198005477736  |http://steamcommunity.com/profiles/76561198005477736|204100 |1        |One of the best games I have ever played. Not often games like this come along.                                                                                                                                                                                                                                                                                                                                                                                                                                                                                                                                                                                                                                                                                                                                                                                                                                                                                                                                                                                                                                                                                                                                                                                                                                                                                                                                                                                                                                                              |                                |Posted September 3, 2014. |                      |No ratings yet                                |2014-09-03 |September 3, 2014. |September 3, 2014.. |\n",
      "+-------------------+----------------------------------------------------+-------+---------+---------------------------------------------------------------------------------------------------------------------------------------------------------------------------------------------------------------------------------------------------------------------------------------------------------------------------------------------------------------------------------------------------------------------------------------------------------------------------------------------------------------------------------------------------------------------------------------------------------------------------------------------------------------------------------------------------------------------------------------------------------------------------------------------------------------------------------------------------------------------------------------------------------------------------------------------------------------------------------------------------------------------------------------------------------------------------------------------------------------------------------------------------------------------------------------------------------------------------------------------------------------------------------------------------------------------------------------------------------------------------------------------------------------------------------------------------------------------------------------------------------------------------------------------+--------------------------------+--------------------------+----------------------+----------------------------------------------+-----------+-------------------+--------------------+\n",
      "only showing top 20 rows\n",
      "\n"
     ]
    }
   ],
   "source": [
    "from pyspark.sql.functions import regexp_replace, to_date, trim, when, expr, concat, lit, col\n",
    "from pyspark.sql.types import StringType, DateType\n",
    "from datetime import datetime\n",
    "\n",
    "# Obtén el año actual\n",
    "current_year = datetime.now().year\n",
    "\n",
    "# Define el formato de fecha que parece tener el campo 'posted'\n",
    "date_format = 'MMM d, yyyy.'\n",
    "\n",
    "# Limpia y estandariza el campo 'posted' utilizando expresiones regulares\n",
    "user_reviews_transformed = user_reviews_transformed.withColumn(\n",
    "    \"clean_posted\",\n",
    "    regexp_replace(\"posted\", r'Posted\\s*', '')  # Elimina 'Posted'\n",
    ")\n",
    "\n",
    "# Elimina espacios en blanco adicionales\n",
    "user_reviews_transformed = user_reviews_transformed.withColumn(\n",
    "    \"clean_posted\",\n",
    "    trim(user_reviews_transformed[\"clean_posted\"]).alias(\"clean_posted\")\n",
    ")\n",
    "\n",
    "# Agrega el año actual a las fechas que no tienen año\n",
    "user_reviews_transformed = user_reviews_transformed.withColumn(\n",
    "    \"clean_posted\",\n",
    "    when(user_reviews_transformed[\"clean_posted\"].contains(\",\"), user_reviews_transformed[\"clean_posted\"]).otherwise(expr('concat(clean_posted, \", {}\")'.format(current_year)))\n",
    ")\n",
    "\n",
    "# Elimina el punto intermedio y agrega un punto al final\n",
    "user_reviews_transformed = user_reviews_transformed.withColumn(\n",
    "    \"clean_date\",\n",
    "    trim(concat(regexp_replace(\"clean_posted\", r'\\.,', ','), lit('.')))\n",
    ")\n",
    "\n",
    "# Convierte el campo 'clean_date' a formato de fecha utilizando to_date\n",
    "user_reviews_transformed = user_reviews_transformed.withColumn(\n",
    "    \"posted_date\",\n",
    "    to_date(\"clean_date\", date_format).cast(DateType()).alias(\"posted_date\")\n",
    ")\n",
    "\n",
    "# Reemplaza las cadenas nulas o vacías en la columna 'review' con 'Unknown'\n",
    "user_reviews_transformed = user_reviews_transformed.withColumn(\"review\", when((col(\"review\").isNull()) | (col(\"review\") == \"\"), \"Unknown\").otherwise(col(\"review\")))\n",
    "\n",
    "# Muestra el DataFrame resultante\n",
    "user_reviews_transformed.show(truncate=False)"
   ]
  },
  {
   "cell_type": "code",
   "execution_count": 205,
   "metadata": {},
   "outputs": [
    {
     "name": "stdout",
     "output_type": "stream",
     "text": [
      "root\n",
      " |-- user_id: string (nullable = true)\n",
      " |-- user_url: string (nullable = true)\n",
      " |-- item_id: string (nullable = true)\n",
      " |-- recommend: integer (nullable = true)\n",
      " |-- review: string (nullable = true)\n",
      " |-- funny: string (nullable = true)\n",
      " |-- posted: string (nullable = true)\n",
      " |-- last_edited: string (nullable = true)\n",
      " |-- helpful: string (nullable = true)\n",
      " |-- posted_date: date (nullable = true)\n",
      " |-- clean_posted: string (nullable = true)\n",
      " |-- clean_date: string (nullable = true)\n",
      "\n"
     ]
    }
   ],
   "source": [
    "user_reviews_transformed.printSchema()"
   ]
  },
  {
   "cell_type": "code",
   "execution_count": 206,
   "metadata": {},
   "outputs": [
    {
     "name": "stdout",
     "output_type": "stream",
     "text": [
      "+-------+--------+-------+---------+------+-----+------+-----------+-------+-----------+------------+----------+\n",
      "|user_id|user_url|item_id|recommend|review|funny|posted|last_edited|helpful|posted_date|clean_posted|clean_date|\n",
      "+-------+--------+-------+---------+------+-----+------+-----------+-------+-----------+------------+----------+\n",
      "|      0|       0|      0|        0|     0|51154|     0|      53165|      0|          0|           0|         0|\n",
      "+-------+--------+-------+---------+------+-----+------+-----------+-------+-----------+------------+----------+\n",
      "\n"
     ]
    }
   ],
   "source": [
    "# Clean and count null values for each DataFrame\n",
    "steam_games_transformed = limpiar_nombres_columnas(user_reviews_transformed)\n",
    "valores_vacios_por_columna_steam = count_null_values(steam_games_transformed)\n",
    "valores_vacios_por_columna_steam.show()"
   ]
  },
  {
   "cell_type": "code",
   "execution_count": null,
   "metadata": {},
   "outputs": [],
   "source": [
    "# Tratar los valores en la columna 'early_access'\n",
    "steam_games_transformed = steam_games_transformed.withColumn(\n",
    "    \"early_access\",\n",
    "    when(steam_games_transformed[\"early_access\"] == \"\", -1)\n",
    "    .when(steam_games_transformed[\"early_access\"] == \"false\", 0)\n",
    "    .when(steam_games_transformed[\"early_access\"] == \"true\", 1)\n",
    "    .otherwise(\"Unknown\")\n",
    ")"
   ]
  },
  {
   "cell_type": "code",
   "execution_count": null,
   "metadata": {},
   "outputs": [],
   "source": [
    "class SentimentAnalyzer(BaseEstimator, TransformerMixin):\n",
    "    def __init__(self, column):\n",
    "        self.column = column\n",
    "        self.sentiment_column = None  # Nuevo atributo para almacenar la columna de sentimientos\n",
    "\n",
    "    def fit(self, X, y=None):\n",
    "        return self\n",
    "\n",
    "    def transform(self, X):\n",
    "        analyzer = SentimentIntensityAnalyzer()\n",
    "        X['sentiment_score'] = X[self.column].astype(str).apply(lambda x: analyzer.polarity_scores(x)['compound'])\n",
    "        self.sentiment_column = X[['sentiment_score']].copy()  # Almacenar la columna de sentimientos\n",
    "        return X\n",
    "\n",
    "class MultiColumnLabelEncoder(BaseEstimator, TransformerMixin):\n",
    "    def __init__(self, columns=None):\n",
    "        self.columns = columns\n",
    "\n",
    "    def fit(self, X, y=None):\n",
    "        return self\n",
    "\n",
    "    def transform(self, X):\n",
    "        for col in self.columns:\n",
    "            le = LabelEncoder()\n",
    "            X[col] = le.fit_transform(X[col])\n",
    "        return X\n",
    "\n",
    "# Obtener las columnas numéricas y categóricas\n",
    "numeric_columns = df.select_dtypes(include=['int64', 'float64']).columns\n",
    "ordinal_var = ['recommend']\n",
    "categorical_columns = [\"genres_str\", \"app_name\", \"developer\", \"item_name\"]\n",
    "# Crear una nueva variable excluyendo las columnas en ordinal_var\n",
    "categorical_col_excluded_ordinal = [col for col in categorical_columns if col not in ordinal_var]\n",
    "\n",
    "# Convertir las columnas categóricas a tipo str\n",
    "df[categorical_col_excluded_ordinal] = df[categorical_col_excluded_ordinal].astype(str)\n",
    "# Crear una nueva variable excluyendo la columna 'review'\n",
    "\n",
    "# Definir las transformaciones para las columnas numéricas\n",
    "numeric_transformer = Pipeline(steps=[\n",
    "    ('imputer', SimpleImputer(strategy='mean')),\n",
    "    ('scaler', StandardScaler())\n",
    "])\n",
    "\n",
    "# Definir las transformaciones para las columnas ordinales\n",
    "ordinal_transformer = MultiColumnLabelEncoder(columns=ordinal_var)\n",
    "\n",
    "# Definir las transformaciones para las columnas categóricas restantes\n",
    "categorical_transformer = Pipeline(steps=[\n",
    "    ('imputer', SimpleImputer(strategy='most_frequent')),\n",
    "    ('onehot', OneHotEncoder(handle_unknown='ignore'))\n",
    "])\n",
    "\n",
    "# Crear la columna transformer\n",
    "preprocessor = ColumnTransformer(\n",
    "    transformers=[\n",
    "        ('num', numeric_transformer, numeric_columns),\n",
    "        ('ord', ordinal_transformer, ordinal_var),\n",
    "        ('cat', categorical_transformer, categorical_col_excluded_ordinal)\n",
    "    ])\n",
    "\n",
    "# Añadir el transformador a la pipeline\n",
    "pipeline = Pipeline(steps=[\n",
    "    ('sentiment_analyzer', SentimentAnalyzer(column='review')),\n",
    "    ('preprocessor', preprocessor)\n",
    "])\n",
    "\n",
    "# Aplicar la pipeline al DataFrame\n",
    "transformed_df = pipeline.fit_transform(df)\n",
    "# Obtener la columna de sentimientos directamente de SentimentAnalyzer\n",
    "sentiment_transformed = pipeline.named_steps['sentiment_analyzer'].sentiment_column\n"
   ]
  },
  {
   "cell_type": "code",
   "execution_count": null,
   "metadata": {},
   "outputs": [],
   "source": [
    "from sklearn.base import BaseEstimator, TransformerMixin\n",
    "from nltk.sentiment import SentimentIntensityAnalyzer\n",
    "\n",
    "class SentimentAnalyzer(BaseEstimator, TransformerMixin):\n",
    "    def __init__(self):\n",
    "        self.sentiment_column = None  # Nuevo atributo para almacenar la columna de sentimientos\n",
    "\n",
    "    def fit(self, X, y=None):\n",
    "        return self\n",
    "\n",
    "    def transform(self, X, column='review'):\n",
    "        analyzer = SentimentIntensityAnalyzer()\n",
    "        X['sentiment_score'] = X[column].astype(str).apply(lambda x: analyzer.polarity_scores(x)['compound'])\n",
    "        self.sentiment_column = X[['sentiment_score']].copy()  # Almacenar la columna de sentimientos\n",
    "        return X  # Devolver el DataFrame completo con la nueva columna\n",
    "\n",
    "    def get_feature_names_out(self, input_features=None):\n",
    "        return input_features\n",
    "    \n",
    "class MultiColumnLabelEncoder(BaseEstimator, TransformerMixin):\n",
    "    def __init__(self, columns=None):\n",
    "        self.columns = columns\n",
    "        self.label_encoders = {}\n",
    "\n",
    "    def fit(self, X, y=None):\n",
    "        for col in self.columns:\n",
    "            le = LabelEncoder()\n",
    "            le.fit(X[col])\n",
    "            self.label_encoders[col] = le\n",
    "        return self\n",
    "\n",
    "    def transform(self, X):\n",
    "        for col in self.columns:\n",
    "            le = self.label_encoders[col]\n",
    "            X[col] = le.transform(X[col])\n",
    "        return X\n",
    "\n",
    "    def get_feature_names_out(self, input_features=None):\n",
    "        return input_features\n",
    "\n",
    "\n",
    "# Obtener las columnas numéricas y categóricas\n",
    "numeric_columns = df.select_dtypes(include=['int64', 'float64']).columns\n",
    "ordinal_var = ['recommend']\n",
    "categorical_columns = [\"genres_str\", \"app_name\", \"developer\", \"item_name\"]\n",
    "# Crear una nueva variable excluyendo las columnas en ordinal_var\n",
    "categorical_col_excluded_ordinal = [col for col in categorical_columns if col not in ordinal_var]\n",
    "\n",
    "# Convertir las columnas categóricas a tipo str\n",
    "df[categorical_col_excluded_ordinal] = df[categorical_col_excluded_ordinal].astype(str)\n",
    "# Crear una nueva variable excluyendo la columna 'review'\n",
    "\n",
    "# Definir las transformaciones para las columnas numéricas\n",
    "numeric_transformer = Pipeline(steps=[\n",
    "    ('imputer', SimpleImputer(strategy='mean')),\n",
    "    ('scaler', StandardScaler())\n",
    "])\n",
    "\n",
    "# Definir las transformaciones para las columnas ordinales\n",
    "ordinal_transformer = MultiColumnLabelEncoder(columns=ordinal_var)\n",
    "\n",
    "# Definir las transformaciones para las columnas categóricas restantes\n",
    "categorical_transformer = Pipeline(steps=[\n",
    "    ('imputer', SimpleImputer(strategy='most_frequent')),\n",
    "    ('onehot', OneHotEncoder(handle_unknown='ignore'))\n",
    "])\n",
    "\n",
    "# Crear la columna transformer\n",
    "preprocessor = ColumnTransformer(\n",
    "    transformers=[\n",
    "        ('num', numeric_transformer, numeric_columns),\n",
    "        ('ord', ordinal_transformer, ordinal_var),\n",
    "        ('cat', categorical_transformer, categorical_col_excluded_ordinal)\n",
    "    ])\n",
    "\n",
    "# Añadir el transformador a la pipeline\n",
    "pipeline = Pipeline(steps=[\n",
    "    ('sentiment_analyzer', SentimentAnalyzer()),\n",
    "    ('preprocessor', preprocessor)\n",
    "])\n",
    "\n",
    "# Aplicar la pipeline al DataFrame\n",
    "transformed_df = pipeline.fit_transform(df)\n",
    "\n",
    "# Convertir la matriz dispersa a un DataFrame de pandas\n",
    "transformed_df_dense = pd.DataFrame(transformed_df.toarray(), columns=pipeline.named_steps['preprocessor'].get_feature_names_out())\n",
    "\n",
    "# Mostrar las primeras filas del DataFrame\n",
    "transformed_df_dense.head(5)"
   ]
  },
  {
   "cell_type": "code",
   "execution_count": null,
   "metadata": {},
   "outputs": [],
   "source": []
  }
 ],
 "metadata": {
  "kernelspec": {
   "display_name": "evstack",
   "language": "python",
   "name": "python3"
  },
  "language_info": {
   "codemirror_mode": {
    "name": "ipython",
    "version": 3
   },
   "file_extension": ".py",
   "mimetype": "text/x-python",
   "name": "python",
   "nbconvert_exporter": "python",
   "pygments_lexer": "ipython3",
   "version": "3.10.11"
  }
 },
 "nbformat": 4,
 "nbformat_minor": 2
}
