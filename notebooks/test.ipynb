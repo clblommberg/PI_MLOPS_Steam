{
 "cells": [
  {
   "cell_type": "code",
   "execution_count": 4,
   "metadata": {},
   "outputs": [],
   "source": [
    "import findspark\n",
    "findspark.init()"
   ]
  },
  {
   "cell_type": "code",
   "execution_count": 76,
   "metadata": {},
   "outputs": [],
   "source": [
    "from pyspark.sql import SparkSession\n",
    "from pyspark import SparkConf\n",
    "from pyspark.sql.functions import explode, from_json, col\n",
    "from pyspark.sql.types import ArrayType, StructType, StructField, StringType\n",
    "from pyspark.sql.functions import explode_outer, col\n",
    "from pyspark.sql.types import StructType\n"
   ]
  },
  {
   "cell_type": "code",
   "execution_count": 6,
   "metadata": {},
   "outputs": [],
   "source": [
    "conf = SparkConf().set(\"spark.network.timeout\", \"600s\")  # Set the network timeout\n",
    "spark = SparkSession.builder \\\n",
    "    .appName(\"MLops\") \\\n",
    "    .master(\"spark://localhost:7077\") \\\n",
    "    .config(conf=conf) \\\n",
    "    .getOrCreate()\n",
    "spark = SparkSession.builder.master(\"spark://localhost:7077\").getOrCreate()"
   ]
  },
  {
   "cell_type": "code",
   "execution_count": 3,
   "metadata": {},
   "outputs": [],
   "source": []
  },
  {
   "cell_type": "code",
   "execution_count": 7,
   "metadata": {},
   "outputs": [
    {
     "data": {
      "text/html": [
       "\n",
       "            <div>\n",
       "                <p><b>SparkSession - in-memory</b></p>\n",
       "                \n",
       "        <div>\n",
       "            <p><b>SparkContext</b></p>\n",
       "\n",
       "            <p><a href=\"http://DESKTOP-BAETS3I:4040\">Spark UI</a></p>\n",
       "\n",
       "            <dl>\n",
       "              <dt>Version</dt>\n",
       "                <dd><code>v3.5.0</code></dd>\n",
       "              <dt>Master</dt>\n",
       "                <dd><code>spark://localhost:7077</code></dd>\n",
       "              <dt>AppName</dt>\n",
       "                <dd><code>MLops</code></dd>\n",
       "            </dl>\n",
       "        </div>\n",
       "        \n",
       "            </div>\n",
       "        "
      ],
      "text/plain": [
       "<pyspark.sql.session.SparkSession at 0x233b5f85480>"
      ]
     },
     "execution_count": 7,
     "metadata": {},
     "output_type": "execute_result"
    }
   ],
   "source": [
    "spark"
   ]
  },
  {
   "cell_type": "markdown",
   "metadata": {},
   "source": [
    "## Leer JSON"
   ]
  },
  {
   "cell_type": "markdown",
   "metadata": {},
   "source": [
    "- Info() [json_process](https://github.com/raveendratal/ravi_azureadbadf/blob/main/azure_realtime_scenarios/dynamic_json_process.ipynb)"
   ]
  },
  {
   "cell_type": "code",
   "execution_count": 80,
   "metadata": {},
   "outputs": [
    {
     "name": "stdout",
     "output_type": "stream",
     "text": [
      "+--------+----+----------+---------------+-----------+--------------------+-----------------------+----------------------------------------+---------------------------------------+\n",
      "|location|name|satellites|goods_customers|goods_trade|goods_orders_orderId|goods_orders_orderTotal|goods_orders_shipped_orderItems_itemName|goods_orders_shipped_orderItems_itemQty|\n",
      "+--------+----+----------+---------------+-----------+--------------------+-----------------------+----------------------------------------+---------------------------------------+\n",
      "|Redmond |MSFT|Bay Area  |government     |true       |1                   |123.34                 |Laptop                                  |20                                     |\n",
      "|Redmond |MSFT|Bay Area  |government     |true       |1                   |123.34                 |Charger                                 |2                                      |\n",
      "|Redmond |MSFT|Bay Area  |government     |true       |2                   |323.34                 |Mice                                    |2                                      |\n",
      "|Redmond |MSFT|Bay Area  |government     |true       |2                   |323.34                 |Keyboard                                |1                                      |\n",
      "|Redmond |MSFT|Bay Area  |distributer    |true       |1                   |123.34                 |Laptop                                  |20                                     |\n",
      "|Redmond |MSFT|Bay Area  |distributer    |true       |1                   |123.34                 |Charger                                 |2                                      |\n",
      "|Redmond |MSFT|Bay Area  |distributer    |true       |2                   |323.34                 |Mice                                    |2                                      |\n",
      "|Redmond |MSFT|Bay Area  |distributer    |true       |2                   |323.34                 |Keyboard                                |1                                      |\n",
      "|Redmond |MSFT|Bay Area  |retail         |true       |1                   |123.34                 |Laptop                                  |20                                     |\n",
      "|Redmond |MSFT|Bay Area  |retail         |true       |1                   |123.34                 |Charger                                 |2                                      |\n",
      "|Redmond |MSFT|Bay Area  |retail         |true       |2                   |323.34                 |Mice                                    |2                                      |\n",
      "|Redmond |MSFT|Bay Area  |retail         |true       |2                   |323.34                 |Keyboard                                |1                                      |\n",
      "|Redmond |MSFT|Shanghai  |government     |true       |1                   |123.34                 |Laptop                                  |20                                     |\n",
      "|Redmond |MSFT|Shanghai  |government     |true       |1                   |123.34                 |Charger                                 |2                                      |\n",
      "|Redmond |MSFT|Shanghai  |government     |true       |2                   |323.34                 |Mice                                    |2                                      |\n",
      "|Redmond |MSFT|Shanghai  |government     |true       |2                   |323.34                 |Keyboard                                |1                                      |\n",
      "|Redmond |MSFT|Shanghai  |distributer    |true       |1                   |123.34                 |Laptop                                  |20                                     |\n",
      "|Redmond |MSFT|Shanghai  |distributer    |true       |1                   |123.34                 |Charger                                 |2                                      |\n",
      "|Redmond |MSFT|Shanghai  |distributer    |true       |2                   |323.34                 |Mice                                    |2                                      |\n",
      "|Redmond |MSFT|Shanghai  |distributer    |true       |2                   |323.34                 |Keyboard                                |1                                      |\n",
      "+--------+----+----------+---------------+-----------+--------------------+-----------------------+----------------------------------------+---------------------------------------+\n",
      "only showing top 20 rows\n",
      "\n"
     ]
    }
   ],
   "source": [
    "from pyspark.sql import SparkSession\n",
    "from pyspark.sql.functions import explode_outer, col\n",
    "from pyspark.sql.types import StructType\n",
    "\n",
    "# Definir el JSON y guardarlo en un archivo local\n",
    "json_data = \"\"\"\n",
    "{\n",
    "  \"name\":\"MSFT\",\n",
    "  \"location\":\"Redmond\",\n",
    "  \"satellites\": [\"Bay Area\", \"Shanghai\"],\n",
    "  \"goods\": {\n",
    "    \"trade\":true,\n",
    "    \"customers\":[\"government\", \"distributer\", \"retail\"],\n",
    "    \"orders\":[\n",
    "        {\"orderId\":1,\"orderTotal\":123.34,\"shipped\":{\"orderItems\":[{\"itemName\":\"Laptop\",\"itemQty\":20},{\"itemName\":\"Charger\",\"itemQty\":2}]}},\n",
    "        {\"orderId\":2,\"orderTotal\":323.34,\"shipped\":{\"orderItems\":[{\"itemName\":\"Mice\",\"itemQty\":2},{\"itemName\":\"Keyboard\",\"itemQty\":1}]}}\n",
    "    ]}\n",
    "}\n",
    "{\"name\":\"Company1\",\"location\":\"Seattle\",\n",
    "  \"satellites\": [\"New York\"],\n",
    "  \"goods\":{\"trade\":false,\n",
    "           \"customers\":[\"store1\", \"store2\"],\n",
    "           \"orders\":[\n",
    "               {\"orderId\":4,\"orderTotal\":123.34,\"shipped\":{\"orderItems\":[{\"itemName\":\"Laptop\",\"itemQty\":20},{\"itemName\":\"Charger\",\"itemQty\":3}]}},\n",
    "               {\"orderId\":5,\"orderTotal\":343.24,\"shipped\":{\"orderItems\":[{\"itemName\":\"Chair\",\"itemQty\":4},{\"itemName\":\"Lamp\",\"itemQty\":2}]}}\n",
    "           ]}\n",
    "}\n",
    "{\"name\": \"Company2\", \"location\": \"Bellevue\",\n",
    "  \"goods\": {\"trade\": true, \"customers\":[\"Bank\"], \"orders\": [{\"orderId\": 4, \"orderTotal\": 123.34}]}}\n",
    "{\"name\": \"Company3\", \"location\": \"Kirkland\"}\n",
    "\"\"\"\n",
    "\n",
    "with open(\"sample.json\", \"w\") as file:\n",
    "    file.write(json_data)\n",
    "\n",
    "# Leer el JSON desde el archivo local\n",
    "df_json = spark.read.option(\"multiLine\", \"true\").json(\"sample.json\")\n",
    "\n",
    "def child_struct(nested_df):\n",
    "    list_schema = [((), nested_df)]\n",
    "    flat_columns = []\n",
    "\n",
    "    while len(list_schema) > 0:\n",
    "        parents, df = list_schema.pop()\n",
    "        flat_cols = [col(\".\".join(parents + (c[0],))).alias(\"_\".join(parents + (c[0],))) for c in df.dtypes if c[1][:6] != \"struct\"]\n",
    "        struct_cols = [c[0] for c in df.dtypes if c[1][:6] == \"struct\"]\n",
    "        flat_columns.extend(flat_cols)\n",
    "\n",
    "        for i in struct_cols:\n",
    "            projected_df = df.select(i + \".*\")\n",
    "            list_schema.append((parents + (i,), projected_df))\n",
    "\n",
    "    return nested_df.select(flat_columns)\n",
    "\n",
    "def master_array(df):\n",
    "    array_cols = [c[0] for c in df.dtypes if c[1][:5] == \"array\"]\n",
    "    while len(array_cols) > 0:\n",
    "        for c in array_cols:\n",
    "            df = df.withColumn(c, explode_outer(c))\n",
    "        df = child_struct(df)\n",
    "        array_cols = [c[0] for c in df.dtypes if c[1][:5] == \"array\"]\n",
    "    return df\n",
    "\n",
    "df_output = master_array(df_json)\n",
    "\n",
    "df_output.show(truncate=False)\n"
   ]
  },
  {
   "cell_type": "code",
   "execution_count": null,
   "metadata": {},
   "outputs": [],
   "source": []
  },
  {
   "cell_type": "markdown",
   "metadata": {},
   "source": [
    "## Leer JSON  - Anidados"
   ]
  },
  {
   "cell_type": "code",
   "execution_count": 87,
   "metadata": {},
   "outputs": [
    {
     "name": "stdout",
     "output_type": "stream",
     "text": [
      "+-----------------+----------------------------------------------------+-----+--------------+-------+-----------+------------------------+---------+---------------------------------------------------------------------------------------------------------------------------------------------------------------------------------------------------------------------------------------------------------+\n",
      "|user_id          |user_url                                            |funny|helpful       |item_id|last_edited|posted                  |recommend|review                                                                                                                                                                                                                                                   |\n",
      "+-----------------+----------------------------------------------------+-----+--------------+-------+-----------+------------------------+---------+---------------------------------------------------------------------------------------------------------------------------------------------------------------------------------------------------------------------------------------------------------+\n",
      "|76561197970982479|http://steamcommunity.com/profiles/76561197970982479|     |No ratings yet|1250   |           |Posted November 5, 2011.|true     |Simple yet with great replayability. In my opinion does 'zombie' hordes and team work better than left 4 dead plus has a global leveling system. Alot of down to earth 'zombie' splattering fun for the whole family. Amazed this sort of FPS is so rare.|\n",
      "|76561197970982479|http://steamcommunity.com/profiles/76561197970982479|     |No ratings yet|22200  |           |Posted July 15, 2011.   |true     |It's unique and worth a playthrough.                                                                                                                                                                                                                     |\n",
      "|76561197970982479|http://steamcommunity.com/profiles/76561197970982479|     |No ratings yet|43110  |           |Posted April 21, 2011.  |true     |Great atmosphere. The gunplay can be a bit chunky at times but at the end of the day this game is definitely worth it and I hope they do a sequel...so buy the game so I get a sequel!                                                                   |\n",
      "+-----------------+----------------------------------------------------+-----+--------------+-------+-----------+------------------------+---------+---------------------------------------------------------------------------------------------------------------------------------------------------------------------------------------------------------------------------------------------------------+\n",
      "\n"
     ]
    }
   ],
   "source": [
    "from pyspark.sql import SparkSession\n",
    "from pyspark.sql.functions import explode_outer, col\n",
    "\n",
    "# Crear la sesión de Spark\n",
    "spark = SparkSession.builder.appName(\"example\").getOrCreate()\n",
    "\n",
    "# Definir el JSON y guardarlo en un archivo local\n",
    "json_data = \"\"\"\n",
    "{ \"user_id\": \"76561197970982479\", \"user_url\": \"http://steamcommunity.com/profiles/76561197970982479\", \"reviews\": [ { \"funny\": \"\", \"posted\": \"Posted November 5, 2011.\", \"last_edited\": \"\", \"item_id\": \"1250\", \"helpful\": \"No ratings yet\", \"recommend\": true, \"review\": \"Simple yet with great replayability. In my opinion does 'zombie' hordes and team work better than left 4 dead plus has a global leveling system. Alot of down to earth 'zombie' splattering fun for the whole family. Amazed this sort of FPS is so rare.\" }, { \"funny\": \"\", \"posted\": \"Posted July 15, 2011.\", \"last_edited\": \"\", \"item_id\": \"22200\", \"helpful\": \"No ratings yet\", \"recommend\": true, \"review\": \"It's unique and worth a playthrough.\" }, { \"funny\": \"\", \"posted\": \"Posted April 21, 2011.\", \"last_edited\": \"\", \"item_id\": \"43110\", \"helpful\": \"No ratings yet\", \"recommend\": true, \"review\": \"Great atmosphere. The gunplay can be a bit chunky at times but at the end of the day this game is definitely worth it and I hope they do a sequel...so buy the game so I get a sequel!\" } ] }\n",
    "{ \"user_id\": \"js41637\", \"user_url\": \"http://steamcommunity.com/id/js41637\", \"reviews\": [ { \"funny\": \"\", \"posted\": \"Posted June 24, 2014.\", \"last_edited\": \"\", \"item_id\": \"251610\", \"helpful\": \"15 of 20 people (75%) found this review helpful\", \"recommend\": true, \"review\": 'I know what you think when you see this title \"Barbie Dreamhouse Party\" but do not be intimidated by it\\'s title, this is easily one of my GOTYs. You don\\'t get any of that cliche game mechanics that all the latest games have, this is simply good core gameplay. Yes, you can\\'t 360 noscope your friends, but what you can do is show them up with your bad â™¥â™¥â™¥ dance moves and put them to shame as you show them what true fashion and color combinations are.I know this game says for kids but, this is easily for any age range and any age will have a blast playing this.8/8' }, { \"funny\": \"\", \"posted\": \"Posted September 8, 2013.\", \"last_edited\": \"\", \"item_id\": \"227300\", \"helpful\": \"0 of 1 people (0%) found this review helpful\", \"recommend\": true, \"review\": \"For a simple (it's actually not all that simple but it can be!) truck driving Simulator, it is quite a fun and relaxing game. Playing on simple (or easy?) its just the basic WASD keys for driving but (if you want) the game can be much harder and realistic with having to manually change gears, much harder turning, etc. And reversing in this game is a â™¥â™¥â™¥â™¥â™¥, as I imagine it would be with an actual truck. Luckily, you don't have to reverse park it but you get extra points if you do cause it is bloody hard. But this is suprisingly a nice truck driving game and I had a bit of fun with it.\" }, { \"funny\": \"\", \"posted\": \"Posted November 29, 2013.\", \"last_edited\": \"\", \"item_id\": \"239030\", \"helpful\": \"1 of 4 people (25%) found this review helpful\", \"recommend\": true, \"review\": 'Very fun little game to play when your bored or as a time passer. Very gud. Do Recommend. pls buy' } ] }\n",
    "{ \"user_id\": \"evcentric\", \"user_url\": \"http://steamcommunity.com/id/evcentric\", \"reviews\": [ { \"funny\": \"\", \"posted\": \"Posted February 3.\", \"last_edited\": \"\", \"item_id\": \"248820\", \"helpful\": \"No ratings yet\", \"recommend\": true, \"review\": \"A suitably punishing roguelike platformer. Winning feels good. Progressive unlocks mean a good slog ending in failure doesn't feel like a waste.\" }, { \"funny\": \"\", \"posted\": \"Posted December 4, 2015.\", \"last_edited\": \"Last edited December 5, 2015.\", \"item_id\": \"370360\", \"helpful\": \"No ratings yet\", \"recommend\": true, \"review\": '\"Run for fun? What the hell kind of fun is that?\"' }, { \"funny\": \"\", \"posted\": \"Posted November 3, 2014.\", \"last_edited\": \"\", \"item_id\": \"237930\", \"helpful\": \"No ratings yet\", \"recommend\": true, \"review\": 'Elegant integration of gameplay, story, world development and aesthetic.' }, { \"funny\": \"\", \"posted\": \"Posted October 15, 2014.\", \"last_edited\": \"\", \"item_id\": \"263360\", \"helpful\": \"No ratings yet\", \"recommend\": true, \"review\": 'Random drops and random quests, with stat points. Animation style reminiscent of the era before the Voodoo card.' }, { \"funny\": \"\", \"posted\": \"Posted October 15, 2014.\", \"last_edited\": \"\", \"item_id\": \"107200\", \"helpful\": \"No ratings yet\", \"recommend\": true, \"review\": 'Fun balance of tactics and strategy. Potential for very rewarding battles on smaller maps. Can become a bit of a grind on larger maps (>200 stars).' }, { \"funny\": \"\", \"posted\": \"Posted October 15, 2014.\", \"last_edited\": \"\", \"item_id\": \"224500\", \"helpful\": \"No ratings yet\", \"recommend\": true, \"review\": 'Fun world builder, with plenty of option of how you want challenge served to you. Gnome pathing sometimes frustrating if you expand very very quickly.' } ] }\n",
    "\"\"\"\n",
    "\n",
    "with open(\"sample.json\", \"w\") as file:\n",
    "    file.write(json_data)\n",
    "\n",
    "# Leer el JSON desde el archivo local\n",
    "df_json = spark.read.option(\"multiLine\", \"true\").json(\"sample.json\")\n",
    "\n",
    "# Definir funciones para manejar la estructura anidada\n",
    "def flatten_reviews(df):\n",
    "    return df.select(\"user_id\", \"user_url\", explode_outer(\"reviews\").alias(\"review\"))\n",
    "\n",
    "def flatten_review(review_df):\n",
    "    return review_df.select(\"user_id\", \"user_url\", col(\"review.*\"))\n",
    "\n",
    "# Aplicar las transformaciones\n",
    "df_flattened = flatten_reviews(df_json)\n",
    "df_output = flatten_review(df_flattened)\n",
    "\n",
    "# Mostrar el resultado\n",
    "df_output.show(truncate=False)\n",
    "\n"
   ]
  },
  {
   "cell_type": "code",
   "execution_count": null,
   "metadata": {},
   "outputs": [],
   "source": []
  },
  {
   "cell_type": "markdown",
   "metadata": {},
   "source": [
    "### columnas con JSON parsing?"
   ]
  },
  {
   "cell_type": "code",
   "execution_count": null,
   "metadata": {},
   "outputs": [],
   "source": [
    "\n",
    "\n",
    "# Definir el JSON y guardarlo en un archivo local\n",
    "json_data = \"\"\"\n",
    "{ 'user_id': '76561197970982479', 'user_url': 'http://steamcommunity.com/profiles/76561197970982479', 'reviews': [ { 'funny': '', 'posted': 'Posted November 5, 2011.', 'last_edited': '', 'item_id': '1250', 'helpful': 'No ratings yet', 'recommend': true, 'review': 'Simple yet with great replayability. In my opinion does \"zombie\" hordes and team work better than left 4 dead plus has a global leveling system. Alot of down to earth \"zombie\" splattering fun for the whole family. Amazed this sort of FPS is so rare.' }, { 'funny': '', 'posted': 'Posted July 15, 2011.', 'last_edited': '', 'item_id': '22200', 'helpful': 'No ratings yet', 'recommend': true, 'review': \"It's unique and worth a playthrough.\" }, { 'funny': '', 'posted': 'Posted April 21, 2011.', 'last_edited': '', 'item_id': '43110', 'helpful': 'No ratings yet', 'recommend': true, 'review': 'Great atmosphere. The gunplay can be a bit chunky at times but at the end of the day this game is definitely worth it and I hope they do a sequel...so buy the game so I get a sequel!' } ] }\n",
    "{ 'user_id': 'js41637', 'user_url': 'http://steamcommunity.com/id/js41637', 'reviews': [ { 'funny': '', 'posted': 'Posted June 24, 2014.', 'last_edited': '', 'item_id': '251610', 'helpful': '15 of 20 people (75%) found this review helpful', 'recommend': true, 'review': 'I know what you think when you see this title \"Barbie Dreamhouse Party\" but do not be intimidated by it\\'s title, this is easily one of my GOTYs. You don\\'t get any of that cliche game mechanics that all the latest games have, this is simply good core gameplay. Yes, you can\\'t 360 noscope your friends, but what you can do is show them up with your bad â™¥â™¥â™¥ dance moves and put them to shame as you show them what true fashion and color combinations are.I know this game says for kids but, this is easily for any age range and any age will have a blast playing this.8/8' }, { 'funny': '', 'posted': 'Posted September 8, 2013.', 'last_edited': '', 'item_id': '227300', 'helpful': '0 of 1 people (0%) found this review helpful', 'recommend': true, 'review': \"For a simple (it's actually not all that simple but it can be!) truck driving Simulator, it is quite a fun and relaxing game. Playing on simple (or easy?) its just the basic WASD keys for driving but (if you want) the game can be much harder and realistic with having to manually change gears, much harder turning, etc. And reversing in this game is a â™¥â™¥â™¥â™¥â™¥, as I imagine it would be with an actual truck. Luckily, you don't have to reverse park it but you get extra points if you do cause it is bloody hard. But this is suprisingly a nice truck driving game and I had a bit of fun with it.\" }, { 'funny': '', 'posted': 'Posted November 29, 2013.', 'last_edited': '', 'item_id': '239030', 'helpful': '1 of 4 people (25%) found this review helpful', 'recommend': true, 'review': 'Very fun little game to play when your bored or as a time passer. Very gud. Do Recommend. pls buy' } ] }\n",
    "{ 'user_id': 'evcentric', 'user_url': 'http://steamcommunity.com/id/evcentric', 'reviews': [ { 'funny': '', 'posted': 'Posted February 3.', 'last_edited': '', 'item_id': '248820', 'helpful': 'No ratings yet', 'recommend': true, 'review': \"A suitably punishing roguelike platformer. Winning feels good. Progressive unlocks mean a good slog ending in failure doesn't feel like a waste.\" }, { 'funny': '', 'posted': 'Posted December 4, 2015.', 'last_edited': 'Last edited December 5, 2015.', 'item_id': '370360', 'helpful': 'No ratings yet', 'recommend': true, 'review': '\"Run for fun? What the hell kind of fun is that?\"' }, { 'funny': '', 'posted': 'Posted November 3, 2014.', 'last_edited': '', 'item_id': '237930', 'helpful': 'No ratings yet', 'recommend': true, 'review': 'Elegant integration of gameplay, story, world development and aesthetic.' }, { 'funny': '', 'posted': 'Posted October 15, 2014.', 'last_edited': '', 'item_id': '263360', 'helpful': 'No ratings yet', 'recommend': true, 'review': 'Random drops and random quests, with stat points. Animation style reminiscent of the era before the Voodoo card.' }, { 'funny': '', 'posted': 'Posted October 15, 2014.', 'last_edited': '', 'item_id': '107200', 'helpful': 'No ratings yet', 'recommend': true, 'review': 'Fun balance of tactics and strategy. Potential for very rewarding battles on smaller maps. Can become a bit of a grind on larger maps (>200 stars).' }, { 'funny': '', 'posted': 'Posted October 15, 2014.', 'last_edited': '', 'item_id': '224500', 'helpful': 'No ratings yet', 'recommend': true, 'review': 'Fun world builder, with plenty of option of how you want challenge served to you. Gnome pathing sometimes frustrating if you expand very very quickly.' } ] }\n",
    "\"\"\"\n",
    "\n",
    "with open(\"sample.json\", \"w\") as file:\n",
    "    file.write(json_data)\n",
    "\n",
    "# Leer el JSON desde el archivo local\n",
    "df_json = spark.read.option(\"multiLine\", \"true\").json(\"sample.json\")\n",
    "\n",
    "# Definir funciones para manejar la estructura anidada\n",
    "def flatten_reviews(df):\n",
    "    return df.select(\"user_id\", \"user_url\", explode_outer(\"reviews\").alias(\"review\"))\n",
    "\n",
    "def flatten_review(review_df):\n",
    "    return review_df.select(\"user_id\", \"user_url\", col(\"review.*\"))\n",
    "\n",
    "# Aplicar las transformaciones\n",
    "df_flattened = flatten_reviews(df_json)\n",
    "df_output = flatten_review(df_flattened)\n",
    "\n",
    "# Mostrar el resultado\n",
    "df_output.show(truncate=False)\n"
   ]
  },
  {
   "cell_type": "code",
   "execution_count": null,
   "metadata": {},
   "outputs": [],
   "source": []
  },
  {
   "cell_type": "markdown",
   "metadata": {},
   "source": [
    "## TRABAJO"
   ]
  },
  {
   "cell_type": "code",
   "execution_count": null,
   "metadata": {},
   "outputs": [],
   "source": [
    "import json\n",
    "df = spark.read.json(\"../datasets/raw/australian_user_reviews.json\")\n",
    "#df = spark.read.json(r\"C:\\\\Users\\\\ozi\\ti\\\\pry_ml_ops\\\\datasets\\\\raw\\\\australian_user_reviews.json\")\n",
    "# Ruta al archivo\n",
    "file_path = \"../datasets/raw/australian_user_reviews.json\"\n",
    "\n",
    "# Leer el contenido del archivo con codificación utf-8\n",
    "with open(file_path, 'r', encoding='utf-8') as file:\n",
    "    json_data = file.read()\n",
    "\n",
    "# Imprimir el contenido del JSON para identificar el problema\n",
    "print(json_data)"
   ]
  },
  {
   "cell_type": "code",
   "execution_count": 70,
   "metadata": {},
   "outputs": [
    {
     "name": "stdout",
     "output_type": "stream",
     "text": [
      "+-----------------+----------------------------------------------------+-------+-----------+\n",
      "|user_id          |user_url                                            |reviews|num_reviews|\n",
      "+-----------------+----------------------------------------------------+-------+-----------+\n",
      "|76561197970982479|http://steamcommunity.com/profiles/76561197970982479|[]     |0          |\n",
      "|js41637          |http://steamcommunity.com/id/js41637                |[]     |0          |\n",
      "|evcentric        |http://steamcommunity.com/id/evcentric              |[]     |0          |\n",
      "|doctr            |http://steamcommunity.com/id/doctr                  |[]     |0          |\n",
      "|maplemage        |http://steamcommunity.com/id/maplemage              |[]     |0          |\n",
      "|Wackky           |http://steamcommunity.com/id/Wackky                 |[]     |0          |\n",
      "|76561198079601835|http://steamcommunity.com/profiles/76561198079601835|[]     |0          |\n",
      "|MeaTCompany      |http://steamcommunity.com/id/MeaTCompany            |[]     |0          |\n",
      "|76561198089393905|http://steamcommunity.com/profiles/76561198089393905|[]     |0          |\n",
      "|76561198156664158|http://steamcommunity.com/profiles/76561198156664158|[]     |0          |\n",
      "|76561198077246154|http://steamcommunity.com/profiles/76561198077246154|[]     |0          |\n",
      "|WeiEDKrSat       |http://steamcommunity.com/id/WeiEDKrSat             |[]     |0          |\n",
      "|thequeenpanda    |http://steamcommunity.com/id/thequeenpanda          |[]     |0          |\n",
      "|death-hunter     |http://steamcommunity.com/id/death-hunter           |[]     |0          |\n",
      "|DJKamBer         |http://steamcommunity.com/id/DJKamBer               |[]     |0          |\n",
      "|Rainbow-Dashie   |http://steamcommunity.com/id/Rainbow-Dashie         |[]     |0          |\n",
      "|76561198043472122|http://steamcommunity.com/profiles/76561198043472122|[]     |0          |\n",
      "|MarbleShrine     |http://steamcommunity.com/id/MarbleShrine           |[]     |0          |\n",
      "|PPanther         |http://steamcommunity.com/id/PPanther               |[]     |0          |\n",
      "|devvonst         |http://steamcommunity.com/id/devvonst               |[]     |0          |\n",
      "+-----------------+----------------------------------------------------+-------+-----------+\n",
      "only showing top 20 rows\n",
      "\n"
     ]
    }
   ],
   "source": [
    "from pyspark.sql.functions import size, col, coalesce\n",
    "\n",
    "# Definir el esquema detallado para \"reviews\"\n",
    "review_schema = StructType([\n",
    "    StructField(\"funny\", StringType(), True),\n",
    "    StructField(\"posted\", StringType(), True),\n",
    "    StructField(\"last_edited\", StringType(), True),\n",
    "    StructField(\"item_id\", StringType(), True),\n",
    "    StructField(\"helpful\", StringType(), True),\n",
    "    StructField(\"recommend\", BooleanType(), True),\n",
    "    StructField(\"review\", StringType(), True),\n",
    "])\n",
    "\n",
    "# Definir el esquema principal\n",
    "main_schema = StructType([\n",
    "    StructField(\"user_id\", StringType(), True),\n",
    "    StructField(\"user_url\", StringType(), True),\n",
    "    StructField(\"reviews\", ArrayType(review_schema), True),\n",
    "])\n",
    "\n",
    "# Cargar los datos en un DataFrame aplicando el esquema\n",
    "df = spark.read.json(\"../datasets/raw/australian_user_reviews.json\", schema=main_schema)\n",
    "\n",
    "# Reemplazar valores nulos en la columna 'reviews' con un array vacío\n",
    "df_fixed_reviews = df.withColumn('reviews', coalesce('reviews', array()))\n",
    "\n",
    "# Agregar una nueva columna 'num_reviews' que contiene el tamaño del array 'reviews'\n",
    "df_with_num_reviews_fixed = df_fixed_reviews.withColumn('num_reviews', size('reviews'))\n",
    "\n",
    "# Mostrar el resultado\n",
    "df_with_num_reviews_fixed.show(truncate=False)\n"
   ]
  },
  {
   "cell_type": "code",
   "execution_count": 71,
   "metadata": {},
   "outputs": [
    {
     "name": "stdout",
     "output_type": "stream",
     "text": [
      "Columna 'user_id': 0 nulos\n",
      "Columna 'user_url': 0 nulos\n",
      "Columna 'reviews': 25771 nulos\n"
     ]
    }
   ],
   "source": [
    "# Contar nulos por columna\n",
    "for column in df.columns:\n",
    "    print(f\"Columna '{column}': {df.filter(col(column).isNull()).count()} nulos\")"
   ]
  },
  {
   "cell_type": "code",
   "execution_count": 72,
   "metadata": {},
   "outputs": [
    {
     "name": "stdout",
     "output_type": "stream",
     "text": [
      "(25799, 3)\n"
     ]
    }
   ],
   "source": [
    "print((df.count(), len(df.columns)))"
   ]
  },
  {
   "cell_type": "code",
   "execution_count": 75,
   "metadata": {},
   "outputs": [
    {
     "name": "stdout",
     "output_type": "stream",
     "text": [
      "root\n",
      " |-- user_id: string (nullable = true)\n",
      " |-- user_url: string (nullable = true)\n",
      " |-- reviews: array (nullable = true)\n",
      " |    |-- element: struct (containsNull = true)\n",
      " |    |    |-- funny: string (nullable = true)\n",
      " |    |    |-- posted: string (nullable = true)\n",
      " |    |    |-- last_edited: string (nullable = true)\n",
      " |    |    |-- item_id: string (nullable = true)\n",
      " |    |    |-- helpful: string (nullable = true)\n",
      " |    |    |-- recommend: boolean (nullable = true)\n",
      " |    |    |-- review: string (nullable = true)\n",
      "\n",
      "+-----------------+----------------------------------------------------+-------+\n",
      "|user_id          |user_url                                            |reviews|\n",
      "+-----------------+----------------------------------------------------+-------+\n",
      "|76561197970982479|http://steamcommunity.com/profiles/76561197970982479|NULL   |\n",
      "|js41637          |http://steamcommunity.com/id/js41637                |NULL   |\n",
      "|evcentric        |http://steamcommunity.com/id/evcentric              |NULL   |\n",
      "|doctr            |http://steamcommunity.com/id/doctr                  |NULL   |\n",
      "|maplemage        |http://steamcommunity.com/id/maplemage              |NULL   |\n",
      "|Wackky           |http://steamcommunity.com/id/Wackky                 |NULL   |\n",
      "|76561198079601835|http://steamcommunity.com/profiles/76561198079601835|NULL   |\n",
      "|MeaTCompany      |http://steamcommunity.com/id/MeaTCompany            |NULL   |\n",
      "|76561198089393905|http://steamcommunity.com/profiles/76561198089393905|NULL   |\n",
      "|76561198156664158|http://steamcommunity.com/profiles/76561198156664158|NULL   |\n",
      "|76561198077246154|http://steamcommunity.com/profiles/76561198077246154|NULL   |\n",
      "|WeiEDKrSat       |http://steamcommunity.com/id/WeiEDKrSat             |NULL   |\n",
      "|thequeenpanda    |http://steamcommunity.com/id/thequeenpanda          |NULL   |\n",
      "|death-hunter     |http://steamcommunity.com/id/death-hunter           |NULL   |\n",
      "|DJKamBer         |http://steamcommunity.com/id/DJKamBer               |NULL   |\n",
      "|Rainbow-Dashie   |http://steamcommunity.com/id/Rainbow-Dashie         |NULL   |\n",
      "|76561198043472122|http://steamcommunity.com/profiles/76561198043472122|NULL   |\n",
      "|MarbleShrine     |http://steamcommunity.com/id/MarbleShrine           |NULL   |\n",
      "|PPanther         |http://steamcommunity.com/id/PPanther               |NULL   |\n",
      "|devvonst         |http://steamcommunity.com/id/devvonst               |NULL   |\n",
      "+-----------------+----------------------------------------------------+-------+\n",
      "only showing top 20 rows\n",
      "\n"
     ]
    }
   ],
   "source": [
    "from pyspark.sql.types import StructType, StructField, StringType, BooleanType, ArrayType \n",
    "\n",
    "# Definir el esquema para cada review\n",
    "review_schema = StructType([\n",
    "    StructField(\"funny\", StringType(), True),\n",
    "    StructField(\"posted\", StringType(), True),\n",
    "    StructField(\"last_edited\", StringType(), True),\n",
    "    StructField(\"item_id\", StringType(), True),\n",
    "    StructField(\"helpful\", StringType(), True),  \n",
    "    StructField(\"recommend\", BooleanType(), True),\n",
    "    StructField(\"review\", StringType(), True)\n",
    "])\n",
    "\n",
    "# Definir el esquema principal con el array de reviews\n",
    "main_schema = StructType([\n",
    "  StructField(\"user_id\", StringType(), True),\n",
    "  StructField(\"user_url\", StringType(), True),\n",
    "  StructField(\"reviews\", ArrayType(review_schema), True)  \n",
    "])\n",
    "\n",
    "# Leer el JSON aplicando el esquema\n",
    "df = spark.read.schema(main_schema).json(\"../datasets/raw/australian_user_reviews.json\")\n",
    "\n",
    "# Verificar que se leyó correctamente\n",
    "df.printSchema()  \n",
    "df.show(truncate=False)"
   ]
  },
  {
   "cell_type": "code",
   "execution_count": null,
   "metadata": {},
   "outputs": [],
   "source": []
  },
  {
   "cell_type": "markdown",
   "metadata": {},
   "source": [
    "## basic por soliconar "
   ]
  },
  {
   "cell_type": "code",
   "execution_count": null,
   "metadata": {},
   "outputs": [],
   "source": [
    "from pyspark.sql import SparkSession\n",
    "from pyspark.sql.types import StructType, StructField, StringType, DoubleType, IntegerType, BooleanType\n",
    "from pyspark.sql.functions import from_json, col\n",
    "\n",
    "# Create a Spark session\n",
    "spark = SparkSession.builder.appName(\"LecturaJSON\").getOrCreate()\n",
    "\n",
    "# Load the DataFrame\n",
    "df = spark.read.text(\"../datasets/raw/steam_reviews.json.gz\")\n",
    "\n",
    "# Define the schema for the JSON content\n",
    "json_schema = StructType([\n",
    "    StructField(\"username\", StringType(), True),\n",
    "    StructField(\"hours\", DoubleType(), True),\n",
    "    StructField(\"products\", IntegerType(), True),\n",
    "    StructField(\"product_id\", StringType(), True),\n",
    "    StructField(\"page_order\", IntegerType(), True),\n",
    "    StructField(\"date\", StringType(), True),\n",
    "    StructField(\"text\", StringType(), True),\n",
    "    StructField(\"early_access\", BooleanType(), True),\n",
    "    StructField(\"page\", IntegerType(), True)\n",
    "])\n",
    "\n",
    "# Apply the schema using the from_json function directly to the value column\n",
    "df = df.withColumn(\"data\", from_json(col(\"value\"), json_schema))\n",
    "\n",
    "# Select the columns from the nested structure\n",
    "reviews_df = df.select(\"data.*\")\n",
    "\n",
    "\n",
    "\n",
    "df.show(5, truncate=False)\n",
    "# Show the schema and some rows\n",
    "reviews_df.printSchema()\n",
    "reviews_df.show(5, truncate=False)\n"
   ]
  },
  {
   "cell_type": "code",
   "execution_count": null,
   "metadata": {},
   "outputs": [],
   "source": []
  },
  {
   "cell_type": "markdown",
   "metadata": {},
   "source": [
    "## Leer de froma basica con caracteres"
   ]
  },
  {
   "cell_type": "code",
   "execution_count": null,
   "metadata": {},
   "outputs": [],
   "source": [
    "def clean_text(text):\n",
    "    # Reemplazar caracteres no ASCII con un espacio en blanco\n",
    "    cleaned_text = ''.join(char if ord(char) < 128 else ' ' for char in text)\n",
    "    return cleaned_text\n",
    "\n",
    "def read_and_clean_reviews(file_path):\n",
    "    cleaned_reviews = []\n",
    "    with open(file_path, 'r', encoding='utf-8') as file:\n",
    "        for line in file:\n",
    "            try:\n",
    "                # Limpiar caracteres no ASCII\n",
    "                cleaned_line = clean_text(line)\n",
    "                \n",
    "                # Convertir la línea limpiada a un diccionario\n",
    "                review_dict = eval(cleaned_line)\n",
    "                \n",
    "                # Agregar el diccionario limpiado a la lista de revisiones\n",
    "                cleaned_reviews.append(review_dict)\n",
    "            except Exception as e:\n",
    "                print(f\"Error al procesar la línea: {line}\")\n",
    "                print(f\"Error: {e}\")\n",
    "    \n",
    "    return cleaned_reviews\n",
    "\n",
    "# Ejemplo de uso\n",
    "file_path = 'australian_user_reviews.json'  # Reemplaza 'ruta_del_archivo.txt' con la ruta real de tu archivo\n",
    "reviews = read_and_clean_reviews(file_path)\n",
    "\n",
    "# Ahora 'reviews' es una lista de diccionarios con las revisiones limpias\n",
    "for review in reviews:\n",
    "    print(review)\n"
   ]
  },
  {
   "cell_type": "code",
   "execution_count": null,
   "metadata": {},
   "outputs": [],
   "source": []
  },
  {
   "cell_type": "markdown",
   "metadata": {},
   "source": [
    "## Leer un json a pyspark"
   ]
  },
  {
   "cell_type": "code",
   "execution_count": null,
   "metadata": {},
   "outputs": [],
   "source": [
    "\n",
    "def clean_text(text):\n",
    "    # Reemplazar caracteres no ASCII con un espacio en blanco\n",
    "    cleaned_text = ''.join(char if ord(char) < 128 else ' ' for char in text)\n",
    "    return cleaned_text\n",
    "\n",
    "def read_and_clean_reviews(file_path):\n",
    "    cleaned_reviews = []\n",
    "    with open(file_path, 'r', encoding='utf-8') as file:\n",
    "        for line in file:\n",
    "            try:\n",
    "                # Limpiar caracteres no ASCII\n",
    "                cleaned_line = clean_text(line)\n",
    "                \n",
    "                # Convertir la línea limpiada a un diccionario\n",
    "                review_dict = eval(cleaned_line)\n",
    "                \n",
    "                # Agregar el diccionario limpiado a la lista de revisiones\n",
    "                cleaned_reviews.append(review_dict)\n",
    "            except Exception as e:\n",
    "                print(f\"Error al procesar la línea: {line}\")\n",
    "                print(f\"Error: {e}\")\n",
    "    \n",
    "    return cleaned_reviews\n",
    "\n",
    "# Ejemplo de uso\n",
    "file_path = 'australian_user_reviews.json'  # Reemplaza 'ruta_del_archivo.txt' con la ruta real de tu archivo\n",
    "reviews = read_and_clean_reviews(file_path)\n",
    "\n",
    "# Crear una lista de tuplas con la información necesaria\n",
    "data = []\n",
    "for review in reviews:\n",
    "    user_id = review['user_id']\n",
    "    user_url = review['user_url']\n",
    "    user_reviews = review.get('reviews', [])\n",
    "    \n",
    "    for user_review in user_reviews:\n",
    "        item_id = user_review.get('item_id', '')\n",
    "        recommend = user_review.get('recommend', False)\n",
    "        review_text = user_review.get('review', '')\n",
    "        funny = user_review.get('funny', '')\n",
    "        posted = user_review.get('posted', '')\n",
    "        last_edited = user_review.get('last_edited', '')\n",
    "        helpful = user_review.get('helpful', '')\n",
    "\n",
    "        data.append((user_id, user_url, item_id, recommend, review_text, funny, posted, last_edited, helpful))\n",
    "\n",
    "# Crear el esquema del DataFrame\n",
    "schema = StructType([\n",
    "    StructField(\"user_id\", StringType(), True),\n",
    "    StructField(\"user_url\", StringType(), True),\n",
    "    StructField(\"item_id\", StringType(), True),\n",
    "    StructField(\"recommend\", BooleanType(), True),\n",
    "    StructField(\"review\", StringType(), True),\n",
    "    StructField(\"funny\", StringType(), True),\n",
    "    StructField(\"posted\", StringType(), True),\n",
    "    StructField(\"last_edited\", StringType(), True),\n",
    "    StructField(\"helpful\", StringType(), True)\n",
    "])\n",
    "\n",
    "# Crear el DataFrame de PySpark\n",
    "df = spark.createDataFrame(data, schema=schema)\n",
    "\n",
    "# Mostrar el DataFrame\n",
    "df.show(truncate=False)\n",
    "\n",
    "# Detener la sesión de Spark\n",
    "#spark.stop()\n"
   ]
  },
  {
   "cell_type": "code",
   "execution_count": null,
   "metadata": {},
   "outputs": [],
   "source": []
  },
  {
   "cell_type": "code",
   "execution_count": null,
   "metadata": {},
   "outputs": [],
   "source": []
  },
  {
   "cell_type": "code",
   "execution_count": null,
   "metadata": {},
   "outputs": [],
   "source": []
  },
  {
   "cell_type": "code",
   "execution_count": null,
   "metadata": {},
   "outputs": [],
   "source": []
  }
 ],
 "metadata": {
  "kernelspec": {
   "display_name": "evstack",
   "language": "python",
   "name": "python3"
  },
  "language_info": {
   "codemirror_mode": {
    "name": "ipython",
    "version": 3
   },
   "file_extension": ".py",
   "mimetype": "text/x-python",
   "name": "python",
   "nbconvert_exporter": "python",
   "pygments_lexer": "ipython3",
   "version": "3.10.11"
  }
 },
 "nbformat": 4,
 "nbformat_minor": 2
}
